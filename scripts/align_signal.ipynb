{
 "cells": [
  {
   "cell_type": "code",
   "execution_count": 5,
   "metadata": {},
   "outputs": [
    {
     "ename": "ModuleNotFoundError",
     "evalue": "No module named 'csamtools'",
     "output_type": "error",
     "traceback": [
      "\u001b[1;31m---------------------------------------------------------------------------\u001b[0m",
      "\u001b[1;31mModuleNotFoundError\u001b[0m                       Traceback (most recent call last)",
      "Cell \u001b[1;32mIn[5], line 5\u001b[0m\n\u001b[0;32m      3\u001b[0m \u001b[39mfrom\u001b[39;00m \u001b[39mont_fast5_api\u001b[39;00m\u001b[39m.\u001b[39;00m\u001b[39mfast5_interface\u001b[39;00m \u001b[39mimport\u001b[39;00m get_fast5_file\n\u001b[0;32m      4\u001b[0m \u001b[39mimport\u001b[39;00m \u001b[39mpod5\u001b[39;00m \u001b[39mas\u001b[39;00m \u001b[39mp5\u001b[39;00m\n\u001b[1;32m----> 5\u001b[0m \u001b[39mimport\u001b[39;00m \u001b[39mpysam_windows\u001b[39;00m \u001b[39mas\u001b[39;00m \u001b[39mpysam\u001b[39;00m\n",
      "File \u001b[1;32me:\\environment\\anaconda\\envs\\deepsignal\\lib\\site-packages\\pysam_windows\\__init__.py:1\u001b[0m\n\u001b[1;32m----> 1\u001b[0m \u001b[39mfrom\u001b[39;00m \u001b[39mcsamtools\u001b[39;00m \u001b[39mimport\u001b[39;00m \u001b[39m*\u001b[39m\n\u001b[0;32m      2\u001b[0m \u001b[39mfrom\u001b[39;00m \u001b[39mctabix\u001b[39;00m \u001b[39mimport\u001b[39;00m \u001b[39m*\u001b[39m\n\u001b[0;32m      3\u001b[0m \u001b[39mimport\u001b[39;00m \u001b[39mcsamtools\u001b[39;00m\n",
      "\u001b[1;31mModuleNotFoundError\u001b[0m: No module named 'csamtools'"
     ]
    }
   ],
   "source": [
    "#import h5py\n",
    "import numpy as np\n",
    "from ont_fast5_api.fast5_interface import get_fast5_file\n",
    "import pod5 as p5\n",
    "#import pysam\n",
    "\n",
    "#import hdf5plugin\n",
    "#import os\n",
    "#os.environ[\"HDF5_PLUGIN_PATH\"] = hdf5plugin.PLUGINS_PATH"
   ]
  },
  {
   "cell_type": "code",
   "execution_count": 99,
   "metadata": {},
   "outputs": [],
   "source": [
    "def extract_signal_from_fast5(fast5_path):\n",
    "    signals=dict()\n",
    "    with h5py.File(fast5_path, 'r') as f:\n",
    "        for read_id in f.keys():\n",
    "            read = f[read_id]\n",
    "            #print(read_id)\n",
    "            signal_list=list(read['Raw/Signal'])\n",
    "            signals.update({read_id:signal_list})\n",
    "            if read_id==\"read_000fbb44-2802-4071-91e6-655ad5188f24\":\n",
    "                for i in signal_list:\n",
    "                    print(i)\n",
    "    return signals\n",
    "f=h5py.File(fast5_path, \"r\")\n",
    "read = f[\"read_000fbb44-2802-4071-91e6-655ad5188f24\"]\n",
    "\n",
    "h5py.run_tests()"
   ]
  },
  {
   "attachments": {},
   "cell_type": "markdown",
   "metadata": {},
   "source": [
    "因为vbz压缩问题，上面代码实际解析不了，暂时性废弃"
   ]
  },
  {
   "cell_type": "code",
   "execution_count": 102,
   "metadata": {},
   "outputs": [],
   "source": [
    "def extract_signal_from_fast5(fast5_path):\n",
    "    signals=dict()\n",
    "    with get_fast5_file(fast5_path, 'r') as f:\n",
    "        for read in f.get_reads():\n",
    "            raw_data = read.get_raw_data()\n",
    "            #print(read.read_id, raw_data)\n",
    "            signals.update({read.read_id:raw_data})\n",
    "    return signals"
   ]
  },
  {
   "cell_type": "code",
   "execution_count": 103,
   "metadata": {},
   "outputs": [],
   "source": [
    "# Example usage\n",
    "fast5_path = 'D:\\experiment\\deepsignal2\\data\\example\\PAG65784_pass_f306681d_16a70748_999.fast5'\n",
    "signal = extract_signal_from_fast5(fast5_path)"
   ]
  },
  {
   "cell_type": "code",
   "execution_count": 110,
   "metadata": {},
   "outputs": [],
   "source": [
    "def extract_signal_from_pod5(pod5_path):\n",
    "    signals=dict()\n",
    "    with p5.Reader(pod5_path) as reader:\n",
    "        for read_record in reader.reads():\n",
    "            #print(read_record.signal)\n",
    "            signals.update({read_record.read_id:read_record.signal})\n",
    "    return signals\n",
    "    "
   ]
  },
  {
   "cell_type": "code",
   "execution_count": null,
   "metadata": {},
   "outputs": [],
   "source": [
    "pod5_path = 'D:\\experiment\\deepsignal2\\data\\example\\output.pod5'\n",
    "signal = extract_signal_from_pod5(pod5_path)"
   ]
  },
  {
   "cell_type": "code",
   "execution_count": 6,
   "metadata": {},
   "outputs": [
    {
     "data": {
      "text/plain": [
       "True"
      ]
     },
     "execution_count": 6,
     "metadata": {},
     "output_type": "execute_result"
    }
   ],
   "source": [
    "pod5_path = 'D:\\experiment\\deepsignal2\\data\\example\\output.pod5'\n",
    "reader=p5.Reader(pod5_path)\n",
    "reader.is_vbz_compressed\n"
   ]
  },
  {
   "cell_type": "code",
   "execution_count": null,
   "metadata": {},
   "outputs": [],
   "source": [
    "import pysam\n",
    "\n",
    "def extract_seq_from_bam(bam_path):\n",
    "    read_dict=dict()\n",
    "    bamfile = pysam.AlignmentFile(bam_path, \"rb\")\n",
    "    for read in bamfile.fetch():\n",
    "        read_dict.update({read.query_name:read.query_sequence})\n",
    "        #print(read.query_sequence)\n",
    "    return read_dict"
   ]
  }
 ],
 "metadata": {
  "kernelspec": {
   "display_name": "Python 3",
   "language": "python",
   "name": "python3"
  },
  "language_info": {
   "codemirror_mode": {
    "name": "ipython",
    "version": 3
   },
   "file_extension": ".py",
   "mimetype": "text/x-python",
   "name": "python",
   "nbconvert_exporter": "python",
   "pygments_lexer": "ipython3",
   "version": "3.10.11"
  },
  "orig_nbformat": 4
 },
 "nbformat": 4,
 "nbformat_minor": 2
}
