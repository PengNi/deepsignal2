{
 "cells": [
  {
   "cell_type": "code",
   "execution_count": 1,
   "metadata": {},
   "outputs": [],
   "source": [
    "import os\n",
    "import torch\n",
    "import torch.nn as nn\n",
    "import torch.nn.functional as F\n",
    "import numpy as np\n",
    "import argparse"
   ]
  },
  {
   "cell_type": "code",
   "execution_count": 13,
   "metadata": {},
   "outputs": [],
   "source": [
    "def parse_args():\n",
    "    parser = argparse.ArgumentParser()\n",
    "    parser.add_argument(\n",
    "        \"--conv-in\", type=int, default=4, help=\"Input sequence features\"\n",
    "    )\n",
    "    parser.add_argument(\"--batch_size\", type=int, default=512, required=False)\n",
    "    parser.add_argument(\"--step_interval\", type=int, default=100, required=False)\n",
    "    parser.add_argument(\"--lr\", type=float, default=0.0001, required=False)\n",
    "    parser.add_argument(\n",
    "        \"--train-file\",\n",
    "        type=str,\n",
    "        help=\"feature file used in trainning\",\n",
    "        default=\"/home/xiaoyf/methylation/deepsignal/log/feature.txt\",\n",
    "    )\n",
    "    parser.add_argument(\n",
    "        \"--model_dir\", type=str, default=\"/home/xiaoyf/methylation/deepsignal/log/\"\n",
    "    )\n",
    "    parser.add_argument(\n",
    "        \"--max_epoch_num\",\n",
    "        action=\"store\",\n",
    "        default=10,\n",
    "        type=int,\n",
    "        required=False,\n",
    "        help=\"max epoch num, default 10\",\n",
    "    )\n",
    "    parser.add_argument(\n",
    "        \"--min_epoch_num\",\n",
    "        action=\"store\",\n",
    "        default=5,\n",
    "        type=int,\n",
    "        required=False,\n",
    "        help=\"min epoch num, default 5\",\n",
    "    )\n",
    "    return parser.parse_args([])"
   ]
  },
  {
   "cell_type": "code",
   "execution_count": 3,
   "metadata": {},
   "outputs": [],
   "source": [
    "def squash(tensor, dim=-1):\n",
    "    squared_norm = (tensor**2).sum(dim=dim, keepdim=True)\n",
    "    scale = squared_norm / (1 + squared_norm)\n",
    "    return scale * tensor / torch.sqrt(squared_norm)"
   ]
  },
  {
   "cell_type": "code",
   "execution_count": 4,
   "metadata": {},
   "outputs": [],
   "source": [
    "class Squash(nn.Module):\n",
    "    def __init__(self, eps=10e-21, **kwargs):\n",
    "        super(Squash, self).__init__(**kwargs)\n",
    "        self.eps = eps\n",
    "\n",
    "    def forward(self, s):\n",
    "        n = torch.norm(s, dim=-1, keepdim=True)\n",
    "        return (1 - 1 / (torch.exp(n) + self.eps)) * (s / (n + self.eps))"
   ]
  },
  {
   "cell_type": "code",
   "execution_count": 5,
   "metadata": {},
   "outputs": [],
   "source": [
    "def dynamic_routing(x, iterations=3):\n",
    "    #x = x.unsqueeze(-1)\n",
    "    N = x.shape[1]  # num_caps\n",
    "    N1 = x.shape[2]  # in_caps\n",
    "    B = x.shape[0]\n",
    "    # feature_dim = x.shape[2]\n",
    "    #x:batch_size, num_caps, in_caps, out_channels\n",
    "    b = torch.zeros(B, N, N1,1).to(x.device)#batch_size, num_caps, in_caps\n",
    "    for _ in range(iterations):\n",
    "        #print('input x\\'s batch_size: {}, num_caps: {}, in_caps: {}, out_channels: {}'.format(x.shape[0], x.shape[1], x.shape[2], x.shape[3]))\n",
    "        c = F.softmax(b, dim=1)#Softmax along num_caps\n",
    "        #batch_size, num_caps,caps_dim\n",
    "        #print('softmax result\\'s batch_size: {}, num_caps: {}, in_caps: {}, softmax_result: {}'.format(c.shape[0], c.shape[1], c.shape[2], c.shape[3]))\n",
    "        a = c*x\n",
    "        #print('a\\'s batch_size: {}, num_caps: {}, in_caps: {}, out_channels: {}'.format(a.shape[0], a.shape[1], a.shape[2], a.shape[3]))\n",
    "        s = torch.sum(a, dim=2).squeeze(-1)#sum across in_caps\n",
    "        #print('s\\'s batch_size: {}, num_caps: {}, out_channels: {}'.format(s.shape[0], s.shape[1], s.shape[2]))\n",
    "        v = squash(s)# apply \"squashing\" non-linearity along out_channels\n",
    "        #print('v\\'s batch_size: {}, num_caps: {}, out_channels: {}'.format(v.shape[0], v.shape[1], v.shape[2]))\n",
    "        #print('x shape: {}'.format(x.shape))\n",
    "        y = torch.matmul(x,v.unsqueeze(-1))\n",
    "        #print('y shape: {}'.format(y.shape))\n",
    "        #print('b shape: {}'.format(b.shape))\n",
    "        b = b + y\n",
    "\n",
    "    return v"
   ]
  },
  {
   "cell_type": "code",
   "execution_count": 110,
   "metadata": {},
   "outputs": [
    {
     "name": "stdout",
     "output_type": "stream",
     "text": [
      "input x's batch_size: 2, num_caps: 2, in_caps: 5, out_channels: 205\n",
      "softmax result's batch_size: 2, num_caps: 2, in_caps: 5, softmax_result: 1\n",
      "a's batch_size: 2, num_caps: 2, in_caps: 5, out_channels: 205\n",
      "s's batch_size: 2, num_caps: 2, out_channels: 205\n",
      "v's batch_size: 2, num_caps: 2, out_channels: 205\n",
      "x shape: torch.Size([2, 2, 5, 205])\n",
      "y shape: torch.Size([2, 2, 5, 1])\n",
      "b shape: torch.Size([2, 2, 5, 1])\n",
      "input x's batch_size: 2, num_caps: 2, in_caps: 5, out_channels: 205\n",
      "softmax result's batch_size: 2, num_caps: 2, in_caps: 5, softmax_result: 1\n",
      "a's batch_size: 2, num_caps: 2, in_caps: 5, out_channels: 205\n",
      "s's batch_size: 2, num_caps: 2, out_channels: 205\n",
      "v's batch_size: 2, num_caps: 2, out_channels: 205\n",
      "x shape: torch.Size([2, 2, 5, 205])\n",
      "y shape: torch.Size([2, 2, 5, 1])\n",
      "b shape: torch.Size([2, 2, 5, 1])\n",
      "input x's batch_size: 2, num_caps: 2, in_caps: 5, out_channels: 205\n",
      "softmax result's batch_size: 2, num_caps: 2, in_caps: 5, softmax_result: 1\n",
      "a's batch_size: 2, num_caps: 2, in_caps: 5, out_channels: 205\n",
      "s's batch_size: 2, num_caps: 2, out_channels: 205\n",
      "v's batch_size: 2, num_caps: 2, out_channels: 205\n",
      "x shape: torch.Size([2, 2, 5, 205])\n",
      "y shape: torch.Size([2, 2, 5, 1])\n",
      "b shape: torch.Size([2, 2, 5, 1])\n",
      "torch.Size([2, 2, 205])\n"
     ]
    }
   ],
   "source": [
    "#x:batch_size, num_caps, in_caps, out_channels\n",
    "input_tensor=torch.randn(2, 2, 5,205)\n",
    "print(dynamic_routing(input_tensor).shape)"
   ]
  },
  {
   "cell_type": "code",
   "execution_count": null,
   "metadata": {},
   "outputs": [],
   "source": [
    "import torch.nn as nn\n",
    "\n",
    "# Define the input and output channels\n",
    "in_channels = 2\n",
    "out_channels = 1\n",
    "\n",
    "# Define the kernel size and dilation\n",
    "kernel_size = 2\n",
    "\n",
    "# Define the 1D dilated convolution layers\n",
    "conv1d_list = nn.ModuleList()\n",
    "for dilation in range(1, 6):\n",
    "    padding = \"same\"\n",
    "    conv1d_list.append(\n",
    "        nn.Conv1d(\n",
    "            in_channels, out_channels, kernel_size, dilation=dilation, padding=padding\n",
    "        )\n",
    "    )\n",
    "\n",
    "# Define the input tensor\n",
    "input_tensor = torch.randn(1, in_channels, 21 * 5)\n",
    "\n",
    "# Apply the 1D dilated convolutions to the input tensor\n",
    "output_tensor_list = []\n",
    "for conv1d in conv1d_list:\n",
    "    print(conv1d(input_tensor).shape)\n",
    "    output_tensor_list.append(conv1d(input_tensor))\n",
    "\n",
    "# Concatenate the output tensors along the channel dimension\n",
    "output_tensor = torch.cat(output_tensor_list, dim=1)\n",
    "\n",
    "print(output_tensor.shape)\n",
    "print(dynamic_routing(output_tensor).shape)"
   ]
  },
  {
   "cell_type": "code",
   "execution_count": 16,
   "metadata": {},
   "outputs": [
    {
     "name": "stdout",
     "output_type": "stream",
     "text": [
      "torch.Size([1, 1, 5, 1, 1])\n",
      "torch.Size([1, 1, 5, 105, 1])\n",
      "torch.Size([1, 1, 105])\n"
     ]
    }
   ],
   "source": [
    "c = F.softmax(torch.zeros(1, 1, 5, 1, 1), dim=1)\n",
    "# print(c)\n",
    "print(c.shape)\n",
    "x = torch.randn(1, 5, 21 * 5, 1)\n",
    "a = x.matmul(c)\n",
    "# print(a)\n",
    "print(a.shape)\n",
    "s = torch.sum(x.matmul(c), dim=2).squeeze(-1)\n",
    "# print(s)\n",
    "print(s.shape)"
   ]
  },
  {
   "cell_type": "code",
   "execution_count": 6,
   "metadata": {},
   "outputs": [
    {
     "name": "stderr",
     "output_type": "stream",
     "text": [
      "/home/xiaoyf/anaconda3/envs/deepsignal/lib/python3.8/site-packages/torch/nn/modules/conv.py:309: UserWarning: Using padding='same' with even kernel lengths and odd dilation may require a zero-padded copy of the input be created (Triggered internally at /home/builder/cbouss/pytorch/croot/pytorch_1685629640362/work/aten/src/ATen/native/Convolution.cpp:895.)\n",
      "  return F.conv1d(input, weight, bias, self.stride,\n"
     ]
    },
    {
     "name": "stdout",
     "output_type": "stream",
     "text": [
      "torch.Size([1, 5, 105])\n"
     ]
    }
   ],
   "source": [
    "class PrimaryCapsuleLayer(nn.Module):\n",
    "    \"\"\"\n",
    "    Create a primary capsule layer with the methodology described in 'Efficient-CapsNet: Capsule Network with Self-Attention Routing'.\n",
    "    Properties of each capsule s_n are exatracted using a 1D depthwise convolution.\n",
    "\n",
    "    ...\n",
    "\n",
    "    Attributes\n",
    "    ----------\n",
    "    kernel_size[w]: int\n",
    "        depthwise conv kernel dimension\n",
    "    conv_num: int\n",
    "        number of primary capsules\n",
    "    feature_dimension: int\n",
    "        primary capsules dimension (number of properties)\n",
    "    conv_stride: int\n",
    "        depthwise conv strides\n",
    "    Methods\n",
    "    -------\n",
    "    forward(inputs)\n",
    "        compute the primary capsule layer\n",
    "    \"\"\"\n",
    "\n",
    "    def __init__(\n",
    "        self,\n",
    "        conv_in=2,\n",
    "        feature_dimension=21 * 5,\n",
    "        kernel_size=2,\n",
    "        conv_num=5,\n",
    "        base_num=21,\n",
    "    ):\n",
    "        super().__init__()\n",
    "        \n",
    "        self.conv_out = feature_dimension // (conv_num * base_num)\n",
    "        self.conv_num = conv_num\n",
    "        self.primary_capsule_layer = nn.ModuleList(\n",
    "            [\n",
    "                nn.Conv1d(\n",
    "                    conv_in,\n",
    "                    self.conv_out,\n",
    "                    kernel_size,\n",
    "                    dilation=conv_stride,\n",
    "                    padding=\"same\",\n",
    "                )\n",
    "                for conv_stride in range(1, conv_num + 1)\n",
    "            ]\n",
    "        )\n",
    "\n",
    "    def forward(self, x):\n",
    "        \n",
    "        #print('input feature shape: {}'.format(x.shape))\n",
    "        capsules = [conv(x) for conv in self.primary_capsule_layer]\n",
    "        # capsules_reshaped = [\n",
    "        #    c.reshape(self.conv_num, self.feature_dimension) for c in capsules\n",
    "        # ]\n",
    "        output_tensor = torch.cat(capsules, dim=1)\n",
    "        return Squash()(output_tensor)\n",
    "\n",
    "\n",
    "def test_for_primary_capsule_layer():\n",
    "    input = torch.rand(1, 2, 105)\n",
    "    layer = PrimaryCapsuleLayer()\n",
    "    print(layer(input).shape)\n",
    "\n",
    "\n",
    "test_for_primary_capsule_layer()"
   ]
  },
  {
   "cell_type": "code",
   "execution_count": 28,
   "metadata": {},
   "outputs": [],
   "source": [
    "class CapsLayer(nn.Module):\n",
    "    def __init__(\n",
    "        self, num_capsules=1, in_caps=5, in_channels=105, out_channels=2\n",
    "    ):\n",
    "        super(CapsLayer, self).__init__()\n",
    "        self.W = nn.Parameter(\n",
    "            torch.randn(1, num_capsules, in_caps, out_channels, in_channels)\n",
    "        )\n",
    "        # print('W shape: {}'.format(self.W.shape))\n",
    "\n",
    "    def forward(self, x):\n",
    "        #print('CapsLayer input shape: {}'.format(x.shape))\n",
    "        x = x[:, None, ..., None]  # x.unsqueeze(1).unsqueeze(4)\n",
    "        # x = x.unsqueeze(-1)\n",
    "        #print('W shape: {}'.format(self.W.shape))\n",
    "        #print('CapsLayer input shape: {}'.format(x.shape))\n",
    "        # print('CapsLayer input expand shape: {}'.format(x[ :, :, None, :].shape))\n",
    "        # (batch_size, num_caps, num_route_nodes, out_channels, 1)\n",
    "        # print('x shape: {}'.format(x.shape))\n",
    "        u_hat = torch.matmul(self.W, x)  # (x @ self.W).squeeze(2)\n",
    "        # u=u_hat.squeeze(-1)\n",
    "        u_hat = u_hat.squeeze(-1)\n",
    "        #batch_size, num_caps, in_caps, out_channels\n",
    "        #print('u_hat\\'s batch_size: {}, num_caps: {}, in_caps: {}, out_channels: {}'.format(u_hat.shape[0], u_hat.shape[1], u_hat.shape[2], u_hat.shape[3]))\n",
    "        class_capsules = dynamic_routing(u_hat)\n",
    "        return class_capsules"
   ]
  },
  {
   "cell_type": "code",
   "execution_count": 54,
   "metadata": {},
   "outputs": [],
   "source": [
    "a = torch.rand(1, 10, 10, 20, 1)\n",
    "b = torch.rand(1, 1, 10, 1, 1)\n",
    "c = a.matmul(b)"
   ]
  },
  {
   "cell_type": "code",
   "execution_count": 107,
   "metadata": {},
   "outputs": [
    {
     "name": "stdout",
     "output_type": "stream",
     "text": [
      "CapsLayer input shape: torch.Size([2, 5, 105])\n",
      "W shape: torch.Size([1, 1, 5, 2, 105])\n",
      "CapsLayer input shape: torch.Size([2, 1, 5, 105, 1])\n",
      "u_hat's batch_size: 2, num_caps: 1, in_caps: 5, out_channels: 2\n",
      "input x's batch_size: 2, num_caps: 1, in_caps: 5, out_channels: 2\n",
      "softmax result's batch_size: 2, num_caps: 1, in_caps: 5, softmax_result: 1\n",
      "a's batch_size: 2, num_caps: 1, in_caps: 5, out_channels: 2\n",
      "s's batch_size: 2, num_caps: 1, out_channels: 2\n",
      "v's batch_size: 2, num_caps: 1, out_channels: 2\n",
      "x shape: torch.Size([2, 1, 5, 2])\n",
      "y shape: torch.Size([2, 1, 5, 1])\n",
      "b shape: torch.Size([2, 1, 5, 1])\n",
      "input x's batch_size: 2, num_caps: 1, in_caps: 5, out_channels: 2\n",
      "softmax result's batch_size: 2, num_caps: 1, in_caps: 5, softmax_result: 1\n",
      "a's batch_size: 2, num_caps: 1, in_caps: 5, out_channels: 2\n",
      "s's batch_size: 2, num_caps: 1, out_channels: 2\n",
      "v's batch_size: 2, num_caps: 1, out_channels: 2\n",
      "x shape: torch.Size([2, 1, 5, 2])\n",
      "y shape: torch.Size([2, 1, 5, 1])\n",
      "b shape: torch.Size([2, 1, 5, 1])\n",
      "input x's batch_size: 2, num_caps: 1, in_caps: 5, out_channels: 2\n",
      "softmax result's batch_size: 2, num_caps: 1, in_caps: 5, softmax_result: 1\n",
      "a's batch_size: 2, num_caps: 1, in_caps: 5, out_channels: 2\n",
      "s's batch_size: 2, num_caps: 1, out_channels: 2\n",
      "v's batch_size: 2, num_caps: 1, out_channels: 2\n",
      "x shape: torch.Size([2, 1, 5, 2])\n",
      "y shape: torch.Size([2, 1, 5, 1])\n",
      "b shape: torch.Size([2, 1, 5, 1])\n",
      "torch.Size([2, 1, 2])\n"
     ]
    }
   ],
   "source": [
    "input = torch.rand(2, 5, 105)\n",
    "layer = CapsLayer()\n",
    "print(layer(input).shape)"
   ]
  },
  {
   "cell_type": "code",
   "execution_count": 24,
   "metadata": {},
   "outputs": [],
   "source": [
    "class CapsNet(nn.Module):\n",
    "    def __init__(self,vocab_size=4,embedding_size=1):\n",
    "        super(CapsNet, self).__init__()\n",
    "        self.embed = nn.Embedding(vocab_size, embedding_size)\n",
    "        self.primary_layer = PrimaryCapsuleLayer()\n",
    "        self.caps_layer = CapsLayer()\n",
    "        self.softmax = nn.Softmax(1)\n",
    "\n",
    "    def forward(self, seq,sig):\n",
    "        seq_emb = self.embed(seq.long())\n",
    "        seq_emb = seq_emb.reshape(seq_emb.shape[0], 1, -1)\n",
    "        sig = sig.reshape(sig.shape[0], 1, -1)\n",
    "        #print('seq_emb shape: {}'.format(seq_emb.shape))\n",
    "        #print('sig shape: {}'.format(sig.shape))\n",
    "        x = torch.cat((seq_emb,sig), dim=1)\n",
    "        #seq = self.primary_layer(seq)\n",
    "        #seq = self.caps_layer(seq)\n",
    "        #sig = self.primary_layer(sig)\n",
    "        #sig = self.caps_layer(sig)\n",
    "        x = self.primary_layer(x)\n",
    "        x = self.caps_layer(x)\n",
    "        #print(x.shape)\n",
    "        x = torch.norm(x,dim=1)\n",
    "        return x\n",
    "\n",
    "\n",
    "def test_for_caps_net():\n",
    "    input1 = torch.rand(1, 1, 105)\n",
    "    input2 = torch.rand(1, 1, 105)\n",
    "    \n",
    "    model = CapsNet()\n",
    "    #print(model(input1,input2).shape)\n",
    "\n",
    "\n",
    "test_for_caps_net()"
   ]
  },
  {
   "cell_type": "code",
   "execution_count": 20,
   "metadata": {},
   "outputs": [],
   "source": [
    "class CapsuleLoss(nn.Module):\n",
    "    def __init__(self):\n",
    "        super(CapsuleLoss, self).__init__()\n",
    "        self.loss = nn.CrossEntropyLoss()\n",
    "\n",
    "    def forward(self, classes, labels):\n",
    "        #classes = classes.reshape(classes.shape[0], 2)\n",
    "        #labels = labels.reshape(labels.shape[0], 1)\n",
    "        #print('classes shape: {}'.format(classes.shape))\n",
    "        #print('labels shape: {}'.format(labels.shape))\n",
    "        #left = F.relu(0.9 - classes[0], inplace=True) ** 2\n",
    "        #print('left shape: {}'.format(left.shape))\n",
    "        #right = F.relu(classes[1] - 0.1, inplace=True) ** 2\n",
    "        #print('right shape: {}'.format(right.shape))\n",
    "\n",
    "        #margin_loss = labels * left + 0.5 * (1.0 - labels) * right\n",
    "        #margin_loss = margin_loss.sum()\n",
    "        return self.loss(classes, labels)"
   ]
  },
  {
   "cell_type": "code",
   "execution_count": 17,
   "metadata": {},
   "outputs": [
    {
     "data": {
      "text/plain": [
       "1"
      ]
     },
     "execution_count": 17,
     "metadata": {},
     "output_type": "execute_result"
    }
   ],
   "source": [
    "np.random.randint(0, 2)"
   ]
  },
  {
   "cell_type": "code",
   "execution_count": 16,
   "metadata": {},
   "outputs": [],
   "source": [
    "from torch.utils.data import Dataset\n",
    "import linecache\n",
    "\n",
    "base2code_dna = {\"A\": 0, \"C\": 1, \"G\": 2, \"T\": 3, \"N\": 4}\n",
    "code2base_dna = {0: \"A\", 1: \"C\", 2: \"G\", 3: \"T\", 4: \"N\"}\n",
    "\n",
    "\n",
    "def clear_linecache():\n",
    "    # linecache should be treated carefully\n",
    "    linecache.clearcache()\n",
    "\n",
    "\n",
    "def parse_a_line2(line):\n",
    "    words = line.strip().split(\"\\t\")\n",
    "\n",
    "    seq = np.array(\n",
    "        [[base2code_dna[y] for y in x.split(\",\")] for x in words[1].split(\";\")]\n",
    "    )\n",
    "    signal = np.array(\n",
    "        [[np.float16(y) for y in x.split(\",\")] for x in words[2].split(\";\")]\n",
    "    )\n",
    "    label = np.random.randint(0, 2)\n",
    "    #if rlabel==1:\n",
    "    #    label=[0,1]\n",
    "    #else:\n",
    "    #    label=[1,0]\n",
    "\n",
    "    return seq, signal, label\n",
    "\n",
    "\n",
    "class SignalDataset(Dataset):\n",
    "    def __init__(self, filename, transform=None):\n",
    "        # print(\">>>using linecache to access '{}'<<<\\n\"\n",
    "        #       \">>>after done using the file, \"\n",
    "        #       \"remember to use linecache.clearcache() to clear cache for safety<<<\".format(filename))\n",
    "        self._filename = os.path.abspath(filename)\n",
    "        self._total_data = 0\n",
    "        self._transform = transform\n",
    "        with open(filename, \"r\") as f:\n",
    "            self._total_data = len(f.readlines())\n",
    "\n",
    "    def __getitem__(self, idx):\n",
    "        line = linecache.getline(self._filename, idx + 1)\n",
    "        if line == \"\":\n",
    "            return None\n",
    "        else:\n",
    "            output = parse_a_line2(line)\n",
    "            if self._transform is not None:\n",
    "                output = self._transform(output)\n",
    "            return output\n",
    "\n",
    "    def __len__(self):\n",
    "        return self._total_data"
   ]
  },
  {
   "cell_type": "code",
   "execution_count": 31,
   "metadata": {},
   "outputs": [
    {
     "name": "stderr",
     "output_type": "stream",
     "text": [
      "2it [00:02,  1.06it/s]"
     ]
    },
    {
     "name": "stdout",
     "output_type": "stream",
     "text": [
      "0.7259926199913025\n",
      "0.7168920636177063\n"
     ]
    },
    {
     "name": "stderr",
     "output_type": "stream",
     "text": [
      "4it [00:02,  2.63it/s]"
     ]
    },
    {
     "name": "stdout",
     "output_type": "stream",
     "text": [
      "0.7322871685028076\n",
      "0.7361534237861633\n"
     ]
    },
    {
     "name": "stderr",
     "output_type": "stream",
     "text": [
      "5it [00:02,  3.35it/s]"
     ]
    },
    {
     "name": "stdout",
     "output_type": "stream",
     "text": [
      "0.7300803661346436\n"
     ]
    },
    {
     "name": "stderr",
     "output_type": "stream",
     "text": [
      "7it [00:02,  4.43it/s]"
     ]
    },
    {
     "name": "stdout",
     "output_type": "stream",
     "text": [
      "0.7457483410835266\n",
      "0.7534671425819397\n"
     ]
    },
    {
     "name": "stderr",
     "output_type": "stream",
     "text": [
      "9it [00:03,  5.41it/s]"
     ]
    },
    {
     "name": "stdout",
     "output_type": "stream",
     "text": [
      "0.7449232935905457\n",
      "0.7194724678993225\n"
     ]
    },
    {
     "name": "stderr",
     "output_type": "stream",
     "text": [
      "10it [00:03,  5.39it/s]"
     ]
    },
    {
     "name": "stdout",
     "output_type": "stream",
     "text": [
      "0.7259238362312317\n",
      "0.7189425826072693\n"
     ]
    },
    {
     "name": "stderr",
     "output_type": "stream",
     "text": [
      "13it [00:03,  6.39it/s]"
     ]
    },
    {
     "name": "stdout",
     "output_type": "stream",
     "text": [
      "0.7498022317886353\n",
      "0.7507908344268799\n"
     ]
    },
    {
     "name": "stderr",
     "output_type": "stream",
     "text": [
      "15it [00:04,  7.70it/s]"
     ]
    },
    {
     "name": "stdout",
     "output_type": "stream",
     "text": [
      "0.7360521554946899\n",
      "0.7167540192604065\n"
     ]
    },
    {
     "name": "stderr",
     "output_type": "stream",
     "text": [
      "16it [00:04,  7.10it/s]"
     ]
    },
    {
     "name": "stdout",
     "output_type": "stream",
     "text": [
      "0.7299357652664185\n"
     ]
    },
    {
     "name": "stderr",
     "output_type": "stream",
     "text": [
      "18it [00:04,  6.29it/s]"
     ]
    },
    {
     "name": "stdout",
     "output_type": "stream",
     "text": [
      "0.7481851577758789\n",
      "0.7349776029586792\n"
     ]
    },
    {
     "name": "stderr",
     "output_type": "stream",
     "text": [
      "19it [00:04,  6.35it/s]"
     ]
    },
    {
     "name": "stdout",
     "output_type": "stream",
     "text": [
      "0.7364208102226257\n",
      "0.7283602952957153\n"
     ]
    },
    {
     "name": "stderr",
     "output_type": "stream",
     "text": [
      "22it [00:05,  6.14it/s]"
     ]
    },
    {
     "name": "stdout",
     "output_type": "stream",
     "text": [
      "0.7341746687889099\n",
      "0.753189742565155\n"
     ]
    },
    {
     "name": "stderr",
     "output_type": "stream",
     "text": [
      "23it [00:05,  6.14it/s]"
     ]
    },
    {
     "name": "stdout",
     "output_type": "stream",
     "text": [
      "0.7632322907447815\n"
     ]
    },
    {
     "name": "stderr",
     "output_type": "stream",
     "text": [
      "25it [00:05,  5.80it/s]"
     ]
    },
    {
     "name": "stdout",
     "output_type": "stream",
     "text": [
      "0.7355458736419678\n",
      "0.7373558282852173\n"
     ]
    },
    {
     "name": "stderr",
     "output_type": "stream",
     "text": [
      "27it [00:06,  5.90it/s]"
     ]
    },
    {
     "name": "stdout",
     "output_type": "stream",
     "text": [
      "0.7472096681594849\n",
      "0.7498077750205994\n"
     ]
    },
    {
     "name": "stderr",
     "output_type": "stream",
     "text": [
      "28it [00:06,  6.19it/s]"
     ]
    },
    {
     "name": "stdout",
     "output_type": "stream",
     "text": [
      "0.7458188533782959\n",
      "0.7487962245941162\n"
     ]
    },
    {
     "name": "stderr",
     "output_type": "stream",
     "text": [
      "31it [00:06,  5.77it/s]"
     ]
    },
    {
     "name": "stdout",
     "output_type": "stream",
     "text": [
      "0.7385426759719849\n",
      "0.7343527674674988\n"
     ]
    },
    {
     "name": "stderr",
     "output_type": "stream",
     "text": [
      "33it [00:07,  5.46it/s]"
     ]
    },
    {
     "name": "stdout",
     "output_type": "stream",
     "text": [
      "0.7564623355865479\n",
      "0.7481948733329773\n"
     ]
    },
    {
     "name": "stderr",
     "output_type": "stream",
     "text": [
      "34it [00:07,  4.84it/s]"
     ]
    },
    {
     "name": "stdout",
     "output_type": "stream",
     "text": [
      "0.7456316947937012\n",
      "0.743456244468689\n"
     ]
    },
    {
     "name": "stderr",
     "output_type": "stream",
     "text": [
      "36it [00:07,  5.73it/s]"
     ]
    },
    {
     "name": "stdout",
     "output_type": "stream",
     "text": [
      "0.752039909362793\n"
     ]
    },
    {
     "name": "stderr",
     "output_type": "stream",
     "text": [
      "38it [00:08,  5.81it/s]"
     ]
    },
    {
     "name": "stdout",
     "output_type": "stream",
     "text": [
      "0.7126289010047913\n",
      "0.7574805617332458\n"
     ]
    },
    {
     "name": "stderr",
     "output_type": "stream",
     "text": [
      "39it [00:08,  5.95it/s]"
     ]
    },
    {
     "name": "stdout",
     "output_type": "stream",
     "text": [
      "0.7185214161872864\n",
      "0.7366413474082947\n"
     ]
    },
    {
     "name": "stderr",
     "output_type": "stream",
     "text": [
      "41it [00:09,  3.59it/s]"
     ]
    },
    {
     "name": "stdout",
     "output_type": "stream",
     "text": [
      "0.747374415397644\n",
      "0.7426489591598511\n"
     ]
    },
    {
     "name": "stderr",
     "output_type": "stream",
     "text": [
      "44it [00:09,  5.16it/s]"
     ]
    },
    {
     "name": "stdout",
     "output_type": "stream",
     "text": [
      "0.7190075516700745\n",
      "0.7469493746757507\n"
     ]
    },
    {
     "name": "stderr",
     "output_type": "stream",
     "text": [
      "45it [00:09,  4.63it/s]"
     ]
    },
    {
     "name": "stdout",
     "output_type": "stream",
     "text": [
      "0.7397739887237549\n"
     ]
    },
    {
     "name": "stderr",
     "output_type": "stream",
     "text": [
      "46it [00:10,  4.24it/s]"
     ]
    },
    {
     "name": "stdout",
     "output_type": "stream",
     "text": [
      "0.7349916100502014\n",
      "0.7411437630653381\n"
     ]
    },
    {
     "name": "stderr",
     "output_type": "stream",
     "text": [
      "49it [00:10,  6.15it/s]"
     ]
    },
    {
     "name": "stdout",
     "output_type": "stream",
     "text": [
      "0.7499000430107117\n",
      "0.7581260800361633\n"
     ]
    },
    {
     "name": "stderr",
     "output_type": "stream",
     "text": [
      "51it [00:10,  7.47it/s]"
     ]
    },
    {
     "name": "stdout",
     "output_type": "stream",
     "text": [
      "0.7188436388969421\n",
      "0.7358354926109314\n",
      "0.7546694874763489\n"
     ]
    },
    {
     "name": "stderr",
     "output_type": "stream",
     "text": [
      "53it [00:10,  8.41it/s]"
     ]
    },
    {
     "name": "stdout",
     "output_type": "stream",
     "text": [
      "0.7248913049697876\n",
      "0.7413507699966431\n"
     ]
    },
    {
     "name": "stderr",
     "output_type": "stream",
     "text": [
      "56it [00:11,  6.25it/s]"
     ]
    },
    {
     "name": "stdout",
     "output_type": "stream",
     "text": [
      "0.7282636165618896\n",
      "0.7410526871681213\n"
     ]
    },
    {
     "name": "stderr",
     "output_type": "stream",
     "text": [
      "59it [00:11,  8.16it/s]"
     ]
    },
    {
     "name": "stdout",
     "output_type": "stream",
     "text": [
      "0.7348386645317078\n",
      "0.7301956415176392\n",
      "0.7280272245407104\n"
     ]
    },
    {
     "name": "stderr",
     "output_type": "stream",
     "text": [
      "61it [00:12,  7.46it/s]"
     ]
    },
    {
     "name": "stdout",
     "output_type": "stream",
     "text": [
      "0.7428736686706543\n",
      "0.7502005696296692\n"
     ]
    },
    {
     "name": "stderr",
     "output_type": "stream",
     "text": [
      "62it [00:12,  6.86it/s]"
     ]
    },
    {
     "name": "stdout",
     "output_type": "stream",
     "text": [
      "0.7340403199195862\n"
     ]
    },
    {
     "name": "stderr",
     "output_type": "stream",
     "text": [
      "64it [00:12,  6.30it/s]"
     ]
    },
    {
     "name": "stdout",
     "output_type": "stream",
     "text": [
      "0.7333531975746155\n",
      "0.745468020439148\n"
     ]
    },
    {
     "name": "stderr",
     "output_type": "stream",
     "text": [
      "66it [00:12,  7.51it/s]"
     ]
    },
    {
     "name": "stdout",
     "output_type": "stream",
     "text": [
      "0.7517433762550354\n",
      "0.749724805355072\n"
     ]
    },
    {
     "name": "stderr",
     "output_type": "stream",
     "text": [
      "67it [00:13,  5.71it/s]"
     ]
    },
    {
     "name": "stdout",
     "output_type": "stream",
     "text": [
      "0.7538372278213501\n",
      "0.7283123135566711\n"
     ]
    },
    {
     "name": "stderr",
     "output_type": "stream",
     "text": [
      "70it [00:13,  6.71it/s]"
     ]
    },
    {
     "name": "stdout",
     "output_type": "stream",
     "text": [
      "0.746757447719574\n",
      "0.7403067946434021\n"
     ]
    },
    {
     "name": "stderr",
     "output_type": "stream",
     "text": [
      "72it [00:13,  6.52it/s]"
     ]
    },
    {
     "name": "stdout",
     "output_type": "stream",
     "text": [
      "0.7500462532043457\n",
      "0.782505989074707\n"
     ]
    },
    {
     "name": "stderr",
     "output_type": "stream",
     "text": [
      "73it [00:14,  5.31it/s]"
     ]
    },
    {
     "name": "stdout",
     "output_type": "stream",
     "text": [
      "0.7449971437454224\n",
      "0.7315583229064941\n"
     ]
    },
    {
     "name": "stderr",
     "output_type": "stream",
     "text": [
      "75it [00:14,  6.26it/s]"
     ]
    },
    {
     "name": "stdout",
     "output_type": "stream",
     "text": [
      "0.7393205761909485\n"
     ]
    },
    {
     "name": "stderr",
     "output_type": "stream",
     "text": [
      "76it [00:14,  4.75it/s]"
     ]
    },
    {
     "name": "stdout",
     "output_type": "stream",
     "text": [
      "0.7471575140953064\n"
     ]
    },
    {
     "name": "stderr",
     "output_type": "stream",
     "text": [
      "78it [00:14,  5.76it/s]"
     ]
    },
    {
     "name": "stdout",
     "output_type": "stream",
     "text": [
      "0.7308812141418457\n",
      "0.7330502867698669\n"
     ]
    },
    {
     "name": "stderr",
     "output_type": "stream",
     "text": [
      "80it [00:15,  6.28it/s]"
     ]
    },
    {
     "name": "stdout",
     "output_type": "stream",
     "text": [
      "0.7165433764457703\n",
      "0.7378018498420715\n"
     ]
    },
    {
     "name": "stderr",
     "output_type": "stream",
     "text": [
      "81it [00:15,  6.20it/s]"
     ]
    },
    {
     "name": "stdout",
     "output_type": "stream",
     "text": [
      "0.73663729429245\n"
     ]
    },
    {
     "name": "stderr",
     "output_type": "stream",
     "text": [
      "82it [00:15,  5.84it/s]"
     ]
    },
    {
     "name": "stdout",
     "output_type": "stream",
     "text": [
      "0.7416412830352783\n",
      "0.7491912841796875\n"
     ]
    },
    {
     "name": "stderr",
     "output_type": "stream",
     "text": [
      "84it [00:15,  5.82it/s]"
     ]
    },
    {
     "name": "stdout",
     "output_type": "stream",
     "text": [
      "0.7353670001029968\n",
      "0.7479320764541626\n"
     ]
    },
    {
     "name": "stderr",
     "output_type": "stream",
     "text": [
      "87it [00:16,  6.33it/s]"
     ]
    },
    {
     "name": "stdout",
     "output_type": "stream",
     "text": [
      "0.7271993160247803\n",
      "0.7505252957344055\n"
     ]
    },
    {
     "name": "stderr",
     "output_type": "stream",
     "text": [
      "89it [00:16,  6.48it/s]"
     ]
    },
    {
     "name": "stdout",
     "output_type": "stream",
     "text": [
      "0.7310762405395508\n",
      "0.7484866976737976\n"
     ]
    },
    {
     "name": "stderr",
     "output_type": "stream",
     "text": [
      "91it [00:16,  6.82it/s]"
     ]
    },
    {
     "name": "stdout",
     "output_type": "stream",
     "text": [
      "0.7587075233459473\n",
      "0.7395583987236023\n"
     ]
    },
    {
     "name": "stderr",
     "output_type": "stream",
     "text": [
      "93it [00:17,  5.89it/s]"
     ]
    },
    {
     "name": "stdout",
     "output_type": "stream",
     "text": [
      "0.7319227457046509\n",
      "0.7305248379707336\n"
     ]
    },
    {
     "name": "stderr",
     "output_type": "stream",
     "text": [
      "94it [00:17,  6.43it/s]"
     ]
    },
    {
     "name": "stdout",
     "output_type": "stream",
     "text": [
      "0.7399394512176514\n",
      "0.7290160655975342\n",
      "0.7269137501716614\n"
     ]
    },
    {
     "name": "stderr",
     "output_type": "stream",
     "text": [
      "97it [00:17,  5.69it/s]"
     ]
    },
    {
     "name": "stdout",
     "output_type": "stream",
     "text": [
      "0.7322982549667358\n"
     ]
    },
    {
     "name": "stderr",
     "output_type": "stream",
     "text": [
      "98it [00:18,  5.56it/s]"
     ]
    },
    {
     "name": "stdout",
     "output_type": "stream",
     "text": [
      "0.7322714328765869\n",
      "0.7471103668212891\n"
     ]
    },
    {
     "name": "stderr",
     "output_type": "stream",
     "text": [
      "99it [00:18,  5.46it/s]"
     ]
    },
    {
     "name": "stdout",
     "output_type": "stream",
     "text": [
      "0.7461835145950317\n"
     ]
    },
    {
     "name": "stderr",
     "output_type": "stream",
     "text": []
    },
    {
     "name": "stdout",
     "output_type": "stream",
     "text": [
      "Epoch [1/10], Step [100/1137], TrainLoss: 0.7393; ValidLoss: 0.7543, Accuracy: 0.4824, Precision: 0.6154, Recall: 0.0876, curr_epoch_best_accuracy: 0.4824; Time: 19.81s\n"
     ]
    },
    {
     "name": "stderr",
     "output_type": "stream",
     "text": []
    },
    {
     "name": "stdout",
     "output_type": "stream",
     "text": [
      "Epoch [1/10], Step [100/1137], TrainLoss: nan; ValidLoss: 0.7462, Accuracy: 0.4844, Precision: 0.5854, Recall: 0.0886, curr_epoch_best_accuracy: 0.4844; Time: 0.26s\n"
     ]
    },
    {
     "name": "stderr",
     "output_type": "stream",
     "text": []
    },
    {
     "name": "stdout",
     "output_type": "stream",
     "text": [
      "Epoch [1/10], Step [100/1137], TrainLoss: nan; ValidLoss: 0.7399, Accuracy: 0.4961, Precision: 0.5702, Recall: 0.0823, curr_epoch_best_accuracy: 0.4961; Time: 0.11s\n"
     ]
    },
    {
     "name": "stderr",
     "output_type": "stream",
     "text": []
    },
    {
     "name": "stdout",
     "output_type": "stream",
     "text": [
      "Epoch [1/10], Step [100/1137], TrainLoss: nan; ValidLoss: 0.7441, Accuracy: 0.4814, Precision: 0.5608, Recall: 0.0769, curr_epoch_best_accuracy: 0.4961; Time: 0.26s\n"
     ]
    },
    {
     "name": "stderr",
     "output_type": "stream",
     "text": []
    },
    {
     "name": "stdout",
     "output_type": "stream",
     "text": [
      "Epoch [1/10], Step [100/1137], TrainLoss: nan; ValidLoss: 0.7404, Accuracy: 0.4898, Precision: 0.5525, Recall: 0.0755, curr_epoch_best_accuracy: 0.4961; Time: 0.12s\n"
     ]
    },
    {
     "name": "stderr",
     "output_type": "stream",
     "text": []
    },
    {
     "name": "stdout",
     "output_type": "stream",
     "text": [
      "Epoch [1/10], Step [100/1137], TrainLoss: nan; ValidLoss: 0.7365, Accuracy: 0.4964, Precision: 0.5305, Recall: 0.0724, curr_epoch_best_accuracy: 0.4964; Time: 0.12s\n"
     ]
    },
    {
     "name": "stderr",
     "output_type": "stream",
     "text": []
    },
    {
     "name": "stdout",
     "output_type": "stream",
     "text": [
      "Epoch [1/10], Step [100/1137], TrainLoss: nan; ValidLoss: 0.7392, Accuracy: 0.4916, Precision: 0.5267, Recall: 0.0698, curr_epoch_best_accuracy: 0.4964; Time: 0.13s\n"
     ]
    },
    {
     "name": "stderr",
     "output_type": "stream",
     "text": []
    },
    {
     "name": "stdout",
     "output_type": "stream",
     "text": [
      "Epoch [1/10], Step [100/1137], TrainLoss: nan; ValidLoss: 0.7369, Accuracy: 0.4954, Precision: 0.5180, Recall: 0.0693, curr_epoch_best_accuracy: 0.4964; Time: 0.11s\n"
     ]
    },
    {
     "name": "stderr",
     "output_type": "stream",
     "text": []
    },
    {
     "name": "stdout",
     "output_type": "stream",
     "text": [
      "Epoch [1/10], Step [100/1137], TrainLoss: nan; ValidLoss: 0.7409, Accuracy: 0.4913, Precision: 0.5195, Recall: 0.0679, curr_epoch_best_accuracy: 0.4964; Time: 0.16s\n"
     ]
    },
    {
     "name": "stderr",
     "output_type": "stream",
     "text": []
    },
    {
     "name": "stdout",
     "output_type": "stream",
     "text": [
      "Epoch [1/10], Step [100/1137], TrainLoss: nan; ValidLoss: 0.7416, Accuracy: 0.4900, Precision: 0.5234, Recall: 0.0681, curr_epoch_best_accuracy: 0.4964; Time: 0.14s\n"
     ]
    },
    {
     "name": "stderr",
     "output_type": "stream",
     "text": []
    },
    {
     "name": "stdout",
     "output_type": "stream",
     "text": [
      "Epoch [1/10], Step [100/1137], TrainLoss: nan; ValidLoss: 0.7408, Accuracy: 0.4913, Precision: 0.5200, Recall: 0.0677, curr_epoch_best_accuracy: 0.4964; Time: 0.31s\n"
     ]
    },
    {
     "name": "stderr",
     "output_type": "stream",
     "text": []
    },
    {
     "name": "stdout",
     "output_type": "stream",
     "text": [
      "Epoch [1/10], Step [100/1137], TrainLoss: nan; ValidLoss: 0.7412, Accuracy: 0.4901, Precision: 0.5096, Recall: 0.0675, curr_epoch_best_accuracy: 0.4964; Time: 0.17s\n"
     ]
    },
    {
     "name": "stderr",
     "output_type": "stream",
     "text": []
    },
    {
     "name": "stdout",
     "output_type": "stream",
     "text": [
      "Epoch [1/10], Step [100/1137], TrainLoss: nan; ValidLoss: 0.7408, Accuracy: 0.4913, Precision: 0.5163, Recall: 0.0697, curr_epoch_best_accuracy: 0.4964; Time: 0.18s\n"
     ]
    },
    {
     "name": "stderr",
     "output_type": "stream",
     "text": []
    },
    {
     "name": "stdout",
     "output_type": "stream",
     "text": [
      "Epoch [1/10], Step [100/1137], TrainLoss: nan; ValidLoss: 0.7407, Accuracy: 0.4922, Precision: 0.5193, Recall: 0.0700, curr_epoch_best_accuracy: 0.4964; Time: 0.13s\n"
     ]
    },
    {
     "name": "stderr",
     "output_type": "stream",
     "text": []
    },
    {
     "name": "stdout",
     "output_type": "stream",
     "text": [
      "Epoch [1/10], Step [100/1137], TrainLoss: nan; ValidLoss: 0.7397, Accuracy: 0.4949, Precision: 0.5104, Recall: 0.0697, curr_epoch_best_accuracy: 0.4964; Time: 0.14s\n"
     ]
    },
    {
     "name": "stderr",
     "output_type": "stream",
     "text": []
    },
    {
     "name": "stdout",
     "output_type": "stream",
     "text": [
      "Epoch [1/10], Step [100/1137], TrainLoss: nan; ValidLoss: 0.7399, Accuracy: 0.4955, Precision: 0.5140, Recall: 0.0706, curr_epoch_best_accuracy: 0.4964; Time: 0.15s\n"
     ]
    },
    {
     "name": "stderr",
     "output_type": "stream",
     "text": []
    },
    {
     "name": "stdout",
     "output_type": "stream",
     "text": [
      "Epoch [1/10], Step [100/1137], TrainLoss: nan; ValidLoss: 0.7410, Accuracy: 0.4938, Precision: 0.5140, Recall: 0.0705, curr_epoch_best_accuracy: 0.4964; Time: 0.22s\n"
     ]
    },
    {
     "name": "stderr",
     "output_type": "stream",
     "text": []
    },
    {
     "name": "stdout",
     "output_type": "stream",
     "text": [
      "Epoch [1/10], Step [100/1137], TrainLoss: nan; ValidLoss: 0.7407, Accuracy: 0.4938, Precision: 0.5118, Recall: 0.0692, curr_epoch_best_accuracy: 0.4964; Time: 0.27s\n"
     ]
    },
    {
     "name": "stderr",
     "output_type": "stream",
     "text": []
    },
    {
     "name": "stdout",
     "output_type": "stream",
     "text": [
      "Epoch [1/10], Step [100/1137], TrainLoss: nan; ValidLoss: 0.7406, Accuracy: 0.4943, Precision: 0.5133, Recall: 0.0703, curr_epoch_best_accuracy: 0.4964; Time: 0.12s\n"
     ]
    },
    {
     "name": "stderr",
     "output_type": "stream",
     "text": []
    },
    {
     "name": "stdout",
     "output_type": "stream",
     "text": [
      "Epoch [1/10], Step [100/1137], TrainLoss: nan; ValidLoss: 0.7406, Accuracy: 0.4950, Precision: 0.5120, Recall: 0.0698, curr_epoch_best_accuracy: 0.4964; Time: 0.11s\n"
     ]
    },
    {
     "name": "stderr",
     "output_type": "stream",
     "text": []
    },
    {
     "name": "stdout",
     "output_type": "stream",
     "text": [
      "Epoch [1/10], Step [100/1137], TrainLoss: nan; ValidLoss: 0.7420, Accuracy: 0.4927, Precision: 0.5041, Recall: 0.0668, curr_epoch_best_accuracy: 0.4964; Time: 0.11s\n"
     ]
    },
    {
     "name": "stderr",
     "output_type": "stream",
     "text": []
    },
    {
     "name": "stdout",
     "output_type": "stream",
     "text": [
      "Epoch [1/10], Step [100/1137], TrainLoss: nan; ValidLoss: 0.7414, Accuracy: 0.4935, Precision: 0.5027, Recall: 0.0659, curr_epoch_best_accuracy: 0.4964; Time: 0.11s\n"
     ]
    },
    {
     "name": "stderr",
     "output_type": "stream",
     "text": []
    },
    {
     "name": "stdout",
     "output_type": "stream",
     "text": [
      "Epoch [1/10], Step [100/1137], TrainLoss: nan; ValidLoss: 0.7415, Accuracy: 0.4935, Precision: 0.5032, Recall: 0.0667, curr_epoch_best_accuracy: 0.4964; Time: 0.12s\n"
     ]
    },
    {
     "name": "stderr",
     "output_type": "stream",
     "text": []
    },
    {
     "name": "stdout",
     "output_type": "stream",
     "text": [
      "Epoch [1/10], Step [100/1137], TrainLoss: nan; ValidLoss: 0.7427, Accuracy: 0.4922, Precision: 0.5000, Recall: 0.0657, curr_epoch_best_accuracy: 0.4964; Time: 0.14s\n"
     ]
    },
    {
     "name": "stderr",
     "output_type": "stream",
     "text": []
    },
    {
     "name": "stdout",
     "output_type": "stream",
     "text": [
      "Epoch [1/10], Step [100/1137], TrainLoss: nan; ValidLoss: 0.7416, Accuracy: 0.4936, Precision: 0.5012, Recall: 0.0657, curr_epoch_best_accuracy: 0.4964; Time: 0.29s\n"
     ]
    },
    {
     "name": "stderr",
     "output_type": "stream",
     "text": []
    },
    {
     "name": "stdout",
     "output_type": "stream",
     "text": [
      "Epoch [1/10], Step [100/1137], TrainLoss: nan; ValidLoss: 0.7410, Accuracy: 0.4944, Precision: 0.5039, Recall: 0.0665, curr_epoch_best_accuracy: 0.4964; Time: 0.13s\n"
     ]
    },
    {
     "name": "stderr",
     "output_type": "stream",
     "text": []
    },
    {
     "name": "stdout",
     "output_type": "stream",
     "text": [
      "Epoch [1/10], Step [100/1137], TrainLoss: nan; ValidLoss: 0.7405, Accuracy: 0.4956, Precision: 0.5107, Recall: 0.0681, curr_epoch_best_accuracy: 0.4964; Time: 0.14s\n"
     ]
    },
    {
     "name": "stderr",
     "output_type": "stream",
     "text": []
    },
    {
     "name": "stdout",
     "output_type": "stream",
     "text": [
      "Epoch [1/10], Step [100/1137], TrainLoss: nan; ValidLoss: 0.7402, Accuracy: 0.4959, Precision: 0.5051, Recall: 0.0680, curr_epoch_best_accuracy: 0.4964; Time: 0.13s\n"
     ]
    },
    {
     "name": "stderr",
     "output_type": "stream",
     "text": []
    },
    {
     "name": "stdout",
     "output_type": "stream",
     "text": [
      "Epoch [1/10], Step [100/1137], TrainLoss: nan; ValidLoss: 0.7391, Accuracy: 0.4975, Precision: 0.5050, Recall: 0.0677, curr_epoch_best_accuracy: 0.4975; Time: 0.22s\n"
     ]
    },
    {
     "name": "stderr",
     "output_type": "stream",
     "text": []
    },
    {
     "name": "stdout",
     "output_type": "stream",
     "text": [
      "Epoch [1/10], Step [100/1137], TrainLoss: nan; ValidLoss: 0.7384, Accuracy: 0.4980, Precision: 0.5044, Recall: 0.0671, curr_epoch_best_accuracy: 0.4980; Time: 0.18s\n"
     ]
    },
    {
     "name": "stderr",
     "output_type": "stream",
     "text": []
    },
    {
     "name": "stdout",
     "output_type": "stream",
     "text": [
      "Epoch [1/10], Step [100/1137], TrainLoss: nan; ValidLoss: 0.7387, Accuracy: 0.4974, Precision: 0.5056, Recall: 0.0673, curr_epoch_best_accuracy: 0.4980; Time: 0.20s\n"
     ]
    },
    {
     "name": "stderr",
     "output_type": "stream",
     "text": []
    },
    {
     "name": "stdout",
     "output_type": "stream",
     "text": [
      "Epoch [1/10], Step [100/1137], TrainLoss: nan; ValidLoss: 0.7389, Accuracy: 0.4969, Precision: 0.5023, Recall: 0.0662, curr_epoch_best_accuracy: 0.4980; Time: 0.24s\n"
     ]
    },
    {
     "name": "stderr",
     "output_type": "stream",
     "text": []
    },
    {
     "name": "stdout",
     "output_type": "stream",
     "text": [
      "Epoch [1/10], Step [100/1137], TrainLoss: nan; ValidLoss: 0.7386, Accuracy: 0.4975, Precision: 0.5023, Recall: 0.0653, curr_epoch_best_accuracy: 0.4980; Time: 0.14s\n"
     ]
    },
    {
     "name": "stderr",
     "output_type": "stream",
     "text": []
    },
    {
     "name": "stdout",
     "output_type": "stream",
     "text": [
      "Epoch [1/10], Step [100/1137], TrainLoss: nan; ValidLoss: 0.7393, Accuracy: 0.4962, Precision: 0.5039, Recall: 0.0655, curr_epoch_best_accuracy: 0.4980; Time: 0.19s\n"
     ]
    },
    {
     "name": "stderr",
     "output_type": "stream",
     "text": []
    },
    {
     "name": "stdout",
     "output_type": "stream",
     "text": [
      "Epoch [1/10], Step [100/1137], TrainLoss: nan; ValidLoss: 0.7394, Accuracy: 0.4955, Precision: 0.5038, Recall: 0.0657, curr_epoch_best_accuracy: 0.4980; Time: 0.34s\n"
     ]
    },
    {
     "name": "stderr",
     "output_type": "stream",
     "text": []
    },
    {
     "name": "stdout",
     "output_type": "stream",
     "text": [
      "Epoch [1/10], Step [100/1137], TrainLoss: nan; ValidLoss: 0.7395, Accuracy: 0.4954, Precision: 0.5049, Recall: 0.0664, curr_epoch_best_accuracy: 0.4980; Time: 0.20s\n"
     ]
    },
    {
     "name": "stderr",
     "output_type": "stream",
     "text": []
    },
    {
     "name": "stdout",
     "output_type": "stream",
     "text": [
      "Epoch [1/10], Step [100/1137], TrainLoss: nan; ValidLoss: 0.7392, Accuracy: 0.4958, Precision: 0.5048, Recall: 0.0663, curr_epoch_best_accuracy: 0.4980; Time: 0.18s\n"
     ]
    },
    {
     "name": "stderr",
     "output_type": "stream",
     "text": []
    },
    {
     "name": "stdout",
     "output_type": "stream",
     "text": [
      "Epoch [1/10], Step [100/1137], TrainLoss: nan; ValidLoss: 0.7388, Accuracy: 0.4966, Precision: 0.5054, Recall: 0.0663, curr_epoch_best_accuracy: 0.4980; Time: 0.31s\n"
     ]
    },
    {
     "name": "stderr",
     "output_type": "stream",
     "text": []
    },
    {
     "name": "stdout",
     "output_type": "stream",
     "text": [
      "Epoch [1/10], Step [100/1137], TrainLoss: nan; ValidLoss: 0.7384, Accuracy: 0.4970, Precision: 0.5079, Recall: 0.0667, curr_epoch_best_accuracy: 0.4980; Time: 0.32s\n"
     ]
    },
    {
     "name": "stderr",
     "output_type": "stream",
     "text": []
    },
    {
     "name": "stdout",
     "output_type": "stream",
     "text": [
      "Epoch [1/10], Step [100/1137], TrainLoss: nan; ValidLoss: 0.7379, Accuracy: 0.4979, Precision: 0.5088, Recall: 0.0670, curr_epoch_best_accuracy: 0.4980; Time: 0.21s\n"
     ]
    },
    {
     "name": "stderr",
     "output_type": "stream",
     "text": []
    },
    {
     "name": "stdout",
     "output_type": "stream",
     "text": [
      "Epoch [1/10], Step [100/1137], TrainLoss: nan; ValidLoss: 0.7380, Accuracy: 0.4981, Precision: 0.5083, Recall: 0.0668, curr_epoch_best_accuracy: 0.4981; Time: 0.35s\n"
     ]
    },
    {
     "name": "stderr",
     "output_type": "stream",
     "text": []
    },
    {
     "name": "stdout",
     "output_type": "stream",
     "text": [
      "Epoch [1/10], Step [100/1137], TrainLoss: nan; ValidLoss: 0.7374, Accuracy: 0.4985, Precision: 0.5067, Recall: 0.0665, curr_epoch_best_accuracy: 0.4985; Time: 0.25s\n"
     ]
    },
    {
     "name": "stderr",
     "output_type": "stream",
     "text": []
    },
    {
     "name": "stdout",
     "output_type": "stream",
     "text": [
      "Epoch [1/10], Step [100/1137], TrainLoss: nan; ValidLoss: 0.7371, Accuracy: 0.4986, Precision: 0.5069, Recall: 0.0666, curr_epoch_best_accuracy: 0.4986; Time: 0.19s\n"
     ]
    },
    {
     "name": "stderr",
     "output_type": "stream",
     "text": []
    },
    {
     "name": "stdout",
     "output_type": "stream",
     "text": [
      "Epoch [1/10], Step [100/1137], TrainLoss: nan; ValidLoss: 0.7369, Accuracy: 0.4989, Precision: 0.5061, Recall: 0.0663, curr_epoch_best_accuracy: 0.4989; Time: 0.25s\n"
     ]
    },
    {
     "name": "stderr",
     "output_type": "stream",
     "text": []
    },
    {
     "name": "stdout",
     "output_type": "stream",
     "text": [
      "Epoch [1/10], Step [100/1137], TrainLoss: nan; ValidLoss: 0.7362, Accuracy: 0.5000, Precision: 0.5036, Recall: 0.0664, curr_epoch_best_accuracy: 0.5000; Time: 0.27s\n"
     ]
    },
    {
     "name": "stderr",
     "output_type": "stream",
     "text": []
    },
    {
     "name": "stdout",
     "output_type": "stream",
     "text": [
      "Epoch [1/10], Step [100/1137], TrainLoss: nan; ValidLoss: 0.7366, Accuracy: 0.4996, Precision: 0.5061, Recall: 0.0672, curr_epoch_best_accuracy: 0.5000; Time: 0.24s\n"
     ]
    },
    {
     "name": "stderr",
     "output_type": "stream",
     "text": []
    },
    {
     "name": "stdout",
     "output_type": "stream",
     "text": [
      "Epoch [1/10], Step [100/1137], TrainLoss: nan; ValidLoss: 0.7363, Accuracy: 0.5002, Precision: 0.5075, Recall: 0.0673, curr_epoch_best_accuracy: 0.5002; Time: 0.26s\n"
     ]
    },
    {
     "name": "stderr",
     "output_type": "stream",
     "text": []
    },
    {
     "name": "stdout",
     "output_type": "stream",
     "text": [
      "Epoch [1/10], Step [100/1137], TrainLoss: nan; ValidLoss: 0.7368, Accuracy: 0.4996, Precision: 0.5092, Recall: 0.0674, curr_epoch_best_accuracy: 0.5002; Time: 0.21s\n"
     ]
    },
    {
     "name": "stderr",
     "output_type": "stream",
     "text": []
    },
    {
     "name": "stdout",
     "output_type": "stream",
     "text": [
      "Epoch [1/10], Step [100/1137], TrainLoss: nan; ValidLoss: 0.7370, Accuracy: 0.4994, Precision: 0.5078, Recall: 0.0671, curr_epoch_best_accuracy: 0.5002; Time: 0.20s\n"
     ]
    },
    {
     "name": "stderr",
     "output_type": "stream",
     "text": []
    },
    {
     "name": "stdout",
     "output_type": "stream",
     "text": [
      "Epoch [1/10], Step [100/1137], TrainLoss: nan; ValidLoss: 0.7373, Accuracy: 0.4990, Precision: 0.5094, Recall: 0.0677, curr_epoch_best_accuracy: 0.5002; Time: 0.20s\n"
     ]
    },
    {
     "name": "stderr",
     "output_type": "stream",
     "text": []
    },
    {
     "name": "stdout",
     "output_type": "stream",
     "text": [
      "Epoch [1/10], Step [100/1137], TrainLoss: nan; ValidLoss: 0.7379, Accuracy: 0.4981, Precision: 0.5086, Recall: 0.0672, curr_epoch_best_accuracy: 0.5002; Time: 0.24s\n"
     ]
    },
    {
     "name": "stderr",
     "output_type": "stream",
     "text": []
    },
    {
     "name": "stdout",
     "output_type": "stream",
     "text": [
      "Epoch [1/10], Step [100/1137], TrainLoss: nan; ValidLoss: 0.7380, Accuracy: 0.4982, Precision: 0.5068, Recall: 0.0670, curr_epoch_best_accuracy: 0.5002; Time: 0.29s\n"
     ]
    },
    {
     "name": "stderr",
     "output_type": "stream",
     "text": []
    },
    {
     "name": "stdout",
     "output_type": "stream",
     "text": [
      "Epoch [1/10], Step [100/1137], TrainLoss: nan; ValidLoss: 0.7375, Accuracy: 0.4987, Precision: 0.5041, Recall: 0.0670, curr_epoch_best_accuracy: 0.5002; Time: 0.21s\n"
     ]
    },
    {
     "name": "stderr",
     "output_type": "stream",
     "text": []
    },
    {
     "name": "stdout",
     "output_type": "stream",
     "text": [
      "Epoch [1/10], Step [100/1137], TrainLoss: nan; ValidLoss: 0.7374, Accuracy: 0.4988, Precision: 0.5038, Recall: 0.0670, curr_epoch_best_accuracy: 0.5002; Time: 0.31s\n"
     ]
    },
    {
     "name": "stderr",
     "output_type": "stream",
     "text": []
    },
    {
     "name": "stdout",
     "output_type": "stream",
     "text": [
      "Epoch [1/10], Step [100/1137], TrainLoss: nan; ValidLoss: 0.7375, Accuracy: 0.4987, Precision: 0.5040, Recall: 0.0668, curr_epoch_best_accuracy: 0.5002; Time: 0.25s\n"
     ]
    },
    {
     "name": "stderr",
     "output_type": "stream",
     "text": []
    },
    {
     "name": "stdout",
     "output_type": "stream",
     "text": [
      "Epoch [1/10], Step [100/1137], TrainLoss: nan; ValidLoss: 0.7370, Accuracy: 0.4995, Precision: 0.5037, Recall: 0.0670, curr_epoch_best_accuracy: 0.5002; Time: 0.35s\n"
     ]
    },
    {
     "name": "stderr",
     "output_type": "stream",
     "text": []
    },
    {
     "name": "stdout",
     "output_type": "stream",
     "text": [
      "Epoch [1/10], Step [100/1137], TrainLoss: nan; ValidLoss: 0.7369, Accuracy: 0.4995, Precision: 0.5010, Recall: 0.0669, curr_epoch_best_accuracy: 0.5002; Time: 0.39s\n"
     ]
    },
    {
     "name": "stderr",
     "output_type": "stream",
     "text": []
    },
    {
     "name": "stdout",
     "output_type": "stream",
     "text": [
      "Epoch [1/10], Step [100/1137], TrainLoss: nan; ValidLoss: 0.7371, Accuracy: 0.4994, Precision: 0.5003, Recall: 0.0669, curr_epoch_best_accuracy: 0.5002; Time: 0.33s\n"
     ]
    },
    {
     "name": "stderr",
     "output_type": "stream",
     "text": []
    },
    {
     "name": "stdout",
     "output_type": "stream",
     "text": [
      "Epoch [1/10], Step [100/1137], TrainLoss: nan; ValidLoss: 0.7371, Accuracy: 0.4996, Precision: 0.5012, Recall: 0.0672, curr_epoch_best_accuracy: 0.5002; Time: 0.24s\n"
     ]
    },
    {
     "name": "stderr",
     "output_type": "stream",
     "text": []
    },
    {
     "name": "stdout",
     "output_type": "stream",
     "text": [
      "Epoch [1/10], Step [100/1137], TrainLoss: nan; ValidLoss: 0.7372, Accuracy: 0.4993, Precision: 0.5022, Recall: 0.0674, curr_epoch_best_accuracy: 0.5002; Time: 0.30s\n"
     ]
    },
    {
     "name": "stderr",
     "output_type": "stream",
     "text": []
    },
    {
     "name": "stdout",
     "output_type": "stream",
     "text": [
      "Epoch [1/10], Step [100/1137], TrainLoss: nan; ValidLoss: 0.7373, Accuracy: 0.4992, Precision: 0.5014, Recall: 0.0672, curr_epoch_best_accuracy: 0.5002; Time: 0.34s\n"
     ]
    },
    {
     "name": "stderr",
     "output_type": "stream",
     "text": []
    },
    {
     "name": "stdout",
     "output_type": "stream",
     "text": [
      "Epoch [1/10], Step [100/1137], TrainLoss: nan; ValidLoss: 0.7375, Accuracy: 0.4989, Precision: 0.5021, Recall: 0.0672, curr_epoch_best_accuracy: 0.5002; Time: 0.27s\n"
     ]
    },
    {
     "name": "stderr",
     "output_type": "stream",
     "text": []
    },
    {
     "name": "stdout",
     "output_type": "stream",
     "text": [
      "Epoch [1/10], Step [100/1137], TrainLoss: nan; ValidLoss: 0.7377, Accuracy: 0.4985, Precision: 0.5012, Recall: 0.0672, curr_epoch_best_accuracy: 0.5002; Time: 0.26s\n"
     ]
    },
    {
     "name": "stderr",
     "output_type": "stream",
     "text": []
    },
    {
     "name": "stdout",
     "output_type": "stream",
     "text": [
      "Epoch [1/10], Step [100/1137], TrainLoss: nan; ValidLoss: 0.7379, Accuracy: 0.4978, Precision: 0.5018, Recall: 0.0675, curr_epoch_best_accuracy: 0.5002; Time: 0.24s\n"
     ]
    },
    {
     "name": "stderr",
     "output_type": "stream",
     "text": []
    },
    {
     "name": "stdout",
     "output_type": "stream",
     "text": [
      "Epoch [1/10], Step [100/1137], TrainLoss: nan; ValidLoss: 0.7377, Accuracy: 0.4983, Precision: 0.5027, Recall: 0.0679, curr_epoch_best_accuracy: 0.5002; Time: 0.26s\n"
     ]
    },
    {
     "name": "stderr",
     "output_type": "stream",
     "text": []
    },
    {
     "name": "stdout",
     "output_type": "stream",
     "text": [
      "Epoch [1/10], Step [100/1137], TrainLoss: nan; ValidLoss: 0.7371, Accuracy: 0.4995, Precision: 0.5042, Recall: 0.0680, curr_epoch_best_accuracy: 0.5002; Time: 0.31s\n"
     ]
    },
    {
     "name": "stderr",
     "output_type": "stream",
     "text": []
    },
    {
     "name": "stdout",
     "output_type": "stream",
     "text": [
      "Epoch [1/10], Step [100/1137], TrainLoss: nan; ValidLoss: 0.7370, Accuracy: 0.4998, Precision: 0.5063, Recall: 0.0682, curr_epoch_best_accuracy: 0.5002; Time: 0.30s\n"
     ]
    },
    {
     "name": "stderr",
     "output_type": "stream",
     "text": []
    },
    {
     "name": "stdout",
     "output_type": "stream",
     "text": [
      "Epoch [1/10], Step [100/1137], TrainLoss: nan; ValidLoss: 0.7372, Accuracy: 0.4995, Precision: 0.5070, Recall: 0.0684, curr_epoch_best_accuracy: 0.5002; Time: 0.29s\n"
     ]
    },
    {
     "name": "stderr",
     "output_type": "stream",
     "text": []
    },
    {
     "name": "stdout",
     "output_type": "stream",
     "text": [
      "Epoch [1/10], Step [100/1137], TrainLoss: nan; ValidLoss: 0.7376, Accuracy: 0.4990, Precision: 0.5048, Recall: 0.0680, curr_epoch_best_accuracy: 0.5002; Time: 0.31s\n"
     ]
    },
    {
     "name": "stderr",
     "output_type": "stream",
     "text": []
    },
    {
     "name": "stdout",
     "output_type": "stream",
     "text": [
      "Epoch [1/10], Step [100/1137], TrainLoss: nan; ValidLoss: 0.7376, Accuracy: 0.4988, Precision: 0.5049, Recall: 0.0682, curr_epoch_best_accuracy: 0.5002; Time: 0.38s\n"
     ]
    },
    {
     "name": "stderr",
     "output_type": "stream",
     "text": []
    },
    {
     "name": "stdout",
     "output_type": "stream",
     "text": [
      "Epoch [1/10], Step [100/1137], TrainLoss: nan; ValidLoss: 0.7376, Accuracy: 0.4987, Precision: 0.5047, Recall: 0.0682, curr_epoch_best_accuracy: 0.5002; Time: 0.20s\n"
     ]
    },
    {
     "name": "stderr",
     "output_type": "stream",
     "text": []
    },
    {
     "name": "stdout",
     "output_type": "stream",
     "text": [
      "Epoch [1/10], Step [100/1137], TrainLoss: nan; ValidLoss: 0.7377, Accuracy: 0.4986, Precision: 0.5034, Recall: 0.0679, curr_epoch_best_accuracy: 0.5002; Time: 0.19s\n"
     ]
    },
    {
     "name": "stderr",
     "output_type": "stream",
     "text": []
    },
    {
     "name": "stdout",
     "output_type": "stream",
     "text": [
      "Epoch [1/10], Step [100/1137], TrainLoss: nan; ValidLoss: 0.7378, Accuracy: 0.4985, Precision: 0.5016, Recall: 0.0677, curr_epoch_best_accuracy: 0.5002; Time: 0.31s\n"
     ]
    },
    {
     "name": "stderr",
     "output_type": "stream",
     "text": []
    },
    {
     "name": "stdout",
     "output_type": "stream",
     "text": [
      "Epoch [1/10], Step [100/1137], TrainLoss: nan; ValidLoss: 0.7377, Accuracy: 0.4987, Precision: 0.5018, Recall: 0.0678, curr_epoch_best_accuracy: 0.5002; Time: 0.33s\n"
     ]
    },
    {
     "name": "stderr",
     "output_type": "stream",
     "text": []
    },
    {
     "name": "stdout",
     "output_type": "stream",
     "text": [
      "Epoch [1/10], Step [100/1137], TrainLoss: nan; ValidLoss: 0.7377, Accuracy: 0.4985, Precision: 0.5008, Recall: 0.0677, curr_epoch_best_accuracy: 0.5002; Time: 0.21s\n"
     ]
    },
    {
     "name": "stderr",
     "output_type": "stream",
     "text": []
    },
    {
     "name": "stdout",
     "output_type": "stream",
     "text": [
      "Epoch [1/10], Step [100/1137], TrainLoss: nan; ValidLoss: 0.7380, Accuracy: 0.4980, Precision: 0.4998, Recall: 0.0676, curr_epoch_best_accuracy: 0.5002; Time: 0.41s\n"
     ]
    },
    {
     "name": "stderr",
     "output_type": "stream",
     "text": []
    },
    {
     "name": "stdout",
     "output_type": "stream",
     "text": [
      "Epoch [1/10], Step [100/1137], TrainLoss: nan; ValidLoss: 0.7381, Accuracy: 0.4980, Precision: 0.4991, Recall: 0.0675, curr_epoch_best_accuracy: 0.5002; Time: 0.26s\n"
     ]
    },
    {
     "name": "stderr",
     "output_type": "stream",
     "text": []
    },
    {
     "name": "stdout",
     "output_type": "stream",
     "text": [
      "Epoch [1/10], Step [100/1137], TrainLoss: nan; ValidLoss: 0.7382, Accuracy: 0.4979, Precision: 0.5006, Recall: 0.0674, curr_epoch_best_accuracy: 0.5002; Time: 0.34s\n"
     ]
    },
    {
     "name": "stderr",
     "output_type": "stream",
     "text": []
    },
    {
     "name": "stdout",
     "output_type": "stream",
     "text": [
      "Epoch [1/10], Step [100/1137], TrainLoss: nan; ValidLoss: 0.7383, Accuracy: 0.4978, Precision: 0.4996, Recall: 0.0673, curr_epoch_best_accuracy: 0.5002; Time: 0.22s\n"
     ]
    },
    {
     "name": "stderr",
     "output_type": "stream",
     "text": []
    },
    {
     "name": "stdout",
     "output_type": "stream",
     "text": [
      "Epoch [1/10], Step [100/1137], TrainLoss: nan; ValidLoss: 0.7383, Accuracy: 0.4980, Precision: 0.4998, Recall: 0.0676, curr_epoch_best_accuracy: 0.5002; Time: 0.29s\n"
     ]
    },
    {
     "name": "stderr",
     "output_type": "stream",
     "text": []
    },
    {
     "name": "stdout",
     "output_type": "stream",
     "text": [
      "Epoch [1/10], Step [100/1137], TrainLoss: nan; ValidLoss: 0.7381, Accuracy: 0.4983, Precision: 0.5011, Recall: 0.0679, curr_epoch_best_accuracy: 0.5002; Time: 0.34s\n"
     ]
    },
    {
     "name": "stderr",
     "output_type": "stream",
     "text": []
    },
    {
     "name": "stdout",
     "output_type": "stream",
     "text": [
      "Epoch [1/10], Step [100/1137], TrainLoss: nan; ValidLoss: 0.7382, Accuracy: 0.4981, Precision: 0.5000, Recall: 0.0678, curr_epoch_best_accuracy: 0.5002; Time: 0.36s\n"
     ]
    },
    {
     "name": "stderr",
     "output_type": "stream",
     "text": []
    },
    {
     "name": "stdout",
     "output_type": "stream",
     "text": [
      "Epoch [1/10], Step [100/1137], TrainLoss: nan; ValidLoss: 0.7383, Accuracy: 0.4979, Precision: 0.5010, Recall: 0.0678, curr_epoch_best_accuracy: 0.5002; Time: 0.31s\n"
     ]
    },
    {
     "name": "stderr",
     "output_type": "stream",
     "text": []
    },
    {
     "name": "stdout",
     "output_type": "stream",
     "text": [
      "Epoch [1/10], Step [100/1137], TrainLoss: nan; ValidLoss: 0.7384, Accuracy: 0.4979, Precision: 0.5007, Recall: 0.0679, curr_epoch_best_accuracy: 0.5002; Time: 0.28s\n"
     ]
    },
    {
     "name": "stderr",
     "output_type": "stream",
     "text": []
    },
    {
     "name": "stdout",
     "output_type": "stream",
     "text": [
      "Epoch [1/10], Step [100/1137], TrainLoss: nan; ValidLoss: 0.7385, Accuracy: 0.4978, Precision: 0.5007, Recall: 0.0678, curr_epoch_best_accuracy: 0.5002; Time: 0.47s\n"
     ]
    },
    {
     "name": "stderr",
     "output_type": "stream",
     "text": []
    },
    {
     "name": "stdout",
     "output_type": "stream",
     "text": [
      "Epoch [1/10], Step [100/1137], TrainLoss: nan; ValidLoss: 0.7383, Accuracy: 0.4981, Precision: 0.5022, Recall: 0.0681, curr_epoch_best_accuracy: 0.5002; Time: 0.25s\n"
     ]
    },
    {
     "name": "stderr",
     "output_type": "stream",
     "text": []
    },
    {
     "name": "stdout",
     "output_type": "stream",
     "text": [
      "Epoch [1/10], Step [100/1137], TrainLoss: nan; ValidLoss: 0.7383, Accuracy: 0.4980, Precision: 0.5016, Recall: 0.0681, curr_epoch_best_accuracy: 0.5002; Time: 0.23s\n"
     ]
    },
    {
     "name": "stderr",
     "output_type": "stream",
     "text": []
    },
    {
     "name": "stdout",
     "output_type": "stream",
     "text": [
      "Epoch [1/10], Step [100/1137], TrainLoss: nan; ValidLoss: 0.7380, Accuracy: 0.4982, Precision: 0.5003, Recall: 0.0681, curr_epoch_best_accuracy: 0.5002; Time: 0.32s\n"
     ]
    },
    {
     "name": "stderr",
     "output_type": "stream",
     "text": []
    },
    {
     "name": "stdout",
     "output_type": "stream",
     "text": [
      "Epoch [1/10], Step [100/1137], TrainLoss: nan; ValidLoss: 0.7381, Accuracy: 0.4980, Precision: 0.5006, Recall: 0.0681, curr_epoch_best_accuracy: 0.5002; Time: 0.28s\n"
     ]
    },
    {
     "name": "stderr",
     "output_type": "stream",
     "text": []
    },
    {
     "name": "stdout",
     "output_type": "stream",
     "text": [
      "Epoch [1/10], Step [100/1137], TrainLoss: nan; ValidLoss: 0.7380, Accuracy: 0.4982, Precision: 0.5002, Recall: 0.0681, curr_epoch_best_accuracy: 0.5002; Time: 0.27s\n"
     ]
    },
    {
     "name": "stderr",
     "output_type": "stream",
     "text": []
    },
    {
     "name": "stdout",
     "output_type": "stream",
     "text": [
      "Epoch [1/10], Step [100/1137], TrainLoss: nan; ValidLoss: 0.7381, Accuracy: 0.4981, Precision: 0.5003, Recall: 0.0682, curr_epoch_best_accuracy: 0.5002; Time: 0.29s\n"
     ]
    },
    {
     "name": "stderr",
     "output_type": "stream",
     "text": []
    },
    {
     "name": "stdout",
     "output_type": "stream",
     "text": [
      "Epoch [1/10], Step [100/1137], TrainLoss: nan; ValidLoss: 0.7380, Accuracy: 0.4980, Precision: 0.4994, Recall: 0.0680, curr_epoch_best_accuracy: 0.5002; Time: 0.25s\n"
     ]
    },
    {
     "name": "stderr",
     "output_type": "stream",
     "text": []
    },
    {
     "name": "stdout",
     "output_type": "stream",
     "text": [
      "Epoch [1/10], Step [100/1137], TrainLoss: nan; ValidLoss: 0.7380, Accuracy: 0.4980, Precision: 0.4986, Recall: 0.0680, curr_epoch_best_accuracy: 0.5002; Time: 0.27s\n"
     ]
    },
    {
     "name": "stderr",
     "output_type": "stream",
     "text": []
    },
    {
     "name": "stdout",
     "output_type": "stream",
     "text": [
      "Epoch [1/10], Step [100/1137], TrainLoss: nan; ValidLoss: 0.7379, Accuracy: 0.4983, Precision: 0.4982, Recall: 0.0681, curr_epoch_best_accuracy: 0.5002; Time: 0.37s\n"
     ]
    },
    {
     "name": "stderr",
     "output_type": "stream",
     "text": []
    },
    {
     "name": "stdout",
     "output_type": "stream",
     "text": [
      "Epoch [1/10], Step [100/1137], TrainLoss: nan; ValidLoss: 0.7378, Accuracy: 0.4983, Precision: 0.4988, Recall: 0.0683, curr_epoch_best_accuracy: 0.5002; Time: 0.38s\n"
     ]
    },
    {
     "name": "stderr",
     "output_type": "stream",
     "text": []
    },
    {
     "name": "stdout",
     "output_type": "stream",
     "text": [
      "Epoch [1/10], Step [100/1137], TrainLoss: nan; ValidLoss: 0.7379, Accuracy: 0.4983, Precision: 0.4996, Recall: 0.0683, curr_epoch_best_accuracy: 0.5002; Time: 0.31s\n"
     ]
    },
    {
     "name": "stderr",
     "output_type": "stream",
     "text": []
    },
    {
     "name": "stdout",
     "output_type": "stream",
     "text": [
      "Epoch [1/10], Step [100/1137], TrainLoss: nan; ValidLoss: 0.7378, Accuracy: 0.4984, Precision: 0.4996, Recall: 0.0682, curr_epoch_best_accuracy: 0.5002; Time: 0.28s\n"
     ]
    },
    {
     "name": "stderr",
     "output_type": "stream",
     "text": []
    },
    {
     "name": "stdout",
     "output_type": "stream",
     "text": [
      "Epoch [1/10], Step [100/1137], TrainLoss: nan; ValidLoss: 0.7379, Accuracy: 0.4982, Precision: 0.5004, Recall: 0.0683, curr_epoch_best_accuracy: 0.5002; Time: 0.38s\n"
     ]
    },
    {
     "name": "stderr",
     "output_type": "stream",
     "text": []
    },
    {
     "name": "stdout",
     "output_type": "stream",
     "text": [
      "Epoch [1/10], Step [100/1137], TrainLoss: nan; ValidLoss: 0.7378, Accuracy: 0.4983, Precision: 0.5013, Recall: 0.0684, curr_epoch_best_accuracy: 0.5002; Time: 0.30s\n"
     ]
    },
    {
     "name": "stderr",
     "output_type": "stream",
     "text": []
    },
    {
     "name": "stdout",
     "output_type": "stream",
     "text": [
      "Epoch [1/10], Step [100/1137], TrainLoss: nan; ValidLoss: 0.7377, Accuracy: 0.4985, Precision: 0.5013, Recall: 0.0685, curr_epoch_best_accuracy: 0.5002; Time: 0.29s\n"
     ]
    },
    {
     "name": "stderr",
     "output_type": "stream",
     "text": []
    },
    {
     "name": "stdout",
     "output_type": "stream",
     "text": [
      "Epoch [1/10], Step [100/1137], TrainLoss: nan; ValidLoss: 0.7377, Accuracy: 0.4985, Precision: 0.5007, Recall: 0.0684, curr_epoch_best_accuracy: 0.5002; Time: 0.31s\n"
     ]
    },
    {
     "name": "stderr",
     "output_type": "stream",
     "text": []
    },
    {
     "name": "stdout",
     "output_type": "stream",
     "text": [
      "Epoch [1/10], Step [100/1137], TrainLoss: nan; ValidLoss: 0.7376, Accuracy: 0.4988, Precision: 0.5006, Recall: 0.0683, curr_epoch_best_accuracy: 0.5002; Time: 0.31s\n"
     ]
    },
    {
     "name": "stderr",
     "output_type": "stream",
     "text": []
    },
    {
     "name": "stdout",
     "output_type": "stream",
     "text": [
      "Epoch [1/10], Step [100/1137], TrainLoss: nan; ValidLoss: 0.7379, Accuracy: 0.4984, Precision: 0.5000, Recall: 0.0682, curr_epoch_best_accuracy: 0.5002; Time: 0.34s\n"
     ]
    },
    {
     "name": "stderr",
     "output_type": "stream",
     "text": []
    },
    {
     "name": "stdout",
     "output_type": "stream",
     "text": [
      "Epoch [1/10], Step [100/1137], TrainLoss: nan; ValidLoss: 0.7382, Accuracy: 0.4980, Precision: 0.5000, Recall: 0.0681, curr_epoch_best_accuracy: 0.5002; Time: 0.51s\n"
     ]
    },
    {
     "name": "stderr",
     "output_type": "stream",
     "text": []
    },
    {
     "name": "stdout",
     "output_type": "stream",
     "text": [
      "Epoch [1/10], Step [100/1137], TrainLoss: nan; ValidLoss: 0.7384, Accuracy: 0.4977, Precision: 0.5003, Recall: 0.0682, curr_epoch_best_accuracy: 0.5002; Time: 0.51s\n"
     ]
    },
    {
     "name": "stderr",
     "output_type": "stream",
     "text": []
    },
    {
     "name": "stdout",
     "output_type": "stream",
     "text": [
      "Epoch [1/10], Step [100/1137], TrainLoss: nan; ValidLoss: 0.7382, Accuracy: 0.4979, Precision: 0.4993, Recall: 0.0682, curr_epoch_best_accuracy: 0.5002; Time: 0.34s\n"
     ]
    },
    {
     "name": "stderr",
     "output_type": "stream",
     "text": []
    },
    {
     "name": "stdout",
     "output_type": "stream",
     "text": [
      "Epoch [1/10], Step [100/1137], TrainLoss: nan; ValidLoss: 0.7383, Accuracy: 0.4978, Precision: 0.5001, Recall: 0.0683, curr_epoch_best_accuracy: 0.5002; Time: 0.33s\n"
     ]
    },
    {
     "name": "stderr",
     "output_type": "stream",
     "text": []
    },
    {
     "name": "stdout",
     "output_type": "stream",
     "text": [
      "Epoch [1/10], Step [100/1137], TrainLoss: nan; ValidLoss: 0.7383, Accuracy: 0.4979, Precision: 0.4984, Recall: 0.0681, curr_epoch_best_accuracy: 0.5002; Time: 0.37s\n"
     ]
    },
    {
     "name": "stderr",
     "output_type": "stream",
     "text": []
    },
    {
     "name": "stdout",
     "output_type": "stream",
     "text": [
      "Epoch [1/10], Step [100/1137], TrainLoss: nan; ValidLoss: 0.7384, Accuracy: 0.4978, Precision: 0.4983, Recall: 0.0680, curr_epoch_best_accuracy: 0.5002; Time: 0.36s\n"
     ]
    },
    {
     "name": "stderr",
     "output_type": "stream",
     "text": []
    },
    {
     "name": "stdout",
     "output_type": "stream",
     "text": [
      "Epoch [1/10], Step [100/1137], TrainLoss: nan; ValidLoss: 0.7383, Accuracy: 0.4979, Precision: 0.4987, Recall: 0.0681, curr_epoch_best_accuracy: 0.5002; Time: 0.32s\n"
     ]
    },
    {
     "name": "stderr",
     "output_type": "stream",
     "text": []
    },
    {
     "name": "stdout",
     "output_type": "stream",
     "text": [
      "Epoch [1/10], Step [100/1137], TrainLoss: nan; ValidLoss: 0.7383, Accuracy: 0.4977, Precision: 0.4976, Recall: 0.0679, curr_epoch_best_accuracy: 0.5002; Time: 0.25s\n"
     ]
    },
    {
     "name": "stderr",
     "output_type": "stream",
     "text": []
    },
    {
     "name": "stdout",
     "output_type": "stream",
     "text": [
      "Epoch [1/10], Step [100/1137], TrainLoss: nan; ValidLoss: 0.7384, Accuracy: 0.4978, Precision: 0.4987, Recall: 0.0680, curr_epoch_best_accuracy: 0.5002; Time: 0.28s\n"
     ]
    },
    {
     "name": "stderr",
     "output_type": "stream",
     "text": []
    },
    {
     "name": "stdout",
     "output_type": "stream",
     "text": [
      "Epoch [1/10], Step [100/1137], TrainLoss: nan; ValidLoss: 0.7383, Accuracy: 0.4978, Precision: 0.4985, Recall: 0.0679, curr_epoch_best_accuracy: 0.5002; Time: 0.29s\n"
     ]
    },
    {
     "name": "stderr",
     "output_type": "stream",
     "text": []
    },
    {
     "name": "stdout",
     "output_type": "stream",
     "text": [
      "Epoch [1/10], Step [100/1137], TrainLoss: nan; ValidLoss: 0.7383, Accuracy: 0.4980, Precision: 0.4990, Recall: 0.0679, curr_epoch_best_accuracy: 0.5002; Time: 0.41s\n"
     ]
    },
    {
     "name": "stderr",
     "output_type": "stream",
     "text": []
    },
    {
     "name": "stdout",
     "output_type": "stream",
     "text": [
      "Epoch [1/10], Step [100/1137], TrainLoss: nan; ValidLoss: 0.7382, Accuracy: 0.4983, Precision: 0.4990, Recall: 0.0681, curr_epoch_best_accuracy: 0.5002; Time: 0.38s\n"
     ]
    },
    {
     "name": "stderr",
     "output_type": "stream",
     "text": []
    },
    {
     "name": "stdout",
     "output_type": "stream",
     "text": [
      "Epoch [1/10], Step [100/1137], TrainLoss: nan; ValidLoss: 0.7381, Accuracy: 0.4984, Precision: 0.5000, Recall: 0.0684, curr_epoch_best_accuracy: 0.5002; Time: 0.34s\n"
     ]
    },
    {
     "name": "stderr",
     "output_type": "stream",
     "text": []
    },
    {
     "name": "stdout",
     "output_type": "stream",
     "text": [
      "Epoch [1/10], Step [100/1137], TrainLoss: nan; ValidLoss: 0.7381, Accuracy: 0.4984, Precision: 0.5004, Recall: 0.0683, curr_epoch_best_accuracy: 0.5002; Time: 0.33s\n"
     ]
    },
    {
     "name": "stderr",
     "output_type": "stream",
     "text": []
    },
    {
     "name": "stdout",
     "output_type": "stream",
     "text": [
      "Epoch [1/10], Step [100/1137], TrainLoss: nan; ValidLoss: 0.7381, Accuracy: 0.4986, Precision: 0.5002, Recall: 0.0684, curr_epoch_best_accuracy: 0.5002; Time: 0.46s\n"
     ]
    },
    {
     "name": "stderr",
     "output_type": "stream",
     "text": []
    },
    {
     "name": "stdout",
     "output_type": "stream",
     "text": [
      "Epoch [1/10], Step [100/1137], TrainLoss: nan; ValidLoss: 0.7381, Accuracy: 0.4984, Precision: 0.5000, Recall: 0.0682, curr_epoch_best_accuracy: 0.5002; Time: 0.53s\n"
     ]
    },
    {
     "name": "stderr",
     "output_type": "stream",
     "text": []
    },
    {
     "name": "stdout",
     "output_type": "stream",
     "text": [
      "Epoch [1/10], Step [100/1137], TrainLoss: nan; ValidLoss: 0.7382, Accuracy: 0.4983, Precision: 0.5000, Recall: 0.0680, curr_epoch_best_accuracy: 0.5002; Time: 0.37s\n"
     ]
    },
    {
     "name": "stderr",
     "output_type": "stream",
     "text": []
    },
    {
     "name": "stdout",
     "output_type": "stream",
     "text": [
      "Epoch [1/10], Step [100/1137], TrainLoss: nan; ValidLoss: 0.7382, Accuracy: 0.4984, Precision: 0.5011, Recall: 0.0683, curr_epoch_best_accuracy: 0.5002; Time: 0.33s\n"
     ]
    },
    {
     "name": "stderr",
     "output_type": "stream",
     "text": []
    },
    {
     "name": "stdout",
     "output_type": "stream",
     "text": [
      "Epoch [1/10], Step [100/1137], TrainLoss: nan; ValidLoss: 0.7381, Accuracy: 0.4986, Precision: 0.5018, Recall: 0.0683, curr_epoch_best_accuracy: 0.5002; Time: 0.32s\n"
     ]
    },
    {
     "name": "stderr",
     "output_type": "stream",
     "text": []
    },
    {
     "name": "stdout",
     "output_type": "stream",
     "text": [
      "Epoch [1/10], Step [100/1137], TrainLoss: nan; ValidLoss: 0.7381, Accuracy: 0.4984, Precision: 0.5010, Recall: 0.0682, curr_epoch_best_accuracy: 0.5002; Time: 0.40s\n"
     ]
    },
    {
     "name": "stderr",
     "output_type": "stream",
     "text": []
    },
    {
     "name": "stdout",
     "output_type": "stream",
     "text": [
      "Epoch [1/10], Step [100/1137], TrainLoss: nan; ValidLoss: 0.7380, Accuracy: 0.4985, Precision: 0.5009, Recall: 0.0681, curr_epoch_best_accuracy: 0.5002; Time: 0.37s\n"
     ]
    },
    {
     "name": "stderr",
     "output_type": "stream",
     "text": []
    },
    {
     "name": "stdout",
     "output_type": "stream",
     "text": [
      "Epoch [1/10], Step [100/1137], TrainLoss: nan; ValidLoss: 0.7380, Accuracy: 0.4984, Precision: 0.5019, Recall: 0.0682, curr_epoch_best_accuracy: 0.5002; Time: 0.37s\n"
     ]
    },
    {
     "name": "stderr",
     "output_type": "stream",
     "text": []
    },
    {
     "name": "stdout",
     "output_type": "stream",
     "text": [
      "Epoch [1/10], Step [100/1137], TrainLoss: nan; ValidLoss: 0.7381, Accuracy: 0.4982, Precision: 0.5015, Recall: 0.0681, curr_epoch_best_accuracy: 0.5002; Time: 0.34s\n"
     ]
    },
    {
     "name": "stderr",
     "output_type": "stream",
     "text": []
    },
    {
     "name": "stdout",
     "output_type": "stream",
     "text": [
      "Epoch [1/10], Step [100/1137], TrainLoss: nan; ValidLoss: 0.7381, Accuracy: 0.4982, Precision: 0.5009, Recall: 0.0680, curr_epoch_best_accuracy: 0.5002; Time: 0.47s\n"
     ]
    },
    {
     "name": "stderr",
     "output_type": "stream",
     "text": []
    },
    {
     "name": "stdout",
     "output_type": "stream",
     "text": [
      "Epoch [1/10], Step [100/1137], TrainLoss: nan; ValidLoss: 0.7382, Accuracy: 0.4980, Precision: 0.5017, Recall: 0.0681, curr_epoch_best_accuracy: 0.5002; Time: 0.38s\n"
     ]
    },
    {
     "name": "stderr",
     "output_type": "stream",
     "text": []
    },
    {
     "name": "stdout",
     "output_type": "stream",
     "text": [
      "Epoch [1/10], Step [100/1137], TrainLoss: nan; ValidLoss: 0.7382, Accuracy: 0.4983, Precision: 0.5030, Recall: 0.0682, curr_epoch_best_accuracy: 0.5002; Time: 0.44s\n"
     ]
    },
    {
     "name": "stderr",
     "output_type": "stream",
     "text": []
    },
    {
     "name": "stdout",
     "output_type": "stream",
     "text": [
      "Epoch [1/10], Step [100/1137], TrainLoss: nan; ValidLoss: 0.7383, Accuracy: 0.4980, Precision: 0.5031, Recall: 0.0682, curr_epoch_best_accuracy: 0.5002; Time: 0.34s\n"
     ]
    },
    {
     "name": "stderr",
     "output_type": "stream",
     "text": []
    },
    {
     "name": "stdout",
     "output_type": "stream",
     "text": [
      "Epoch [1/10], Step [100/1137], TrainLoss: nan; ValidLoss: 0.7383, Accuracy: 0.4982, Precision: 0.5036, Recall: 0.0682, curr_epoch_best_accuracy: 0.5002; Time: 0.48s\n"
     ]
    },
    {
     "name": "stderr",
     "output_type": "stream",
     "text": []
    },
    {
     "name": "stdout",
     "output_type": "stream",
     "text": [
      "Epoch [1/10], Step [100/1137], TrainLoss: nan; ValidLoss: 0.7385, Accuracy: 0.4978, Precision: 0.5031, Recall: 0.0680, curr_epoch_best_accuracy: 0.5002; Time: 0.50s\n"
     ]
    },
    {
     "name": "stderr",
     "output_type": "stream",
     "text": []
    },
    {
     "name": "stdout",
     "output_type": "stream",
     "text": [
      "Epoch [1/10], Step [100/1137], TrainLoss: nan; ValidLoss: 0.7385, Accuracy: 0.4975, Precision: 0.5023, Recall: 0.0677, curr_epoch_best_accuracy: 0.5002; Time: 0.43s\n"
     ]
    },
    {
     "name": "stderr",
     "output_type": "stream",
     "text": []
    },
    {
     "name": "stdout",
     "output_type": "stream",
     "text": [
      "Epoch [1/10], Step [100/1137], TrainLoss: nan; ValidLoss: 0.7386, Accuracy: 0.4975, Precision: 0.5035, Recall: 0.0679, curr_epoch_best_accuracy: 0.5002; Time: 0.35s\n"
     ]
    },
    {
     "name": "stderr",
     "output_type": "stream",
     "text": []
    },
    {
     "name": "stdout",
     "output_type": "stream",
     "text": [
      "Epoch [1/10], Step [100/1137], TrainLoss: nan; ValidLoss: 0.7387, Accuracy: 0.4972, Precision: 0.5026, Recall: 0.0677, curr_epoch_best_accuracy: 0.5002; Time: 0.38s\n"
     ]
    },
    {
     "name": "stderr",
     "output_type": "stream",
     "text": []
    },
    {
     "name": "stdout",
     "output_type": "stream",
     "text": [
      "Epoch [1/10], Step [100/1137], TrainLoss: nan; ValidLoss: 0.7387, Accuracy: 0.4974, Precision: 0.5030, Recall: 0.0676, curr_epoch_best_accuracy: 0.5002; Time: 0.37s\n"
     ]
    },
    {
     "name": "stderr",
     "output_type": "stream",
     "text": []
    },
    {
     "name": "stdout",
     "output_type": "stream",
     "text": [
      "Epoch [1/10], Step [100/1137], TrainLoss: nan; ValidLoss: 0.7388, Accuracy: 0.4972, Precision: 0.5037, Recall: 0.0676, curr_epoch_best_accuracy: 0.5002; Time: 0.41s\n"
     ]
    },
    {
     "name": "stderr",
     "output_type": "stream",
     "text": []
    },
    {
     "name": "stdout",
     "output_type": "stream",
     "text": [
      "Epoch [1/10], Step [100/1137], TrainLoss: nan; ValidLoss: 0.7389, Accuracy: 0.4970, Precision: 0.5028, Recall: 0.0677, curr_epoch_best_accuracy: 0.5002; Time: 0.46s\n"
     ]
    },
    {
     "name": "stderr",
     "output_type": "stream",
     "text": []
    },
    {
     "name": "stdout",
     "output_type": "stream",
     "text": [
      "Epoch [1/10], Step [100/1137], TrainLoss: nan; ValidLoss: 0.7388, Accuracy: 0.4972, Precision: 0.5033, Recall: 0.0678, curr_epoch_best_accuracy: 0.5002; Time: 0.53s\n"
     ]
    },
    {
     "name": "stderr",
     "output_type": "stream",
     "text": []
    },
    {
     "name": "stdout",
     "output_type": "stream",
     "text": [
      "Epoch [1/10], Step [100/1137], TrainLoss: nan; ValidLoss: 0.7389, Accuracy: 0.4971, Precision: 0.5020, Recall: 0.0678, curr_epoch_best_accuracy: 0.5002; Time: 0.43s\n"
     ]
    },
    {
     "name": "stderr",
     "output_type": "stream",
     "text": []
    },
    {
     "name": "stdout",
     "output_type": "stream",
     "text": [
      "Epoch [1/10], Step [100/1137], TrainLoss: nan; ValidLoss: 0.7389, Accuracy: 0.4971, Precision: 0.5009, Recall: 0.0679, curr_epoch_best_accuracy: 0.5002; Time: 0.41s\n"
     ]
    },
    {
     "name": "stderr",
     "output_type": "stream",
     "text": []
    },
    {
     "name": "stdout",
     "output_type": "stream",
     "text": [
      "Epoch [1/10], Step [100/1137], TrainLoss: nan; ValidLoss: 0.7388, Accuracy: 0.4973, Precision: 0.5011, Recall: 0.0679, curr_epoch_best_accuracy: 0.5002; Time: 0.36s\n"
     ]
    },
    {
     "name": "stderr",
     "output_type": "stream",
     "text": []
    },
    {
     "name": "stdout",
     "output_type": "stream",
     "text": [
      "Epoch [1/10], Step [100/1137], TrainLoss: nan; ValidLoss: 0.7387, Accuracy: 0.4973, Precision: 0.5013, Recall: 0.0680, curr_epoch_best_accuracy: 0.5002; Time: 0.29s\n"
     ]
    },
    {
     "name": "stderr",
     "output_type": "stream",
     "text": []
    },
    {
     "name": "stdout",
     "output_type": "stream",
     "text": [
      "Epoch [1/10], Step [100/1137], TrainLoss: nan; ValidLoss: 0.7387, Accuracy: 0.4974, Precision: 0.5018, Recall: 0.0679, curr_epoch_best_accuracy: 0.5002; Time: 0.40s\n"
     ]
    },
    {
     "name": "stderr",
     "output_type": "stream",
     "text": []
    },
    {
     "name": "stdout",
     "output_type": "stream",
     "text": [
      "Epoch [1/10], Step [100/1137], TrainLoss: nan; ValidLoss: 0.7386, Accuracy: 0.4976, Precision: 0.5016, Recall: 0.0679, curr_epoch_best_accuracy: 0.5002; Time: 0.37s\n"
     ]
    },
    {
     "name": "stderr",
     "output_type": "stream",
     "text": []
    },
    {
     "name": "stdout",
     "output_type": "stream",
     "text": [
      "Epoch [1/10], Step [100/1137], TrainLoss: nan; ValidLoss: 0.7385, Accuracy: 0.4976, Precision: 0.5007, Recall: 0.0677, curr_epoch_best_accuracy: 0.5002; Time: 0.45s\n"
     ]
    },
    {
     "name": "stderr",
     "output_type": "stream",
     "text": []
    },
    {
     "name": "stdout",
     "output_type": "stream",
     "text": [
      "Epoch [1/10], Step [100/1137], TrainLoss: nan; ValidLoss: 0.7384, Accuracy: 0.4978, Precision: 0.5004, Recall: 0.0676, curr_epoch_best_accuracy: 0.5002; Time: 0.43s\n"
     ]
    },
    {
     "name": "stderr",
     "output_type": "stream",
     "text": []
    },
    {
     "name": "stdout",
     "output_type": "stream",
     "text": [
      "Epoch [1/10], Step [100/1137], TrainLoss: nan; ValidLoss: 0.7383, Accuracy: 0.4980, Precision: 0.5014, Recall: 0.0678, curr_epoch_best_accuracy: 0.5002; Time: 0.41s\n"
     ]
    },
    {
     "name": "stderr",
     "output_type": "stream",
     "text": []
    },
    {
     "name": "stdout",
     "output_type": "stream",
     "text": [
      "Epoch [1/10], Step [100/1137], TrainLoss: nan; ValidLoss: 0.7382, Accuracy: 0.4982, Precision: 0.5022, Recall: 0.0679, curr_epoch_best_accuracy: 0.5002; Time: 0.56s\n"
     ]
    },
    {
     "name": "stderr",
     "output_type": "stream",
     "text": []
    },
    {
     "name": "stdout",
     "output_type": "stream",
     "text": [
      "Epoch [1/10], Step [100/1137], TrainLoss: nan; ValidLoss: 0.7384, Accuracy: 0.4980, Precision: 0.5027, Recall: 0.0680, curr_epoch_best_accuracy: 0.5002; Time: 0.40s\n"
     ]
    },
    {
     "name": "stderr",
     "output_type": "stream",
     "text": []
    },
    {
     "name": "stdout",
     "output_type": "stream",
     "text": [
      "Epoch [1/10], Step [100/1137], TrainLoss: nan; ValidLoss: 0.7383, Accuracy: 0.4980, Precision: 0.5012, Recall: 0.0679, curr_epoch_best_accuracy: 0.5002; Time: 0.44s\n"
     ]
    },
    {
     "name": "stderr",
     "output_type": "stream",
     "text": []
    },
    {
     "name": "stdout",
     "output_type": "stream",
     "text": [
      "Epoch [1/10], Step [100/1137], TrainLoss: nan; ValidLoss: 0.7384, Accuracy: 0.4980, Precision: 0.5021, Recall: 0.0681, curr_epoch_best_accuracy: 0.5002; Time: 0.43s\n"
     ]
    },
    {
     "name": "stderr",
     "output_type": "stream",
     "text": []
    },
    {
     "name": "stdout",
     "output_type": "stream",
     "text": [
      "Epoch [1/10], Step [100/1137], TrainLoss: nan; ValidLoss: 0.7383, Accuracy: 0.4983, Precision: 0.5023, Recall: 0.0681, curr_epoch_best_accuracy: 0.5002; Time: 0.39s\n"
     ]
    },
    {
     "name": "stderr",
     "output_type": "stream",
     "text": []
    },
    {
     "name": "stdout",
     "output_type": "stream",
     "text": [
      "Epoch [1/10], Step [100/1137], TrainLoss: nan; ValidLoss: 0.7383, Accuracy: 0.4982, Precision: 0.5016, Recall: 0.0680, curr_epoch_best_accuracy: 0.5002; Time: 0.42s\n"
     ]
    },
    {
     "name": "stderr",
     "output_type": "stream",
     "text": []
    },
    {
     "name": "stdout",
     "output_type": "stream",
     "text": [
      "Epoch [1/10], Step [100/1137], TrainLoss: nan; ValidLoss: 0.7383, Accuracy: 0.4981, Precision: 0.5020, Recall: 0.0681, curr_epoch_best_accuracy: 0.5002; Time: 0.46s\n"
     ]
    },
    {
     "name": "stderr",
     "output_type": "stream",
     "text": []
    },
    {
     "name": "stdout",
     "output_type": "stream",
     "text": [
      "Epoch [1/10], Step [100/1137], TrainLoss: nan; ValidLoss: 0.7384, Accuracy: 0.4980, Precision: 0.5016, Recall: 0.0679, curr_epoch_best_accuracy: 0.5002; Time: 0.44s\n"
     ]
    },
    {
     "name": "stderr",
     "output_type": "stream",
     "text": []
    },
    {
     "name": "stdout",
     "output_type": "stream",
     "text": [
      "Epoch [1/10], Step [100/1137], TrainLoss: nan; ValidLoss: 0.7383, Accuracy: 0.4983, Precision: 0.5022, Recall: 0.0681, curr_epoch_best_accuracy: 0.5002; Time: 0.40s\n"
     ]
    },
    {
     "name": "stderr",
     "output_type": "stream",
     "text": []
    },
    {
     "name": "stdout",
     "output_type": "stream",
     "text": [
      "Epoch [1/10], Step [100/1137], TrainLoss: nan; ValidLoss: 0.7383, Accuracy: 0.4984, Precision: 0.5029, Recall: 0.0682, curr_epoch_best_accuracy: 0.5002; Time: 0.44s\n"
     ]
    },
    {
     "name": "stderr",
     "output_type": "stream",
     "text": []
    },
    {
     "name": "stdout",
     "output_type": "stream",
     "text": [
      "Epoch [1/10], Step [100/1137], TrainLoss: nan; ValidLoss: 0.7384, Accuracy: 0.4983, Precision: 0.5032, Recall: 0.0683, curr_epoch_best_accuracy: 0.5002; Time: 0.42s\n"
     ]
    },
    {
     "name": "stderr",
     "output_type": "stream",
     "text": []
    },
    {
     "name": "stdout",
     "output_type": "stream",
     "text": [
      "Epoch [1/10], Step [100/1137], TrainLoss: nan; ValidLoss: 0.7384, Accuracy: 0.4983, Precision: 0.5039, Recall: 0.0684, curr_epoch_best_accuracy: 0.5002; Time: 0.50s\n"
     ]
    },
    {
     "name": "stderr",
     "output_type": "stream",
     "text": []
    },
    {
     "name": "stdout",
     "output_type": "stream",
     "text": [
      "Epoch [1/10], Step [100/1137], TrainLoss: nan; ValidLoss: 0.7383, Accuracy: 0.4984, Precision: 0.5041, Recall: 0.0685, curr_epoch_best_accuracy: 0.5002; Time: 0.61s\n"
     ]
    },
    {
     "name": "stderr",
     "output_type": "stream",
     "text": []
    },
    {
     "name": "stdout",
     "output_type": "stream",
     "text": [
      "Epoch [1/10], Step [100/1137], TrainLoss: nan; ValidLoss: 0.7383, Accuracy: 0.4983, Precision: 0.5030, Recall: 0.0682, curr_epoch_best_accuracy: 0.5002; Time: 0.48s\n"
     ]
    },
    {
     "name": "stderr",
     "output_type": "stream",
     "text": []
    },
    {
     "name": "stdout",
     "output_type": "stream",
     "text": [
      "Epoch [1/10], Step [100/1137], TrainLoss: nan; ValidLoss: 0.7383, Accuracy: 0.4984, Precision: 0.5034, Recall: 0.0681, curr_epoch_best_accuracy: 0.5002; Time: 0.41s\n"
     ]
    },
    {
     "name": "stderr",
     "output_type": "stream",
     "text": []
    },
    {
     "name": "stdout",
     "output_type": "stream",
     "text": [
      "Epoch [1/10], Step [100/1137], TrainLoss: nan; ValidLoss: 0.7382, Accuracy: 0.4985, Precision: 0.5033, Recall: 0.0681, curr_epoch_best_accuracy: 0.5002; Time: 0.51s\n"
     ]
    },
    {
     "name": "stderr",
     "output_type": "stream",
     "text": []
    },
    {
     "name": "stdout",
     "output_type": "stream",
     "text": [
      "Epoch [1/10], Step [100/1137], TrainLoss: nan; ValidLoss: 0.7383, Accuracy: 0.4985, Precision: 0.5030, Recall: 0.0680, curr_epoch_best_accuracy: 0.5002; Time: 0.48s\n"
     ]
    },
    {
     "name": "stderr",
     "output_type": "stream",
     "text": []
    },
    {
     "name": "stdout",
     "output_type": "stream",
     "text": [
      "Epoch [1/10], Step [100/1137], TrainLoss: nan; ValidLoss: 0.7382, Accuracy: 0.4985, Precision: 0.5025, Recall: 0.0679, curr_epoch_best_accuracy: 0.5002; Time: 0.44s\n"
     ]
    },
    {
     "name": "stderr",
     "output_type": "stream",
     "text": []
    },
    {
     "name": "stdout",
     "output_type": "stream",
     "text": [
      "Epoch [1/10], Step [100/1137], TrainLoss: nan; ValidLoss: 0.7382, Accuracy: 0.4986, Precision: 0.5028, Recall: 0.0679, curr_epoch_best_accuracy: 0.5002; Time: 0.48s\n"
     ]
    },
    {
     "name": "stderr",
     "output_type": "stream",
     "text": []
    },
    {
     "name": "stdout",
     "output_type": "stream",
     "text": [
      "Epoch [1/10], Step [100/1137], TrainLoss: nan; ValidLoss: 0.7381, Accuracy: 0.4986, Precision: 0.5023, Recall: 0.0679, curr_epoch_best_accuracy: 0.5002; Time: 0.44s\n"
     ]
    },
    {
     "name": "stderr",
     "output_type": "stream",
     "text": []
    },
    {
     "name": "stdout",
     "output_type": "stream",
     "text": [
      "Epoch [1/10], Step [100/1137], TrainLoss: nan; ValidLoss: 0.7381, Accuracy: 0.4986, Precision: 0.5021, Recall: 0.0678, curr_epoch_best_accuracy: 0.5002; Time: 0.43s\n"
     ]
    },
    {
     "name": "stderr",
     "output_type": "stream",
     "text": []
    },
    {
     "name": "stdout",
     "output_type": "stream",
     "text": [
      "Epoch [1/10], Step [100/1137], TrainLoss: nan; ValidLoss: 0.7382, Accuracy: 0.4985, Precision: 0.5021, Recall: 0.0680, curr_epoch_best_accuracy: 0.5002; Time: 0.43s\n"
     ]
    },
    {
     "name": "stderr",
     "output_type": "stream",
     "text": []
    },
    {
     "name": "stdout",
     "output_type": "stream",
     "text": [
      "Epoch [1/10], Step [100/1137], TrainLoss: nan; ValidLoss: 0.7382, Accuracy: 0.4986, Precision: 0.5019, Recall: 0.0678, curr_epoch_best_accuracy: 0.5002; Time: 0.33s\n"
     ]
    },
    {
     "name": "stderr",
     "output_type": "stream",
     "text": []
    },
    {
     "name": "stdout",
     "output_type": "stream",
     "text": [
      "Epoch [1/10], Step [100/1137], TrainLoss: nan; ValidLoss: 0.7381, Accuracy: 0.4987, Precision: 0.5020, Recall: 0.0678, curr_epoch_best_accuracy: 0.5002; Time: 0.40s\n"
     ]
    },
    {
     "name": "stderr",
     "output_type": "stream",
     "text": []
    },
    {
     "name": "stdout",
     "output_type": "stream",
     "text": [
      "Epoch [1/10], Step [100/1137], TrainLoss: nan; ValidLoss: 0.7379, Accuracy: 0.4988, Precision: 0.5023, Recall: 0.0680, curr_epoch_best_accuracy: 0.5002; Time: 0.34s\n"
     ]
    },
    {
     "name": "stderr",
     "output_type": "stream",
     "text": []
    },
    {
     "name": "stdout",
     "output_type": "stream",
     "text": [
      "Epoch [1/10], Step [100/1137], TrainLoss: nan; ValidLoss: 0.7379, Accuracy: 0.4988, Precision: 0.5018, Recall: 0.0679, curr_epoch_best_accuracy: 0.5002; Time: 0.37s\n"
     ]
    },
    {
     "name": "stderr",
     "output_type": "stream",
     "text": []
    },
    {
     "name": "stdout",
     "output_type": "stream",
     "text": [
      "Epoch [1/10], Step [100/1137], TrainLoss: nan; ValidLoss: 0.7379, Accuracy: 0.4988, Precision: 0.5013, Recall: 0.0679, curr_epoch_best_accuracy: 0.5002; Time: 0.44s\n"
     ]
    },
    {
     "name": "stderr",
     "output_type": "stream",
     "text": []
    },
    {
     "name": "stdout",
     "output_type": "stream",
     "text": [
      "Epoch [1/10], Step [100/1137], TrainLoss: nan; ValidLoss: 0.7379, Accuracy: 0.4988, Precision: 0.5011, Recall: 0.0679, curr_epoch_best_accuracy: 0.5002; Time: 0.45s\n"
     ]
    },
    {
     "name": "stderr",
     "output_type": "stream",
     "text": []
    },
    {
     "name": "stdout",
     "output_type": "stream",
     "text": [
      "Epoch [1/10], Step [100/1137], TrainLoss: nan; ValidLoss: 0.7379, Accuracy: 0.4989, Precision: 0.5011, Recall: 0.0679, curr_epoch_best_accuracy: 0.5002; Time: 0.43s\n"
     ]
    },
    {
     "name": "stderr",
     "output_type": "stream",
     "text": []
    },
    {
     "name": "stdout",
     "output_type": "stream",
     "text": [
      "Epoch [1/10], Step [100/1137], TrainLoss: nan; ValidLoss: 0.7379, Accuracy: 0.4989, Precision: 0.5015, Recall: 0.0679, curr_epoch_best_accuracy: 0.5002; Time: 0.45s\n"
     ]
    },
    {
     "name": "stderr",
     "output_type": "stream",
     "text": []
    },
    {
     "name": "stdout",
     "output_type": "stream",
     "text": [
      "Epoch [1/10], Step [100/1137], TrainLoss: nan; ValidLoss: 0.7380, Accuracy: 0.4989, Precision: 0.5017, Recall: 0.0677, curr_epoch_best_accuracy: 0.5002; Time: 0.42s\n"
     ]
    },
    {
     "name": "stderr",
     "output_type": "stream",
     "text": []
    },
    {
     "name": "stdout",
     "output_type": "stream",
     "text": [
      "Epoch [1/10], Step [100/1137], TrainLoss: nan; ValidLoss: 0.7380, Accuracy: 0.4988, Precision: 0.5012, Recall: 0.0677, curr_epoch_best_accuracy: 0.5002; Time: 0.45s\n"
     ]
    },
    {
     "name": "stderr",
     "output_type": "stream",
     "text": []
    },
    {
     "name": "stdout",
     "output_type": "stream",
     "text": [
      "Epoch [1/10], Step [100/1137], TrainLoss: nan; ValidLoss: 0.7381, Accuracy: 0.4987, Precision: 0.5010, Recall: 0.0676, curr_epoch_best_accuracy: 0.5002; Time: 0.43s\n"
     ]
    },
    {
     "name": "stderr",
     "output_type": "stream",
     "text": []
    },
    {
     "name": "stdout",
     "output_type": "stream",
     "text": [
      "Epoch [1/10], Step [100/1137], TrainLoss: nan; ValidLoss: 0.7381, Accuracy: 0.4987, Precision: 0.5009, Recall: 0.0675, curr_epoch_best_accuracy: 0.5002; Time: 0.44s\n"
     ]
    },
    {
     "name": "stderr",
     "output_type": "stream",
     "text": []
    },
    {
     "name": "stdout",
     "output_type": "stream",
     "text": [
      "Epoch [1/10], Step [100/1137], TrainLoss: nan; ValidLoss: 0.7381, Accuracy: 0.4985, Precision: 0.5003, Recall: 0.0674, curr_epoch_best_accuracy: 0.5002; Time: 0.46s\n"
     ]
    },
    {
     "name": "stderr",
     "output_type": "stream",
     "text": []
    },
    {
     "name": "stdout",
     "output_type": "stream",
     "text": [
      "Epoch [1/10], Step [100/1137], TrainLoss: nan; ValidLoss: 0.7381, Accuracy: 0.4985, Precision: 0.5005, Recall: 0.0674, curr_epoch_best_accuracy: 0.5002; Time: 0.48s\n"
     ]
    },
    {
     "name": "stderr",
     "output_type": "stream",
     "text": []
    },
    {
     "name": "stdout",
     "output_type": "stream",
     "text": [
      "Epoch [1/10], Step [100/1137], TrainLoss: nan; ValidLoss: 0.7382, Accuracy: 0.4984, Precision: 0.5002, Recall: 0.0674, curr_epoch_best_accuracy: 0.5002; Time: 0.46s\n"
     ]
    },
    {
     "name": "stderr",
     "output_type": "stream",
     "text": []
    },
    {
     "name": "stdout",
     "output_type": "stream",
     "text": [
      "Epoch [1/10], Step [100/1137], TrainLoss: nan; ValidLoss: 0.7383, Accuracy: 0.4982, Precision: 0.5004, Recall: 0.0674, curr_epoch_best_accuracy: 0.5002; Time: 0.47s\n"
     ]
    },
    {
     "name": "stderr",
     "output_type": "stream",
     "text": []
    },
    {
     "name": "stdout",
     "output_type": "stream",
     "text": [
      "Epoch [1/10], Step [100/1137], TrainLoss: nan; ValidLoss: 0.7384, Accuracy: 0.4980, Precision: 0.5002, Recall: 0.0673, curr_epoch_best_accuracy: 0.5002; Time: 0.47s\n"
     ]
    },
    {
     "name": "stderr",
     "output_type": "stream",
     "text": []
    },
    {
     "name": "stdout",
     "output_type": "stream",
     "text": [
      "Epoch [1/10], Step [100/1137], TrainLoss: nan; ValidLoss: 0.7385, Accuracy: 0.4978, Precision: 0.4996, Recall: 0.0672, curr_epoch_best_accuracy: 0.5002; Time: 0.49s\n"
     ]
    },
    {
     "name": "stderr",
     "output_type": "stream",
     "text": []
    },
    {
     "name": "stdout",
     "output_type": "stream",
     "text": [
      "Epoch [1/10], Step [100/1137], TrainLoss: nan; ValidLoss: 0.7386, Accuracy: 0.4977, Precision: 0.4998, Recall: 0.0672, curr_epoch_best_accuracy: 0.5002; Time: 0.47s\n"
     ]
    },
    {
     "name": "stderr",
     "output_type": "stream",
     "text": []
    },
    {
     "name": "stdout",
     "output_type": "stream",
     "text": [
      "Epoch [1/10], Step [100/1137], TrainLoss: nan; ValidLoss: 0.7384, Accuracy: 0.4980, Precision: 0.4992, Recall: 0.0671, curr_epoch_best_accuracy: 0.5002; Time: 0.49s\n"
     ]
    },
    {
     "name": "stderr",
     "output_type": "stream",
     "text": []
    },
    {
     "name": "stdout",
     "output_type": "stream",
     "text": [
      "Epoch [1/10], Step [100/1137], TrainLoss: nan; ValidLoss: 0.7384, Accuracy: 0.4981, Precision: 0.5000, Recall: 0.0672, curr_epoch_best_accuracy: 0.5002; Time: 0.47s\n"
     ]
    },
    {
     "name": "stderr",
     "output_type": "stream",
     "text": []
    },
    {
     "name": "stdout",
     "output_type": "stream",
     "text": [
      "Epoch [1/10], Step [100/1137], TrainLoss: nan; ValidLoss: 0.7383, Accuracy: 0.4982, Precision: 0.4996, Recall: 0.0672, curr_epoch_best_accuracy: 0.5002; Time: 0.47s\n"
     ]
    },
    {
     "name": "stderr",
     "output_type": "stream",
     "text": []
    },
    {
     "name": "stdout",
     "output_type": "stream",
     "text": [
      "Epoch [1/10], Step [100/1137], TrainLoss: nan; ValidLoss: 0.7382, Accuracy: 0.4984, Precision: 0.4998, Recall: 0.0672, curr_epoch_best_accuracy: 0.5002; Time: 0.44s\n"
     ]
    },
    {
     "name": "stderr",
     "output_type": "stream",
     "text": []
    },
    {
     "name": "stdout",
     "output_type": "stream",
     "text": [
      "Epoch [1/10], Step [100/1137], TrainLoss: nan; ValidLoss: 0.7381, Accuracy: 0.4985, Precision: 0.5008, Recall: 0.0674, curr_epoch_best_accuracy: 0.5002; Time: 0.50s\n"
     ]
    },
    {
     "name": "stderr",
     "output_type": "stream",
     "text": []
    },
    {
     "name": "stdout",
     "output_type": "stream",
     "text": [
      "Epoch [1/10], Step [100/1137], TrainLoss: nan; ValidLoss: 0.7382, Accuracy: 0.4985, Precision: 0.5007, Recall: 0.0673, curr_epoch_best_accuracy: 0.5002; Time: 0.51s\n"
     ]
    },
    {
     "name": "stderr",
     "output_type": "stream",
     "text": []
    },
    {
     "name": "stdout",
     "output_type": "stream",
     "text": [
      "Epoch [1/10], Step [100/1137], TrainLoss: nan; ValidLoss: 0.7382, Accuracy: 0.4985, Precision: 0.5007, Recall: 0.0674, curr_epoch_best_accuracy: 0.5002; Time: 0.47s\n"
     ]
    },
    {
     "name": "stderr",
     "output_type": "stream",
     "text": []
    },
    {
     "name": "stdout",
     "output_type": "stream",
     "text": [
      "Epoch [1/10], Step [100/1137], TrainLoss: nan; ValidLoss: 0.7382, Accuracy: 0.4984, Precision: 0.5007, Recall: 0.0674, curr_epoch_best_accuracy: 0.5002; Time: 0.47s\n"
     ]
    },
    {
     "name": "stderr",
     "output_type": "stream",
     "text": []
    },
    {
     "name": "stdout",
     "output_type": "stream",
     "text": [
      "Epoch [1/10], Step [100/1137], TrainLoss: nan; ValidLoss: 0.7381, Accuracy: 0.4985, Precision: 0.5001, Recall: 0.0672, curr_epoch_best_accuracy: 0.5002; Time: 0.37s\n"
     ]
    },
    {
     "name": "stderr",
     "output_type": "stream",
     "text": []
    },
    {
     "name": "stdout",
     "output_type": "stream",
     "text": [
      "Epoch [1/10], Step [100/1137], TrainLoss: nan; ValidLoss: 0.7383, Accuracy: 0.4982, Precision: 0.5005, Recall: 0.0672, curr_epoch_best_accuracy: 0.5002; Time: 0.45s\n"
     ]
    },
    {
     "name": "stderr",
     "output_type": "stream",
     "text": []
    },
    {
     "name": "stdout",
     "output_type": "stream",
     "text": [
      "Epoch [1/10], Step [100/1137], TrainLoss: nan; ValidLoss: 0.7383, Accuracy: 0.4984, Precision: 0.5004, Recall: 0.0673, curr_epoch_best_accuracy: 0.5002; Time: 0.39s\n"
     ]
    },
    {
     "name": "stderr",
     "output_type": "stream",
     "text": []
    },
    {
     "name": "stdout",
     "output_type": "stream",
     "text": [
      "Epoch [1/10], Step [100/1137], TrainLoss: nan; ValidLoss: 0.7382, Accuracy: 0.4984, Precision: 0.5000, Recall: 0.0673, curr_epoch_best_accuracy: 0.5002; Time: 0.44s\n"
     ]
    },
    {
     "name": "stderr",
     "output_type": "stream",
     "text": []
    },
    {
     "name": "stdout",
     "output_type": "stream",
     "text": [
      "Epoch [1/10], Step [100/1137], TrainLoss: nan; ValidLoss: 0.7381, Accuracy: 0.4986, Precision: 0.5001, Recall: 0.0674, curr_epoch_best_accuracy: 0.5002; Time: 0.47s\n"
     ]
    },
    {
     "name": "stderr",
     "output_type": "stream",
     "text": []
    },
    {
     "name": "stdout",
     "output_type": "stream",
     "text": [
      "Epoch [1/10], Step [100/1137], TrainLoss: nan; ValidLoss: 0.7380, Accuracy: 0.4987, Precision: 0.5005, Recall: 0.0674, curr_epoch_best_accuracy: 0.5002; Time: 0.49s\n"
     ]
    },
    {
     "name": "stderr",
     "output_type": "stream",
     "text": []
    },
    {
     "name": "stdout",
     "output_type": "stream",
     "text": [
      "Epoch [1/10], Step [100/1137], TrainLoss: nan; ValidLoss: 0.7382, Accuracy: 0.4983, Precision: 0.4999, Recall: 0.0672, curr_epoch_best_accuracy: 0.5002; Time: 0.44s\n"
     ]
    },
    {
     "name": "stderr",
     "output_type": "stream",
     "text": []
    },
    {
     "name": "stdout",
     "output_type": "stream",
     "text": [
      "Epoch [1/10], Step [100/1137], TrainLoss: nan; ValidLoss: 0.7383, Accuracy: 0.4982, Precision: 0.4994, Recall: 0.0671, curr_epoch_best_accuracy: 0.5002; Time: 0.48s\n"
     ]
    },
    {
     "name": "stderr",
     "output_type": "stream",
     "text": []
    },
    {
     "name": "stdout",
     "output_type": "stream",
     "text": [
      "Epoch [1/10], Step [100/1137], TrainLoss: nan; ValidLoss: 0.7384, Accuracy: 0.4980, Precision: 0.5001, Recall: 0.0672, curr_epoch_best_accuracy: 0.5002; Time: 0.50s\n"
     ]
    },
    {
     "name": "stderr",
     "output_type": "stream",
     "text": []
    },
    {
     "name": "stdout",
     "output_type": "stream",
     "text": [
      "Epoch [1/10], Step [100/1137], TrainLoss: nan; ValidLoss: 0.7383, Accuracy: 0.4982, Precision: 0.4999, Recall: 0.0672, curr_epoch_best_accuracy: 0.5002; Time: 0.48s\n"
     ]
    },
    {
     "name": "stderr",
     "output_type": "stream",
     "text": []
    },
    {
     "name": "stdout",
     "output_type": "stream",
     "text": [
      "Epoch [1/10], Step [100/1137], TrainLoss: nan; ValidLoss: 0.7382, Accuracy: 0.4985, Precision: 0.5007, Recall: 0.0673, curr_epoch_best_accuracy: 0.5002; Time: 0.51s\n"
     ]
    },
    {
     "name": "stderr",
     "output_type": "stream",
     "text": []
    },
    {
     "name": "stdout",
     "output_type": "stream",
     "text": [
      "Epoch [1/10], Step [100/1137], TrainLoss: nan; ValidLoss: 0.7381, Accuracy: 0.4986, Precision: 0.5011, Recall: 0.0674, curr_epoch_best_accuracy: 0.5002; Time: 0.48s\n"
     ]
    },
    {
     "name": "stderr",
     "output_type": "stream",
     "text": []
    },
    {
     "name": "stdout",
     "output_type": "stream",
     "text": [
      "Epoch [1/10], Step [100/1137], TrainLoss: nan; ValidLoss: 0.7380, Accuracy: 0.4987, Precision: 0.5012, Recall: 0.0673, curr_epoch_best_accuracy: 0.5002; Time: 0.48s\n"
     ]
    },
    {
     "name": "stderr",
     "output_type": "stream",
     "text": []
    },
    {
     "name": "stdout",
     "output_type": "stream",
     "text": [
      "Epoch [1/10], Step [100/1137], TrainLoss: nan; ValidLoss: 0.7379, Accuracy: 0.4988, Precision: 0.5019, Recall: 0.0674, curr_epoch_best_accuracy: 0.5002; Time: 0.60s\n"
     ]
    },
    {
     "name": "stderr",
     "output_type": "stream",
     "text": []
    },
    {
     "name": "stdout",
     "output_type": "stream",
     "text": [
      "Epoch [1/10], Step [100/1137], TrainLoss: nan; ValidLoss: 0.7379, Accuracy: 0.4989, Precision: 0.5021, Recall: 0.0674, curr_epoch_best_accuracy: 0.5002; Time: 0.52s\n"
     ]
    },
    {
     "name": "stderr",
     "output_type": "stream",
     "text": []
    },
    {
     "name": "stdout",
     "output_type": "stream",
     "text": [
      "Epoch [1/10], Step [100/1137], TrainLoss: nan; ValidLoss: 0.7379, Accuracy: 0.4990, Precision: 0.5020, Recall: 0.0674, curr_epoch_best_accuracy: 0.5002; Time: 0.58s\n"
     ]
    },
    {
     "name": "stderr",
     "output_type": "stream",
     "text": []
    },
    {
     "name": "stdout",
     "output_type": "stream",
     "text": [
      "Epoch [1/10], Step [100/1137], TrainLoss: nan; ValidLoss: 0.7378, Accuracy: 0.4991, Precision: 0.5020, Recall: 0.0675, curr_epoch_best_accuracy: 0.5002; Time: 0.70s\n"
     ]
    },
    {
     "name": "stderr",
     "output_type": "stream",
     "text": []
    },
    {
     "name": "stdout",
     "output_type": "stream",
     "text": [
      "Epoch [1/10], Step [100/1137], TrainLoss: nan; ValidLoss: 0.7379, Accuracy: 0.4990, Precision: 0.5022, Recall: 0.0675, curr_epoch_best_accuracy: 0.5002; Time: 0.55s\n"
     ]
    },
    {
     "name": "stderr",
     "output_type": "stream",
     "text": []
    },
    {
     "name": "stdout",
     "output_type": "stream",
     "text": [
      "Epoch [1/10], Step [100/1137], TrainLoss: nan; ValidLoss: 0.7378, Accuracy: 0.4990, Precision: 0.5023, Recall: 0.0674, curr_epoch_best_accuracy: 0.5002; Time: 0.52s\n"
     ]
    },
    {
     "name": "stderr",
     "output_type": "stream",
     "text": []
    },
    {
     "name": "stdout",
     "output_type": "stream",
     "text": [
      "Epoch [1/10], Step [100/1137], TrainLoss: nan; ValidLoss: 0.7378, Accuracy: 0.4990, Precision: 0.5027, Recall: 0.0675, curr_epoch_best_accuracy: 0.5002; Time: 0.49s\n"
     ]
    },
    {
     "name": "stderr",
     "output_type": "stream",
     "text": []
    },
    {
     "name": "stdout",
     "output_type": "stream",
     "text": [
      "Epoch [1/10], Step [100/1137], TrainLoss: nan; ValidLoss: 0.7378, Accuracy: 0.4991, Precision: 0.5025, Recall: 0.0674, curr_epoch_best_accuracy: 0.5002; Time: 0.54s\n"
     ]
    },
    {
     "name": "stderr",
     "output_type": "stream",
     "text": []
    },
    {
     "name": "stdout",
     "output_type": "stream",
     "text": [
      "Epoch [1/10], Step [100/1137], TrainLoss: nan; ValidLoss: 0.7378, Accuracy: 0.4991, Precision: 0.5023, Recall: 0.0674, curr_epoch_best_accuracy: 0.5002; Time: 0.49s\n"
     ]
    },
    {
     "name": "stderr",
     "output_type": "stream",
     "text": []
    },
    {
     "name": "stdout",
     "output_type": "stream",
     "text": [
      "Epoch [1/10], Step [100/1137], TrainLoss: nan; ValidLoss: 0.7378, Accuracy: 0.4991, Precision: 0.5028, Recall: 0.0675, curr_epoch_best_accuracy: 0.5002; Time: 0.66s\n"
     ]
    },
    {
     "name": "stderr",
     "output_type": "stream",
     "text": []
    },
    {
     "name": "stdout",
     "output_type": "stream",
     "text": [
      "Epoch [1/10], Step [100/1137], TrainLoss: nan; ValidLoss: 0.7377, Accuracy: 0.4992, Precision: 0.5030, Recall: 0.0675, curr_epoch_best_accuracy: 0.5002; Time: 0.50s\n"
     ]
    },
    {
     "name": "stderr",
     "output_type": "stream",
     "text": []
    },
    {
     "name": "stdout",
     "output_type": "stream",
     "text": [
      "Epoch [1/10], Step [100/1137], TrainLoss: nan; ValidLoss: 0.7378, Accuracy: 0.4991, Precision: 0.5036, Recall: 0.0675, curr_epoch_best_accuracy: 0.5002; Time: 0.45s\n"
     ]
    },
    {
     "name": "stderr",
     "output_type": "stream",
     "text": []
    },
    {
     "name": "stdout",
     "output_type": "stream",
     "text": [
      "Epoch [1/10], Step [100/1137], TrainLoss: nan; ValidLoss: 0.7377, Accuracy: 0.4992, Precision: 0.5036, Recall: 0.0675, curr_epoch_best_accuracy: 0.5002; Time: 0.56s\n"
     ]
    },
    {
     "name": "stderr",
     "output_type": "stream",
     "text": []
    },
    {
     "name": "stdout",
     "output_type": "stream",
     "text": [
      "Epoch [1/10], Step [100/1137], TrainLoss: nan; ValidLoss: 0.7377, Accuracy: 0.4991, Precision: 0.5038, Recall: 0.0676, curr_epoch_best_accuracy: 0.5002; Time: 0.61s\n"
     ]
    },
    {
     "name": "stderr",
     "output_type": "stream",
     "text": []
    },
    {
     "name": "stdout",
     "output_type": "stream",
     "text": [
      "Epoch [1/10], Step [100/1137], TrainLoss: nan; ValidLoss: 0.7377, Accuracy: 0.4991, Precision: 0.5028, Recall: 0.0675, curr_epoch_best_accuracy: 0.5002; Time: 0.53s\n"
     ]
    },
    {
     "name": "stderr",
     "output_type": "stream",
     "text": []
    },
    {
     "name": "stdout",
     "output_type": "stream",
     "text": [
      "Epoch [1/10], Step [100/1137], TrainLoss: nan; ValidLoss: 0.7377, Accuracy: 0.4992, Precision: 0.5026, Recall: 0.0674, curr_epoch_best_accuracy: 0.5002; Time: 0.59s\n"
     ]
    },
    {
     "name": "stderr",
     "output_type": "stream",
     "text": []
    },
    {
     "name": "stdout",
     "output_type": "stream",
     "text": [
      "Epoch [1/10], Step [100/1137], TrainLoss: nan; ValidLoss: 0.7376, Accuracy: 0.4992, Precision: 0.5023, Recall: 0.0673, curr_epoch_best_accuracy: 0.5002; Time: 0.56s\n"
     ]
    },
    {
     "name": "stderr",
     "output_type": "stream",
     "text": []
    },
    {
     "name": "stdout",
     "output_type": "stream",
     "text": [
      "Epoch [1/10], Step [100/1137], TrainLoss: nan; ValidLoss: 0.7376, Accuracy: 0.4993, Precision: 0.5025, Recall: 0.0674, curr_epoch_best_accuracy: 0.5002; Time: 0.58s\n"
     ]
    },
    {
     "name": "stderr",
     "output_type": "stream",
     "text": []
    },
    {
     "name": "stdout",
     "output_type": "stream",
     "text": [
      "Epoch [1/10], Step [100/1137], TrainLoss: nan; ValidLoss: 0.7375, Accuracy: 0.4994, Precision: 0.5020, Recall: 0.0673, curr_epoch_best_accuracy: 0.5002; Time: 0.51s\n"
     ]
    },
    {
     "name": "stderr",
     "output_type": "stream",
     "text": []
    },
    {
     "name": "stdout",
     "output_type": "stream",
     "text": [
      "Epoch [1/10], Step [100/1137], TrainLoss: nan; ValidLoss: 0.7375, Accuracy: 0.4995, Precision: 0.5024, Recall: 0.0673, curr_epoch_best_accuracy: 0.5002; Time: 0.64s\n"
     ]
    },
    {
     "name": "stderr",
     "output_type": "stream",
     "text": []
    },
    {
     "name": "stdout",
     "output_type": "stream",
     "text": [
      "Epoch [1/10], Step [100/1137], TrainLoss: nan; ValidLoss: 0.7375, Accuracy: 0.4995, Precision: 0.5025, Recall: 0.0674, curr_epoch_best_accuracy: 0.5002; Time: 0.56s\n"
     ]
    },
    {
     "name": "stderr",
     "output_type": "stream",
     "text": []
    },
    {
     "name": "stdout",
     "output_type": "stream",
     "text": [
      "Epoch [1/10], Step [100/1137], TrainLoss: nan; ValidLoss: 0.7374, Accuracy: 0.4996, Precision: 0.5024, Recall: 0.0674, curr_epoch_best_accuracy: 0.5002; Time: 0.54s\n"
     ]
    },
    {
     "name": "stderr",
     "output_type": "stream",
     "text": []
    },
    {
     "name": "stdout",
     "output_type": "stream",
     "text": [
      "Epoch [1/10], Step [100/1137], TrainLoss: nan; ValidLoss: 0.7375, Accuracy: 0.4995, Precision: 0.5021, Recall: 0.0673, curr_epoch_best_accuracy: 0.5002; Time: 0.58s\n"
     ]
    },
    {
     "name": "stderr",
     "output_type": "stream",
     "text": []
    },
    {
     "name": "stdout",
     "output_type": "stream",
     "text": [
      "Epoch [1/10], Step [100/1137], TrainLoss: nan; ValidLoss: 0.7375, Accuracy: 0.4995, Precision: 0.5021, Recall: 0.0673, curr_epoch_best_accuracy: 0.5002; Time: 0.65s\n"
     ]
    },
    {
     "name": "stderr",
     "output_type": "stream",
     "text": []
    },
    {
     "name": "stdout",
     "output_type": "stream",
     "text": [
      "Epoch [1/10], Step [100/1137], TrainLoss: nan; ValidLoss: 0.7375, Accuracy: 0.4994, Precision: 0.5028, Recall: 0.0674, curr_epoch_best_accuracy: 0.5002; Time: 0.59s\n"
     ]
    },
    {
     "name": "stderr",
     "output_type": "stream",
     "text": []
    },
    {
     "name": "stdout",
     "output_type": "stream",
     "text": [
      "Epoch [1/10], Step [100/1137], TrainLoss: nan; ValidLoss: 0.7376, Accuracy: 0.4995, Precision: 0.5033, Recall: 0.0674, curr_epoch_best_accuracy: 0.5002; Time: 0.55s\n"
     ]
    },
    {
     "name": "stderr",
     "output_type": "stream",
     "text": []
    },
    {
     "name": "stdout",
     "output_type": "stream",
     "text": [
      "Epoch [1/10], Step [100/1137], TrainLoss: nan; ValidLoss: 0.7376, Accuracy: 0.4994, Precision: 0.5028, Recall: 0.0673, curr_epoch_best_accuracy: 0.5002; Time: 0.61s\n"
     ]
    },
    {
     "name": "stderr",
     "output_type": "stream",
     "text": []
    },
    {
     "name": "stdout",
     "output_type": "stream",
     "text": [
      "Epoch [1/10], Step [100/1137], TrainLoss: nan; ValidLoss: 0.7376, Accuracy: 0.4995, Precision: 0.5032, Recall: 0.0674, curr_epoch_best_accuracy: 0.5002; Time: 0.57s\n"
     ]
    },
    {
     "name": "stderr",
     "output_type": "stream",
     "text": []
    },
    {
     "name": "stdout",
     "output_type": "stream",
     "text": [
      "Epoch [1/10], Step [100/1137], TrainLoss: nan; ValidLoss: 0.7376, Accuracy: 0.4995, Precision: 0.5035, Recall: 0.0673, curr_epoch_best_accuracy: 0.5002; Time: 0.68s\n"
     ]
    },
    {
     "name": "stderr",
     "output_type": "stream",
     "text": []
    },
    {
     "name": "stdout",
     "output_type": "stream",
     "text": [
      "Epoch [1/10], Step [100/1137], TrainLoss: nan; ValidLoss: 0.7376, Accuracy: 0.4995, Precision: 0.5038, Recall: 0.0674, curr_epoch_best_accuracy: 0.5002; Time: 0.64s\n"
     ]
    },
    {
     "name": "stderr",
     "output_type": "stream",
     "text": []
    },
    {
     "name": "stdout",
     "output_type": "stream",
     "text": [
      "Epoch [1/10], Step [100/1137], TrainLoss: nan; ValidLoss: 0.7376, Accuracy: 0.4995, Precision: 0.5036, Recall: 0.0674, curr_epoch_best_accuracy: 0.5002; Time: 0.55s\n"
     ]
    },
    {
     "name": "stderr",
     "output_type": "stream",
     "text": []
    },
    {
     "name": "stdout",
     "output_type": "stream",
     "text": [
      "Epoch [1/10], Step [100/1137], TrainLoss: nan; ValidLoss: 0.7375, Accuracy: 0.4996, Precision: 0.5036, Recall: 0.0674, curr_epoch_best_accuracy: 0.5002; Time: 0.42s\n"
     ]
    },
    {
     "name": "stderr",
     "output_type": "stream",
     "text": []
    },
    {
     "name": "stdout",
     "output_type": "stream",
     "text": [
      "Epoch [1/10], Step [100/1137], TrainLoss: nan; ValidLoss: 0.7375, Accuracy: 0.4996, Precision: 0.5035, Recall: 0.0675, curr_epoch_best_accuracy: 0.5002; Time: 0.53s\n"
     ]
    },
    {
     "name": "stderr",
     "output_type": "stream",
     "text": []
    },
    {
     "name": "stdout",
     "output_type": "stream",
     "text": [
      "Epoch [1/10], Step [100/1137], TrainLoss: nan; ValidLoss: 0.7375, Accuracy: 0.4997, Precision: 0.5039, Recall: 0.0675, curr_epoch_best_accuracy: 0.5002; Time: 0.46s\n"
     ]
    },
    {
     "name": "stderr",
     "output_type": "stream",
     "text": []
    },
    {
     "name": "stdout",
     "output_type": "stream",
     "text": [
      "Epoch [1/10], Step [100/1137], TrainLoss: nan; ValidLoss: 0.7374, Accuracy: 0.4998, Precision: 0.5042, Recall: 0.0675, curr_epoch_best_accuracy: 0.5002; Time: 0.59s\n"
     ]
    },
    {
     "name": "stderr",
     "output_type": "stream",
     "text": []
    },
    {
     "name": "stdout",
     "output_type": "stream",
     "text": [
      "Epoch [1/10], Step [100/1137], TrainLoss: nan; ValidLoss: 0.7375, Accuracy: 0.4997, Precision: 0.5041, Recall: 0.0674, curr_epoch_best_accuracy: 0.5002; Time: 0.53s\n"
     ]
    },
    {
     "name": "stderr",
     "output_type": "stream",
     "text": []
    },
    {
     "name": "stdout",
     "output_type": "stream",
     "text": [
      "Epoch [1/10], Step [100/1137], TrainLoss: nan; ValidLoss: 0.7374, Accuracy: 0.4997, Precision: 0.5035, Recall: 0.0673, curr_epoch_best_accuracy: 0.5002; Time: 0.59s\n"
     ]
    },
    {
     "name": "stderr",
     "output_type": "stream",
     "text": []
    },
    {
     "name": "stdout",
     "output_type": "stream",
     "text": [
      "Epoch [1/10], Step [100/1137], TrainLoss: nan; ValidLoss: 0.7374, Accuracy: 0.4998, Precision: 0.5032, Recall: 0.0672, curr_epoch_best_accuracy: 0.5002; Time: 0.59s\n"
     ]
    },
    {
     "name": "stderr",
     "output_type": "stream",
     "text": []
    },
    {
     "name": "stdout",
     "output_type": "stream",
     "text": [
      "Epoch [1/10], Step [100/1137], TrainLoss: nan; ValidLoss: 0.7374, Accuracy: 0.4997, Precision: 0.5031, Recall: 0.0671, curr_epoch_best_accuracy: 0.5002; Time: 0.57s\n"
     ]
    },
    {
     "name": "stderr",
     "output_type": "stream",
     "text": []
    },
    {
     "name": "stdout",
     "output_type": "stream",
     "text": [
      "Epoch [1/10], Step [100/1137], TrainLoss: nan; ValidLoss: 0.7374, Accuracy: 0.4998, Precision: 0.5035, Recall: 0.0672, curr_epoch_best_accuracy: 0.5002; Time: 0.65s\n"
     ]
    },
    {
     "name": "stderr",
     "output_type": "stream",
     "text": []
    },
    {
     "name": "stdout",
     "output_type": "stream",
     "text": [
      "Epoch [1/10], Step [100/1137], TrainLoss: nan; ValidLoss: 0.7373, Accuracy: 0.4999, Precision: 0.5038, Recall: 0.0672, curr_epoch_best_accuracy: 0.5002; Time: 0.54s\n"
     ]
    },
    {
     "name": "stderr",
     "output_type": "stream",
     "text": []
    },
    {
     "name": "stdout",
     "output_type": "stream",
     "text": [
      "Epoch [1/10], Step [100/1137], TrainLoss: nan; ValidLoss: 0.7373, Accuracy: 0.4999, Precision: 0.5035, Recall: 0.0672, curr_epoch_best_accuracy: 0.5002; Time: 0.60s\n"
     ]
    },
    {
     "name": "stderr",
     "output_type": "stream",
     "text": []
    },
    {
     "name": "stdout",
     "output_type": "stream",
     "text": [
      "Epoch [1/10], Step [100/1137], TrainLoss: nan; ValidLoss: 0.7373, Accuracy: 0.4999, Precision: 0.5032, Recall: 0.0671, curr_epoch_best_accuracy: 0.5002; Time: 0.60s\n"
     ]
    },
    {
     "name": "stderr",
     "output_type": "stream",
     "text": []
    },
    {
     "name": "stdout",
     "output_type": "stream",
     "text": [
      "Epoch [1/10], Step [100/1137], TrainLoss: nan; ValidLoss: 0.7373, Accuracy: 0.4999, Precision: 0.5032, Recall: 0.0672, curr_epoch_best_accuracy: 0.5002; Time: 0.56s\n"
     ]
    },
    {
     "name": "stderr",
     "output_type": "stream",
     "text": []
    },
    {
     "name": "stdout",
     "output_type": "stream",
     "text": [
      "Epoch [1/10], Step [100/1137], TrainLoss: nan; ValidLoss: 0.7373, Accuracy: 0.4999, Precision: 0.5029, Recall: 0.0670, curr_epoch_best_accuracy: 0.5002; Time: 0.64s\n"
     ]
    },
    {
     "name": "stderr",
     "output_type": "stream",
     "text": []
    },
    {
     "name": "stdout",
     "output_type": "stream",
     "text": [
      "Epoch [1/10], Step [100/1137], TrainLoss: nan; ValidLoss: 0.7372, Accuracy: 0.5000, Precision: 0.5034, Recall: 0.0671, curr_epoch_best_accuracy: 0.5002; Time: 0.57s\n"
     ]
    },
    {
     "name": "stderr",
     "output_type": "stream",
     "text": []
    },
    {
     "name": "stdout",
     "output_type": "stream",
     "text": [
      "Epoch [1/10], Step [100/1137], TrainLoss: nan; ValidLoss: 0.7373, Accuracy: 0.5000, Precision: 0.5039, Recall: 0.0671, curr_epoch_best_accuracy: 0.5002; Time: 0.59s\n"
     ]
    },
    {
     "name": "stderr",
     "output_type": "stream",
     "text": []
    },
    {
     "name": "stdout",
     "output_type": "stream",
     "text": [
      "Epoch [1/10], Step [100/1137], TrainLoss: nan; ValidLoss: 0.7373, Accuracy: 0.4999, Precision: 0.5036, Recall: 0.0671, curr_epoch_best_accuracy: 0.5002; Time: 0.62s\n"
     ]
    },
    {
     "name": "stderr",
     "output_type": "stream",
     "text": []
    },
    {
     "name": "stdout",
     "output_type": "stream",
     "text": [
      "Epoch [1/10], Step [100/1137], TrainLoss: nan; ValidLoss: 0.7372, Accuracy: 0.5000, Precision: 0.5032, Recall: 0.0671, curr_epoch_best_accuracy: 0.5002; Time: 0.59s\n"
     ]
    },
    {
     "name": "stderr",
     "output_type": "stream",
     "text": []
    },
    {
     "name": "stdout",
     "output_type": "stream",
     "text": [
      "Epoch [1/10], Step [100/1137], TrainLoss: nan; ValidLoss: 0.7371, Accuracy: 0.5001, Precision: 0.5033, Recall: 0.0671, curr_epoch_best_accuracy: 0.5002; Time: 0.62s\n"
     ]
    },
    {
     "name": "stderr",
     "output_type": "stream",
     "text": []
    },
    {
     "name": "stdout",
     "output_type": "stream",
     "text": [
      "Epoch [1/10], Step [100/1137], TrainLoss: nan; ValidLoss: 0.7371, Accuracy: 0.5001, Precision: 0.5035, Recall: 0.0672, curr_epoch_best_accuracy: 0.5002; Time: 0.59s\n"
     ]
    },
    {
     "name": "stderr",
     "output_type": "stream",
     "text": []
    },
    {
     "name": "stdout",
     "output_type": "stream",
     "text": [
      "Epoch [1/10], Step [100/1137], TrainLoss: nan; ValidLoss: 0.7372, Accuracy: 0.4999, Precision: 0.5028, Recall: 0.0671, curr_epoch_best_accuracy: 0.5002; Time: 0.65s\n"
     ]
    },
    {
     "name": "stderr",
     "output_type": "stream",
     "text": []
    },
    {
     "name": "stdout",
     "output_type": "stream",
     "text": [
      "Epoch [1/10], Step [100/1137], TrainLoss: nan; ValidLoss: 0.7372, Accuracy: 0.5000, Precision: 0.5032, Recall: 0.0672, curr_epoch_best_accuracy: 0.5002; Time: 0.52s\n"
     ]
    },
    {
     "name": "stderr",
     "output_type": "stream",
     "text": []
    },
    {
     "name": "stdout",
     "output_type": "stream",
     "text": [
      "Epoch [1/10], Step [100/1137], TrainLoss: nan; ValidLoss: 0.7372, Accuracy: 0.5000, Precision: 0.5030, Recall: 0.0672, curr_epoch_best_accuracy: 0.5002; Time: 0.51s\n"
     ]
    },
    {
     "name": "stderr",
     "output_type": "stream",
     "text": []
    },
    {
     "name": "stdout",
     "output_type": "stream",
     "text": [
      "Epoch [1/10], Step [100/1137], TrainLoss: nan; ValidLoss: 0.7373, Accuracy: 0.4999, Precision: 0.5029, Recall: 0.0672, curr_epoch_best_accuracy: 0.5002; Time: 0.61s\n"
     ]
    },
    {
     "name": "stderr",
     "output_type": "stream",
     "text": []
    },
    {
     "name": "stdout",
     "output_type": "stream",
     "text": [
      "Epoch [1/10], Step [100/1137], TrainLoss: nan; ValidLoss: 0.7372, Accuracy: 0.4999, Precision: 0.5026, Recall: 0.0672, curr_epoch_best_accuracy: 0.5002; Time: 0.68s\n"
     ]
    },
    {
     "name": "stderr",
     "output_type": "stream",
     "text": []
    },
    {
     "name": "stdout",
     "output_type": "stream",
     "text": [
      "Epoch [1/10], Step [100/1137], TrainLoss: nan; ValidLoss: 0.7372, Accuracy: 0.4999, Precision: 0.5032, Recall: 0.0673, curr_epoch_best_accuracy: 0.5002; Time: 0.71s\n"
     ]
    },
    {
     "name": "stderr",
     "output_type": "stream",
     "text": []
    },
    {
     "name": "stdout",
     "output_type": "stream",
     "text": [
      "Epoch [1/10], Step [100/1137], TrainLoss: nan; ValidLoss: 0.7373, Accuracy: 0.4999, Precision: 0.5034, Recall: 0.0673, curr_epoch_best_accuracy: 0.5002; Time: 0.62s\n"
     ]
    },
    {
     "name": "stderr",
     "output_type": "stream",
     "text": []
    },
    {
     "name": "stdout",
     "output_type": "stream",
     "text": [
      "Epoch [1/10], Step [100/1137], TrainLoss: nan; ValidLoss: 0.7373, Accuracy: 0.4999, Precision: 0.5036, Recall: 0.0673, curr_epoch_best_accuracy: 0.5002; Time: 0.59s\n"
     ]
    },
    {
     "name": "stderr",
     "output_type": "stream",
     "text": []
    },
    {
     "name": "stdout",
     "output_type": "stream",
     "text": [
      "Epoch [1/10], Step [100/1137], TrainLoss: nan; ValidLoss: 0.7372, Accuracy: 0.4999, Precision: 0.5031, Recall: 0.0673, curr_epoch_best_accuracy: 0.5002; Time: 0.68s\n"
     ]
    },
    {
     "name": "stderr",
     "output_type": "stream",
     "text": []
    },
    {
     "name": "stdout",
     "output_type": "stream",
     "text": [
      "Epoch [1/10], Step [100/1137], TrainLoss: nan; ValidLoss: 0.7371, Accuracy: 0.5000, Precision: 0.5032, Recall: 0.0673, curr_epoch_best_accuracy: 0.5002; Time: 0.84s\n"
     ]
    },
    {
     "name": "stderr",
     "output_type": "stream",
     "text": []
    },
    {
     "name": "stdout",
     "output_type": "stream",
     "text": [
      "Epoch [1/10], Step [100/1137], TrainLoss: nan; ValidLoss: 0.7371, Accuracy: 0.5000, Precision: 0.5030, Recall: 0.0672, curr_epoch_best_accuracy: 0.5002; Time: 0.76s\n"
     ]
    },
    {
     "name": "stderr",
     "output_type": "stream",
     "text": []
    },
    {
     "name": "stdout",
     "output_type": "stream",
     "text": [
      "Epoch [1/10], Step [100/1137], TrainLoss: nan; ValidLoss: 0.7371, Accuracy: 0.5000, Precision: 0.5030, Recall: 0.0672, curr_epoch_best_accuracy: 0.5002; Time: 0.67s\n"
     ]
    },
    {
     "name": "stderr",
     "output_type": "stream",
     "text": []
    },
    {
     "name": "stdout",
     "output_type": "stream",
     "text": [
      "Epoch [1/10], Step [100/1137], TrainLoss: nan; ValidLoss: 0.7371, Accuracy: 0.5000, Precision: 0.5032, Recall: 0.0673, curr_epoch_best_accuracy: 0.5002; Time: 0.70s\n"
     ]
    },
    {
     "name": "stderr",
     "output_type": "stream",
     "text": []
    },
    {
     "name": "stdout",
     "output_type": "stream",
     "text": [
      "Epoch [1/10], Step [100/1137], TrainLoss: nan; ValidLoss: 0.7371, Accuracy: 0.5001, Precision: 0.5031, Recall: 0.0672, curr_epoch_best_accuracy: 0.5002; Time: 0.71s\n"
     ]
    },
    {
     "name": "stderr",
     "output_type": "stream",
     "text": []
    },
    {
     "name": "stdout",
     "output_type": "stream",
     "text": [
      "Epoch [1/10], Step [100/1137], TrainLoss: nan; ValidLoss: 0.7371, Accuracy: 0.5001, Precision: 0.5024, Recall: 0.0672, curr_epoch_best_accuracy: 0.5002; Time: 0.67s\n"
     ]
    },
    {
     "name": "stderr",
     "output_type": "stream",
     "text": []
    },
    {
     "name": "stdout",
     "output_type": "stream",
     "text": [
      "Epoch [1/10], Step [100/1137], TrainLoss: nan; ValidLoss: 0.7370, Accuracy: 0.5003, Precision: 0.5030, Recall: 0.0672, curr_epoch_best_accuracy: 0.5003; Time: 0.67s\n"
     ]
    },
    {
     "name": "stderr",
     "output_type": "stream",
     "text": []
    },
    {
     "name": "stdout",
     "output_type": "stream",
     "text": [
      "Epoch [1/10], Step [100/1137], TrainLoss: nan; ValidLoss: 0.7369, Accuracy: 0.5003, Precision: 0.5032, Recall: 0.0673, curr_epoch_best_accuracy: 0.5003; Time: 0.72s\n"
     ]
    },
    {
     "name": "stderr",
     "output_type": "stream",
     "text": []
    },
    {
     "name": "stdout",
     "output_type": "stream",
     "text": [
      "Epoch [1/10], Step [100/1137], TrainLoss: nan; ValidLoss: 0.7370, Accuracy: 0.5003, Precision: 0.5031, Recall: 0.0673, curr_epoch_best_accuracy: 0.5003; Time: 0.75s\n"
     ]
    },
    {
     "name": "stderr",
     "output_type": "stream",
     "text": []
    },
    {
     "name": "stdout",
     "output_type": "stream",
     "text": [
      "Epoch [1/10], Step [100/1137], TrainLoss: nan; ValidLoss: 0.7369, Accuracy: 0.5003, Precision: 0.5035, Recall: 0.0673, curr_epoch_best_accuracy: 0.5003; Time: 0.72s\n"
     ]
    },
    {
     "name": "stderr",
     "output_type": "stream",
     "text": []
    },
    {
     "name": "stdout",
     "output_type": "stream",
     "text": [
      "Epoch [1/10], Step [100/1137], TrainLoss: nan; ValidLoss: 0.7369, Accuracy: 0.5004, Precision: 0.5030, Recall: 0.0672, curr_epoch_best_accuracy: 0.5004; Time: 0.60s\n"
     ]
    },
    {
     "name": "stderr",
     "output_type": "stream",
     "text": []
    },
    {
     "name": "stdout",
     "output_type": "stream",
     "text": [
      "Epoch [1/10], Step [100/1137], TrainLoss: nan; ValidLoss: 0.7369, Accuracy: 0.5004, Precision: 0.5031, Recall: 0.0672, curr_epoch_best_accuracy: 0.5004; Time: 0.72s\n"
     ]
    },
    {
     "name": "stderr",
     "output_type": "stream",
     "text": []
    },
    {
     "name": "stdout",
     "output_type": "stream",
     "text": [
      "Epoch [1/10], Step [100/1137], TrainLoss: nan; ValidLoss: 0.7369, Accuracy: 0.5003, Precision: 0.5030, Recall: 0.0672, curr_epoch_best_accuracy: 0.5004; Time: 0.71s\n"
     ]
    },
    {
     "name": "stderr",
     "output_type": "stream",
     "text": []
    },
    {
     "name": "stdout",
     "output_type": "stream",
     "text": [
      "Epoch [1/10], Step [100/1137], TrainLoss: nan; ValidLoss: 0.7370, Accuracy: 0.5003, Precision: 0.5034, Recall: 0.0673, curr_epoch_best_accuracy: 0.5004; Time: 0.71s\n"
     ]
    },
    {
     "name": "stderr",
     "output_type": "stream",
     "text": []
    },
    {
     "name": "stdout",
     "output_type": "stream",
     "text": [
      "Epoch [1/10], Step [100/1137], TrainLoss: nan; ValidLoss: 0.7370, Accuracy: 0.5003, Precision: 0.5034, Recall: 0.0673, curr_epoch_best_accuracy: 0.5004; Time: 0.64s\n"
     ]
    },
    {
     "name": "stderr",
     "output_type": "stream",
     "text": [
      "285it [01:57,  2.43it/s]\n",
      "101it [02:16, 23.68s/it]"
     ]
    },
    {
     "name": "stdout",
     "output_type": "stream",
     "text": [
      "0.7217651009559631\n"
     ]
    },
    {
     "name": "stderr",
     "output_type": "stream",
     "text": [
      "102it [02:16, 16.85s/it]"
     ]
    },
    {
     "name": "stdout",
     "output_type": "stream",
     "text": [
      "0.7415591478347778\n",
      "0.7304208874702454\n"
     ]
    },
    {
     "name": "stderr",
     "output_type": "stream",
     "text": [
      "105it [02:16,  6.59s/it]"
     ]
    },
    {
     "name": "stdout",
     "output_type": "stream",
     "text": [
      "0.7318981289863586\n",
      "0.7521407008171082\n"
     ]
    },
    {
     "name": "stderr",
     "output_type": "stream",
     "text": [
      "107it [02:17,  3.74s/it]"
     ]
    },
    {
     "name": "stdout",
     "output_type": "stream",
     "text": [
      "0.7352177500724792\n",
      "0.741485059261322\n"
     ]
    },
    {
     "name": "stderr",
     "output_type": "stream",
     "text": [
      "109it [02:17,  2.02s/it]"
     ]
    },
    {
     "name": "stdout",
     "output_type": "stream",
     "text": [
      "0.7459958791732788\n",
      "0.7290006279945374\n"
     ]
    },
    {
     "name": "stderr",
     "output_type": "stream",
     "text": [
      "111it [02:17,  1.08s/it]"
     ]
    },
    {
     "name": "stdout",
     "output_type": "stream",
     "text": [
      "0.725075900554657\n",
      "0.7234705090522766\n"
     ]
    },
    {
     "name": "stderr",
     "output_type": "stream",
     "text": [
      "112it [02:17,  1.22it/s]"
     ]
    },
    {
     "name": "stdout",
     "output_type": "stream",
     "text": [
      "0.7317261099815369\n",
      "0.7314028143882751\n",
      "0.7377297878265381\n"
     ]
    },
    {
     "name": "stderr",
     "output_type": "stream",
     "text": [
      "116it [02:18,  2.96it/s]"
     ]
    },
    {
     "name": "stdout",
     "output_type": "stream",
     "text": [
      "0.7350475192070007\n",
      "0.7313653230667114\n"
     ]
    },
    {
     "name": "stderr",
     "output_type": "stream",
     "text": [
      "118it [02:18,  3.77it/s]"
     ]
    },
    {
     "name": "stdout",
     "output_type": "stream",
     "text": [
      "0.7272177934646606\n",
      "0.747560977935791\n"
     ]
    },
    {
     "name": "stderr",
     "output_type": "stream",
     "text": [
      "120it [02:18,  5.09it/s]"
     ]
    },
    {
     "name": "stdout",
     "output_type": "stream",
     "text": [
      "0.718087375164032\n",
      "0.7322145700454712\n"
     ]
    },
    {
     "name": "stderr",
     "output_type": "stream",
     "text": [
      "122it [02:19,  6.65it/s]"
     ]
    },
    {
     "name": "stdout",
     "output_type": "stream",
     "text": [
      "0.7227346897125244\n",
      "0.720917820930481\n"
     ]
    },
    {
     "name": "stderr",
     "output_type": "stream",
     "text": [
      "124it [02:19,  6.91it/s]"
     ]
    },
    {
     "name": "stdout",
     "output_type": "stream",
     "text": [
      "0.7392038702964783\n",
      "0.7205934524536133\n"
     ]
    },
    {
     "name": "stderr",
     "output_type": "stream",
     "text": [
      "126it [02:19,  7.16it/s]"
     ]
    },
    {
     "name": "stdout",
     "output_type": "stream",
     "text": [
      "0.73853999376297\n",
      "0.7195796966552734\n"
     ]
    },
    {
     "name": "stderr",
     "output_type": "stream",
     "text": [
      "128it [02:19,  7.87it/s]"
     ]
    },
    {
     "name": "stdout",
     "output_type": "stream",
     "text": [
      "0.7212240099906921\n",
      "0.7502194046974182\n"
     ]
    },
    {
     "name": "stderr",
     "output_type": "stream",
     "text": [
      "130it [02:20,  7.81it/s]"
     ]
    },
    {
     "name": "stdout",
     "output_type": "stream",
     "text": [
      "0.6990569829940796\n",
      "0.7363695502281189\n"
     ]
    },
    {
     "name": "stderr",
     "output_type": "stream",
     "text": [
      "131it [02:20,  6.82it/s]"
     ]
    },
    {
     "name": "stdout",
     "output_type": "stream",
     "text": [
      "0.7415706515312195\n",
      "0.7668953537940979\n"
     ]
    },
    {
     "name": "stderr",
     "output_type": "stream",
     "text": [
      "133it [02:20,  6.63it/s]"
     ]
    },
    {
     "name": "stdout",
     "output_type": "stream",
     "text": [
      "0.7354902625083923\n"
     ]
    },
    {
     "name": "stderr",
     "output_type": "stream",
     "text": [
      "134it [02:20,  6.49it/s]"
     ]
    },
    {
     "name": "stdout",
     "output_type": "stream",
     "text": [
      "0.7296605706214905\n",
      "0.7587143182754517\n"
     ]
    },
    {
     "name": "stderr",
     "output_type": "stream",
     "text": [
      "137it [02:21,  7.33it/s]"
     ]
    },
    {
     "name": "stdout",
     "output_type": "stream",
     "text": [
      "0.7354574203491211\n",
      "0.7199457883834839\n"
     ]
    },
    {
     "name": "stderr",
     "output_type": "stream",
     "text": [
      "138it [02:21,  7.12it/s]"
     ]
    },
    {
     "name": "stdout",
     "output_type": "stream",
     "text": [
      "0.7482611536979675\n",
      "0.728225588798523\n"
     ]
    },
    {
     "name": "stderr",
     "output_type": "stream",
     "text": [
      "141it [02:21,  6.72it/s]"
     ]
    },
    {
     "name": "stdout",
     "output_type": "stream",
     "text": [
      "0.7449911832809448\n",
      "0.7324095368385315\n"
     ]
    },
    {
     "name": "stderr",
     "output_type": "stream",
     "text": [
      "142it [02:22,  6.40it/s]"
     ]
    },
    {
     "name": "stdout",
     "output_type": "stream",
     "text": [
      "0.7425833940505981\n"
     ]
    },
    {
     "name": "stderr",
     "output_type": "stream",
     "text": [
      "144it [02:22,  6.32it/s]"
     ]
    },
    {
     "name": "stdout",
     "output_type": "stream",
     "text": [
      "0.7356436252593994\n",
      "0.7334775924682617\n"
     ]
    },
    {
     "name": "stderr",
     "output_type": "stream",
     "text": [
      "145it [02:22,  5.96it/s]"
     ]
    },
    {
     "name": "stdout",
     "output_type": "stream",
     "text": [
      "0.7367084622383118\n"
     ]
    },
    {
     "name": "stderr",
     "output_type": "stream",
     "text": [
      "146it [02:22,  6.12it/s]"
     ]
    },
    {
     "name": "stdout",
     "output_type": "stream",
     "text": [
      "0.7385896444320679\n",
      "0.74666827917099\n"
     ]
    },
    {
     "name": "stderr",
     "output_type": "stream",
     "text": [
      "149it [02:23,  7.45it/s]"
     ]
    },
    {
     "name": "stdout",
     "output_type": "stream",
     "text": [
      "0.7490061521530151\n",
      "0.7376269698143005\n"
     ]
    },
    {
     "name": "stderr",
     "output_type": "stream",
     "text": [
      "151it [02:23,  7.06it/s]"
     ]
    },
    {
     "name": "stdout",
     "output_type": "stream",
     "text": [
      "0.7267259359359741\n",
      "0.737295389175415\n"
     ]
    },
    {
     "name": "stderr",
     "output_type": "stream",
     "text": [
      "152it [02:23,  6.69it/s]"
     ]
    },
    {
     "name": "stdout",
     "output_type": "stream",
     "text": [
      "0.7325494885444641\n",
      "0.7427653670310974\n"
     ]
    },
    {
     "name": "stderr",
     "output_type": "stream",
     "text": [
      "154it [02:24,  4.06it/s]"
     ]
    },
    {
     "name": "stdout",
     "output_type": "stream",
     "text": [
      "0.7210257649421692\n",
      "0.7139554619789124\n"
     ]
    },
    {
     "name": "stderr",
     "output_type": "stream",
     "text": [
      "157it [02:24,  5.68it/s]"
     ]
    },
    {
     "name": "stdout",
     "output_type": "stream",
     "text": [
      "0.7504310607910156\n",
      "0.7598320245742798\n"
     ]
    },
    {
     "name": "stderr",
     "output_type": "stream",
     "text": [
      "159it [02:24,  6.54it/s]"
     ]
    },
    {
     "name": "stdout",
     "output_type": "stream",
     "text": [
      "0.756488025188446\n",
      "0.7415022850036621\n"
     ]
    },
    {
     "name": "stderr",
     "output_type": "stream",
     "text": [
      "161it [02:25,  6.55it/s]"
     ]
    },
    {
     "name": "stdout",
     "output_type": "stream",
     "text": [
      "0.7229984998703003\n",
      "0.7510575652122498\n"
     ]
    },
    {
     "name": "stderr",
     "output_type": "stream",
     "text": [
      "164it [02:25,  8.70it/s]"
     ]
    },
    {
     "name": "stdout",
     "output_type": "stream",
     "text": [
      "0.7399566173553467\n",
      "0.7209741473197937\n",
      "0.7381526231765747\n"
     ]
    },
    {
     "name": "stderr",
     "output_type": "stream",
     "text": [
      "166it [02:25,  9.51it/s]"
     ]
    },
    {
     "name": "stdout",
     "output_type": "stream",
     "text": [
      "0.7454156875610352\n",
      "0.7156378030776978\n",
      "0.741933286190033\n"
     ]
    },
    {
     "name": "stderr",
     "output_type": "stream",
     "text": [
      "168it [02:25,  9.99it/s]"
     ]
    },
    {
     "name": "stdout",
     "output_type": "stream",
     "text": [
      "0.7279243469238281\n",
      "0.735811710357666\n"
     ]
    },
    {
     "name": "stderr",
     "output_type": "stream",
     "text": [
      "170it [02:26,  9.19it/s]"
     ]
    },
    {
     "name": "stdout",
     "output_type": "stream",
     "text": [
      "0.7481938600540161\n"
     ]
    },
    {
     "name": "stderr",
     "output_type": "stream",
     "text": [
      "172it [02:26,  7.52it/s]"
     ]
    },
    {
     "name": "stdout",
     "output_type": "stream",
     "text": [
      "0.72959303855896\n",
      "0.7505911588668823\n"
     ]
    },
    {
     "name": "stderr",
     "output_type": "stream",
     "text": [
      "174it [02:26,  8.06it/s]"
     ]
    },
    {
     "name": "stdout",
     "output_type": "stream",
     "text": [
      "0.7409777045249939\n",
      "0.7350583672523499\n"
     ]
    },
    {
     "name": "stderr",
     "output_type": "stream",
     "text": [
      "176it [02:26,  8.97it/s]"
     ]
    },
    {
     "name": "stdout",
     "output_type": "stream",
     "text": [
      "0.7393157482147217\n",
      "0.7352777719497681\n",
      "0.7197872996330261\n"
     ]
    },
    {
     "name": "stderr",
     "output_type": "stream",
     "text": [
      "178it [02:27,  7.92it/s]"
     ]
    },
    {
     "name": "stdout",
     "output_type": "stream",
     "text": [
      "0.7416073679924011\n"
     ]
    },
    {
     "name": "stderr",
     "output_type": "stream",
     "text": [
      "179it [02:27,  7.05it/s]"
     ]
    },
    {
     "name": "stdout",
     "output_type": "stream",
     "text": [
      "0.7171072363853455\n",
      "0.7463921308517456\n"
     ]
    },
    {
     "name": "stderr",
     "output_type": "stream",
     "text": [
      "182it [02:27,  6.86it/s]"
     ]
    },
    {
     "name": "stdout",
     "output_type": "stream",
     "text": [
      "0.7346798181533813\n",
      "0.7426485419273376\n"
     ]
    },
    {
     "name": "stderr",
     "output_type": "stream",
     "text": [
      "183it [02:28,  6.00it/s]"
     ]
    },
    {
     "name": "stdout",
     "output_type": "stream",
     "text": [
      "0.7389228343963623\n",
      "0.735122561454773\n"
     ]
    },
    {
     "name": "stderr",
     "output_type": "stream",
     "text": [
      "186it [02:28,  6.45it/s]"
     ]
    },
    {
     "name": "stdout",
     "output_type": "stream",
     "text": [
      "0.7493247389793396\n",
      "0.7470524311065674\n"
     ]
    },
    {
     "name": "stderr",
     "output_type": "stream",
     "text": [
      "188it [02:28,  6.55it/s]"
     ]
    },
    {
     "name": "stdout",
     "output_type": "stream",
     "text": [
      "0.7419911623001099\n",
      "0.7290297746658325\n"
     ]
    },
    {
     "name": "stderr",
     "output_type": "stream",
     "text": [
      "190it [02:29,  6.73it/s]"
     ]
    },
    {
     "name": "stdout",
     "output_type": "stream",
     "text": [
      "0.7460730075836182\n",
      "0.7500536441802979\n"
     ]
    },
    {
     "name": "stderr",
     "output_type": "stream",
     "text": [
      "192it [02:29,  7.03it/s]"
     ]
    },
    {
     "name": "stdout",
     "output_type": "stream",
     "text": [
      "0.7343007922172546\n",
      "0.7465817928314209\n"
     ]
    },
    {
     "name": "stderr",
     "output_type": "stream",
     "text": [
      "194it [02:29,  6.98it/s]"
     ]
    },
    {
     "name": "stdout",
     "output_type": "stream",
     "text": [
      "0.7378172278404236\n",
      "0.7576906681060791\n"
     ]
    },
    {
     "name": "stderr",
     "output_type": "stream",
     "text": [
      "196it [02:30,  7.11it/s]"
     ]
    },
    {
     "name": "stdout",
     "output_type": "stream",
     "text": [
      "0.7487261295318604\n",
      "0.7441070079803467\n"
     ]
    },
    {
     "name": "stderr",
     "output_type": "stream",
     "text": [
      "198it [02:30,  7.41it/s]"
     ]
    },
    {
     "name": "stdout",
     "output_type": "stream",
     "text": [
      "0.7541245222091675\n",
      "0.7139126658439636\n"
     ]
    },
    {
     "name": "stderr",
     "output_type": "stream",
     "text": [
      "199it [02:30,  7.06it/s]"
     ]
    },
    {
     "name": "stdout",
     "output_type": "stream",
     "text": [
      "0.729732871055603\n",
      "0.7598530054092407\n"
     ]
    },
    {
     "name": "stderr",
     "output_type": "stream",
     "text": []
    },
    {
     "name": "stdout",
     "output_type": "stream",
     "text": [
      "Epoch [1/10], Step [200/1137], TrainLoss: 0.7367; ValidLoss: 0.7306, Accuracy: 0.5195, Precision: 0.4828, Recall: 0.0571, curr_epoch_best_accuracy: 0.5195; Time: 14.78s\n"
     ]
    },
    {
     "name": "stderr",
     "output_type": "stream",
     "text": []
    },
    {
     "name": "stdout",
     "output_type": "stream",
     "text": [
      "Epoch [1/10], Step [200/1137], TrainLoss: nan; ValidLoss: 0.7165, Accuracy: 0.5410, Precision: 0.5484, Recall: 0.0714, curr_epoch_best_accuracy: 0.5410; Time: 0.11s\n"
     ]
    },
    {
     "name": "stderr",
     "output_type": "stream",
     "text": []
    },
    {
     "name": "stdout",
     "output_type": "stream",
     "text": [
      "Epoch [1/10], Step [200/1137], TrainLoss: nan; ValidLoss: 0.7242, Accuracy: 0.5267, Precision: 0.5326, Recall: 0.0668, curr_epoch_best_accuracy: 0.5410; Time: 0.24s\n"
     ]
    },
    {
     "name": "stderr",
     "output_type": "stream",
     "text": []
    },
    {
     "name": "stdout",
     "output_type": "stream",
     "text": [
      "Epoch [1/10], Step [200/1137], TrainLoss: nan; ValidLoss: 0.7261, Accuracy: 0.5205, Precision: 0.5000, Recall: 0.0672, curr_epoch_best_accuracy: 0.5410; Time: 0.21s\n"
     ]
    },
    {
     "name": "stderr",
     "output_type": "stream",
     "text": []
    },
    {
     "name": "stdout",
     "output_type": "stream",
     "text": [
      "Epoch [1/10], Step [200/1137], TrainLoss: nan; ValidLoss: 0.7287, Accuracy: 0.5180, Precision: 0.5329, Recall: 0.0715, curr_epoch_best_accuracy: 0.5410; Time: 0.12s\n"
     ]
    },
    {
     "name": "stderr",
     "output_type": "stream",
     "text": []
    },
    {
     "name": "stdout",
     "output_type": "stream",
     "text": [
      "Epoch [1/10], Step [200/1137], TrainLoss: nan; ValidLoss: 0.7315, Accuracy: 0.5111, Precision: 0.5373, Recall: 0.0712, curr_epoch_best_accuracy: 0.5410; Time: 0.11s\n"
     ]
    },
    {
     "name": "stderr",
     "output_type": "stream",
     "text": []
    },
    {
     "name": "stdout",
     "output_type": "stream",
     "text": [
      "Epoch [1/10], Step [200/1137], TrainLoss: nan; ValidLoss: 0.7307, Accuracy: 0.5114, Precision: 0.5187, Recall: 0.0710, curr_epoch_best_accuracy: 0.5410; Time: 0.11s\n"
     ]
    },
    {
     "name": "stderr",
     "output_type": "stream",
     "text": []
    },
    {
     "name": "stdout",
     "output_type": "stream",
     "text": [
      "Epoch [1/10], Step [200/1137], TrainLoss: nan; ValidLoss: 0.7292, Accuracy: 0.5142, Precision: 0.5360, Recall: 0.0741, curr_epoch_best_accuracy: 0.5410; Time: 0.11s\n"
     ]
    },
    {
     "name": "stderr",
     "output_type": "stream",
     "text": []
    },
    {
     "name": "stdout",
     "output_type": "stream",
     "text": [
      "Epoch [1/10], Step [200/1137], TrainLoss: nan; ValidLoss: 0.7308, Accuracy: 0.5117, Precision: 0.5226, Recall: 0.0716, curr_epoch_best_accuracy: 0.5410; Time: 0.16s\n"
     ]
    },
    {
     "name": "stderr",
     "output_type": "stream",
     "text": []
    },
    {
     "name": "stdout",
     "output_type": "stream",
     "text": [
      "Epoch [1/10], Step [200/1137], TrainLoss: nan; ValidLoss: 0.7312, Accuracy: 0.5107, Precision: 0.5296, Recall: 0.0709, curr_epoch_best_accuracy: 0.5410; Time: 0.18s\n"
     ]
    },
    {
     "name": "stderr",
     "output_type": "stream",
     "text": []
    },
    {
     "name": "stdout",
     "output_type": "stream",
     "text": [
      "Epoch [1/10], Step [200/1137], TrainLoss: nan; ValidLoss: 0.7330, Accuracy: 0.5067, Precision: 0.5161, Recall: 0.0688, curr_epoch_best_accuracy: 0.5410; Time: 0.13s\n"
     ]
    },
    {
     "name": "stderr",
     "output_type": "stream",
     "text": []
    },
    {
     "name": "stdout",
     "output_type": "stream",
     "text": [
      "Epoch [1/10], Step [200/1137], TrainLoss: nan; ValidLoss: 0.7323, Accuracy: 0.5083, Precision: 0.5125, Recall: 0.0676, curr_epoch_best_accuracy: 0.5410; Time: 0.12s\n"
     ]
    },
    {
     "name": "stderr",
     "output_type": "stream",
     "text": []
    },
    {
     "name": "stdout",
     "output_type": "stream",
     "text": [
      "Epoch [1/10], Step [200/1137], TrainLoss: nan; ValidLoss: 0.7320, Accuracy: 0.5087, Precision: 0.5107, Recall: 0.0656, curr_epoch_best_accuracy: 0.5410; Time: 0.14s\n"
     ]
    },
    {
     "name": "stderr",
     "output_type": "stream",
     "text": []
    },
    {
     "name": "stdout",
     "output_type": "stream",
     "text": [
      "Epoch [1/10], Step [200/1137], TrainLoss: nan; ValidLoss: 0.7332, Accuracy: 0.5074, Precision: 0.5087, Recall: 0.0661, curr_epoch_best_accuracy: 0.5410; Time: 0.13s\n"
     ]
    },
    {
     "name": "stderr",
     "output_type": "stream",
     "text": []
    },
    {
     "name": "stdout",
     "output_type": "stream",
     "text": [
      "Epoch [1/10], Step [200/1137], TrainLoss: nan; ValidLoss: 0.7316, Accuracy: 0.5091, Precision: 0.5010, Recall: 0.0663, curr_epoch_best_accuracy: 0.5410; Time: 0.22s\n"
     ]
    },
    {
     "name": "stderr",
     "output_type": "stream",
     "text": []
    },
    {
     "name": "stdout",
     "output_type": "stream",
     "text": [
      "Epoch [1/10], Step [200/1137], TrainLoss: nan; ValidLoss: 0.7313, Accuracy: 0.5101, Precision: 0.4982, Recall: 0.0678, curr_epoch_best_accuracy: 0.5410; Time: 0.13s\n"
     ]
    },
    {
     "name": "stderr",
     "output_type": "stream",
     "text": []
    },
    {
     "name": "stdout",
     "output_type": "stream",
     "text": [
      "Epoch [1/10], Step [200/1137], TrainLoss: nan; ValidLoss: 0.7309, Accuracy: 0.5103, Precision: 0.4931, Recall: 0.0668, curr_epoch_best_accuracy: 0.5410; Time: 0.13s\n"
     ]
    },
    {
     "name": "stderr",
     "output_type": "stream",
     "text": []
    },
    {
     "name": "stdout",
     "output_type": "stream",
     "text": [
      "Epoch [1/10], Step [200/1137], TrainLoss: nan; ValidLoss: 0.7313, Accuracy: 0.5099, Precision: 0.4967, Recall: 0.0667, curr_epoch_best_accuracy: 0.5410; Time: 0.18s\n"
     ]
    },
    {
     "name": "stderr",
     "output_type": "stream",
     "text": []
    },
    {
     "name": "stdout",
     "output_type": "stream",
     "text": [
      "Epoch [1/10], Step [200/1137], TrainLoss: nan; ValidLoss: 0.7320, Accuracy: 0.5081, Precision: 0.4922, Recall: 0.0660, curr_epoch_best_accuracy: 0.5410; Time: 0.13s\n"
     ]
    },
    {
     "name": "stderr",
     "output_type": "stream",
     "text": []
    },
    {
     "name": "stdout",
     "output_type": "stream",
     "text": [
      "Epoch [1/10], Step [200/1137], TrainLoss: nan; ValidLoss: 0.7329, Accuracy: 0.5063, Precision: 0.4882, Recall: 0.0659, curr_epoch_best_accuracy: 0.5410; Time: 0.14s\n"
     ]
    },
    {
     "name": "stderr",
     "output_type": "stream",
     "text": []
    },
    {
     "name": "stdout",
     "output_type": "stream",
     "text": [
      "Epoch [1/10], Step [200/1137], TrainLoss: nan; ValidLoss: 0.7323, Accuracy: 0.5067, Precision: 0.4825, Recall: 0.0652, curr_epoch_best_accuracy: 0.5410; Time: 0.18s\n"
     ]
    },
    {
     "name": "stderr",
     "output_type": "stream",
     "text": []
    },
    {
     "name": "stdout",
     "output_type": "stream",
     "text": [
      "Epoch [1/10], Step [200/1137], TrainLoss: nan; ValidLoss: 0.7327, Accuracy: 0.5070, Precision: 0.4813, Recall: 0.0653, curr_epoch_best_accuracy: 0.5410; Time: 0.12s\n"
     ]
    },
    {
     "name": "stderr",
     "output_type": "stream",
     "text": []
    },
    {
     "name": "stdout",
     "output_type": "stream",
     "text": [
      "Epoch [1/10], Step [200/1137], TrainLoss: nan; ValidLoss: 0.7330, Accuracy: 0.5065, Precision: 0.4769, Recall: 0.0642, curr_epoch_best_accuracy: 0.5410; Time: 0.16s\n"
     ]
    },
    {
     "name": "stderr",
     "output_type": "stream",
     "text": []
    },
    {
     "name": "stdout",
     "output_type": "stream",
     "text": [
      "Epoch [1/10], Step [200/1137], TrainLoss: nan; ValidLoss: 0.7326, Accuracy: 0.5068, Precision: 0.4736, Recall: 0.0641, curr_epoch_best_accuracy: 0.5410; Time: 0.24s\n"
     ]
    },
    {
     "name": "stderr",
     "output_type": "stream",
     "text": []
    },
    {
     "name": "stdout",
     "output_type": "stream",
     "text": [
      "Epoch [1/10], Step [200/1137], TrainLoss: nan; ValidLoss: 0.7323, Accuracy: 0.5072, Precision: 0.4722, Recall: 0.0637, curr_epoch_best_accuracy: 0.5410; Time: 0.15s\n"
     ]
    },
    {
     "name": "stderr",
     "output_type": "stream",
     "text": []
    },
    {
     "name": "stdout",
     "output_type": "stream",
     "text": [
      "Epoch [1/10], Step [200/1137], TrainLoss: nan; ValidLoss: 0.7325, Accuracy: 0.5070, Precision: 0.4742, Recall: 0.0634, curr_epoch_best_accuracy: 0.5410; Time: 0.17s\n"
     ]
    },
    {
     "name": "stderr",
     "output_type": "stream",
     "text": []
    },
    {
     "name": "stdout",
     "output_type": "stream",
     "text": [
      "Epoch [1/10], Step [200/1137], TrainLoss: nan; ValidLoss: 0.7317, Accuracy: 0.5082, Precision: 0.4801, Recall: 0.0643, curr_epoch_best_accuracy: 0.5410; Time: 0.27s\n"
     ]
    },
    {
     "name": "stderr",
     "output_type": "stream",
     "text": []
    },
    {
     "name": "stdout",
     "output_type": "stream",
     "text": [
      "Epoch [1/10], Step [200/1137], TrainLoss: nan; ValidLoss: 0.7321, Accuracy: 0.5074, Precision: 0.4819, Recall: 0.0645, curr_epoch_best_accuracy: 0.5410; Time: 0.12s\n"
     ]
    },
    {
     "name": "stderr",
     "output_type": "stream",
     "text": []
    },
    {
     "name": "stdout",
     "output_type": "stream",
     "text": [
      "Epoch [1/10], Step [200/1137], TrainLoss: nan; ValidLoss: 0.7324, Accuracy: 0.5077, Precision: 0.4863, Recall: 0.0656, curr_epoch_best_accuracy: 0.5410; Time: 0.19s\n"
     ]
    },
    {
     "name": "stderr",
     "output_type": "stream",
     "text": []
    },
    {
     "name": "stdout",
     "output_type": "stream",
     "text": [
      "Epoch [1/10], Step [200/1137], TrainLoss: nan; ValidLoss: 0.7323, Accuracy: 0.5079, Precision: 0.4818, Recall: 0.0653, curr_epoch_best_accuracy: 0.5410; Time: 0.16s\n"
     ]
    },
    {
     "name": "stderr",
     "output_type": "stream",
     "text": []
    },
    {
     "name": "stdout",
     "output_type": "stream",
     "text": [
      "Epoch [1/10], Step [200/1137], TrainLoss: nan; ValidLoss: 0.7329, Accuracy: 0.5068, Precision: 0.4758, Recall: 0.0644, curr_epoch_best_accuracy: 0.5410; Time: 0.19s\n"
     ]
    },
    {
     "name": "stderr",
     "output_type": "stream",
     "text": []
    },
    {
     "name": "stdout",
     "output_type": "stream",
     "text": [
      "Epoch [1/10], Step [200/1137], TrainLoss: nan; ValidLoss: 0.7326, Accuracy: 0.5073, Precision: 0.4812, Recall: 0.0655, curr_epoch_best_accuracy: 0.5410; Time: 0.30s\n"
     ]
    },
    {
     "name": "stderr",
     "output_type": "stream",
     "text": []
    },
    {
     "name": "stdout",
     "output_type": "stream",
     "text": [
      "Epoch [1/10], Step [200/1137], TrainLoss: nan; ValidLoss: 0.7328, Accuracy: 0.5072, Precision: 0.4791, Recall: 0.0652, curr_epoch_best_accuracy: 0.5410; Time: 0.21s\n"
     ]
    },
    {
     "name": "stderr",
     "output_type": "stream",
     "text": []
    },
    {
     "name": "stdout",
     "output_type": "stream",
     "text": [
      "Epoch [1/10], Step [200/1137], TrainLoss: nan; ValidLoss: 0.7331, Accuracy: 0.5071, Precision: 0.4831, Recall: 0.0667, curr_epoch_best_accuracy: 0.5410; Time: 0.22s\n"
     ]
    },
    {
     "name": "stderr",
     "output_type": "stream",
     "text": []
    },
    {
     "name": "stdout",
     "output_type": "stream",
     "text": [
      "Epoch [1/10], Step [200/1137], TrainLoss: nan; ValidLoss: 0.7329, Accuracy: 0.5069, Precision: 0.4814, Recall: 0.0661, curr_epoch_best_accuracy: 0.5410; Time: 0.22s\n"
     ]
    },
    {
     "name": "stderr",
     "output_type": "stream",
     "text": []
    },
    {
     "name": "stdout",
     "output_type": "stream",
     "text": [
      "Epoch [1/10], Step [200/1137], TrainLoss: nan; ValidLoss: 0.7330, Accuracy: 0.5069, Precision: 0.4800, Recall: 0.0652, curr_epoch_best_accuracy: 0.5410; Time: 0.25s\n"
     ]
    },
    {
     "name": "stderr",
     "output_type": "stream",
     "text": []
    },
    {
     "name": "stdout",
     "output_type": "stream",
     "text": [
      "Epoch [1/10], Step [200/1137], TrainLoss: nan; ValidLoss: 0.7332, Accuracy: 0.5072, Precision: 0.4797, Recall: 0.0648, curr_epoch_best_accuracy: 0.5410; Time: 0.16s\n"
     ]
    },
    {
     "name": "stderr",
     "output_type": "stream",
     "text": []
    },
    {
     "name": "stdout",
     "output_type": "stream",
     "text": [
      "Epoch [1/10], Step [200/1137], TrainLoss: nan; ValidLoss: 0.7327, Accuracy: 0.5078, Precision: 0.4829, Recall: 0.0650, curr_epoch_best_accuracy: 0.5410; Time: 0.17s\n"
     ]
    },
    {
     "name": "stderr",
     "output_type": "stream",
     "text": []
    },
    {
     "name": "stdout",
     "output_type": "stream",
     "text": [
      "Epoch [1/10], Step [200/1137], TrainLoss: nan; ValidLoss: 0.7325, Accuracy: 0.5079, Precision: 0.4814, Recall: 0.0647, curr_epoch_best_accuracy: 0.5410; Time: 0.20s\n"
     ]
    },
    {
     "name": "stderr",
     "output_type": "stream",
     "text": []
    },
    {
     "name": "stdout",
     "output_type": "stream",
     "text": [
      "Epoch [1/10], Step [200/1137], TrainLoss: nan; ValidLoss: 0.7328, Accuracy: 0.5074, Precision: 0.4793, Recall: 0.0645, curr_epoch_best_accuracy: 0.5410; Time: 0.17s\n"
     ]
    },
    {
     "name": "stderr",
     "output_type": "stream",
     "text": []
    },
    {
     "name": "stdout",
     "output_type": "stream",
     "text": [
      "Epoch [1/10], Step [200/1137], TrainLoss: nan; ValidLoss: 0.7335, Accuracy: 0.5062, Precision: 0.4800, Recall: 0.0640, curr_epoch_best_accuracy: 0.5410; Time: 0.19s\n"
     ]
    },
    {
     "name": "stderr",
     "output_type": "stream",
     "text": []
    },
    {
     "name": "stdout",
     "output_type": "stream",
     "text": [
      "Epoch [1/10], Step [200/1137], TrainLoss: nan; ValidLoss: 0.7333, Accuracy: 0.5066, Precision: 0.4791, Recall: 0.0641, curr_epoch_best_accuracy: 0.5410; Time: 0.14s\n"
     ]
    },
    {
     "name": "stderr",
     "output_type": "stream",
     "text": []
    },
    {
     "name": "stdout",
     "output_type": "stream",
     "text": [
      "Epoch [1/10], Step [200/1137], TrainLoss: nan; ValidLoss: 0.7336, Accuracy: 0.5062, Precision: 0.4796, Recall: 0.0640, curr_epoch_best_accuracy: 0.5410; Time: 0.15s\n"
     ]
    },
    {
     "name": "stderr",
     "output_type": "stream",
     "text": []
    },
    {
     "name": "stdout",
     "output_type": "stream",
     "text": [
      "Epoch [1/10], Step [200/1137], TrainLoss: nan; ValidLoss: 0.7342, Accuracy: 0.5056, Precision: 0.4834, Recall: 0.0644, curr_epoch_best_accuracy: 0.5410; Time: 0.15s\n"
     ]
    },
    {
     "name": "stderr",
     "output_type": "stream",
     "text": []
    },
    {
     "name": "stdout",
     "output_type": "stream",
     "text": [
      "Epoch [1/10], Step [200/1137], TrainLoss: nan; ValidLoss: 0.7343, Accuracy: 0.5053, Precision: 0.4868, Recall: 0.0648, curr_epoch_best_accuracy: 0.5410; Time: 0.23s\n"
     ]
    },
    {
     "name": "stderr",
     "output_type": "stream",
     "text": []
    },
    {
     "name": "stdout",
     "output_type": "stream",
     "text": [
      "Epoch [1/10], Step [200/1137], TrainLoss: nan; ValidLoss: 0.7344, Accuracy: 0.5051, Precision: 0.4880, Recall: 0.0647, curr_epoch_best_accuracy: 0.5410; Time: 0.29s\n"
     ]
    },
    {
     "name": "stderr",
     "output_type": "stream",
     "text": []
    },
    {
     "name": "stdout",
     "output_type": "stream",
     "text": [
      "Epoch [1/10], Step [200/1137], TrainLoss: nan; ValidLoss: 0.7339, Accuracy: 0.5060, Precision: 0.4877, Recall: 0.0652, curr_epoch_best_accuracy: 0.5410; Time: 0.22s\n"
     ]
    },
    {
     "name": "stderr",
     "output_type": "stream",
     "text": []
    },
    {
     "name": "stdout",
     "output_type": "stream",
     "text": [
      "Epoch [1/10], Step [200/1137], TrainLoss: nan; ValidLoss: 0.7343, Accuracy: 0.5057, Precision: 0.4904, Recall: 0.0655, curr_epoch_best_accuracy: 0.5410; Time: 0.15s\n"
     ]
    },
    {
     "name": "stderr",
     "output_type": "stream",
     "text": []
    },
    {
     "name": "stdout",
     "output_type": "stream",
     "text": [
      "Epoch [1/10], Step [200/1137], TrainLoss: nan; ValidLoss: 0.7347, Accuracy: 0.5051, Precision: 0.4897, Recall: 0.0656, curr_epoch_best_accuracy: 0.5410; Time: 0.23s\n"
     ]
    },
    {
     "name": "stderr",
     "output_type": "stream",
     "text": []
    },
    {
     "name": "stdout",
     "output_type": "stream",
     "text": [
      "Epoch [1/10], Step [200/1137], TrainLoss: nan; ValidLoss: 0.7349, Accuracy: 0.5048, Precision: 0.4903, Recall: 0.0656, curr_epoch_best_accuracy: 0.5410; Time: 0.24s\n"
     ]
    },
    {
     "name": "stderr",
     "output_type": "stream",
     "text": []
    },
    {
     "name": "stdout",
     "output_type": "stream",
     "text": [
      "Epoch [1/10], Step [200/1137], TrainLoss: nan; ValidLoss: 0.7350, Accuracy: 0.5046, Precision: 0.4911, Recall: 0.0663, curr_epoch_best_accuracy: 0.5410; Time: 0.24s\n"
     ]
    },
    {
     "name": "stderr",
     "output_type": "stream",
     "text": []
    },
    {
     "name": "stdout",
     "output_type": "stream",
     "text": [
      "Epoch [1/10], Step [200/1137], TrainLoss: nan; ValidLoss: 0.7350, Accuracy: 0.5047, Precision: 0.4896, Recall: 0.0660, curr_epoch_best_accuracy: 0.5410; Time: 0.17s\n"
     ]
    },
    {
     "name": "stderr",
     "output_type": "stream",
     "text": []
    },
    {
     "name": "stdout",
     "output_type": "stream",
     "text": [
      "Epoch [1/10], Step [200/1137], TrainLoss: nan; ValidLoss: 0.7354, Accuracy: 0.5041, Precision: 0.4903, Recall: 0.0661, curr_epoch_best_accuracy: 0.5410; Time: 0.16s\n"
     ]
    },
    {
     "name": "stderr",
     "output_type": "stream",
     "text": []
    },
    {
     "name": "stdout",
     "output_type": "stream",
     "text": [
      "Epoch [1/10], Step [200/1137], TrainLoss: nan; ValidLoss: 0.7356, Accuracy: 0.5038, Precision: 0.4908, Recall: 0.0660, curr_epoch_best_accuracy: 0.5410; Time: 0.16s\n"
     ]
    },
    {
     "name": "stderr",
     "output_type": "stream",
     "text": []
    },
    {
     "name": "stdout",
     "output_type": "stream",
     "text": [
      "Epoch [1/10], Step [200/1137], TrainLoss: nan; ValidLoss: 0.7354, Accuracy: 0.5039, Precision: 0.4891, Recall: 0.0660, curr_epoch_best_accuracy: 0.5410; Time: 0.28s\n"
     ]
    },
    {
     "name": "stderr",
     "output_type": "stream",
     "text": []
    },
    {
     "name": "stdout",
     "output_type": "stream",
     "text": [
      "Epoch [1/10], Step [200/1137], TrainLoss: nan; ValidLoss: 0.7358, Accuracy: 0.5032, Precision: 0.4872, Recall: 0.0659, curr_epoch_best_accuracy: 0.5410; Time: 0.27s\n"
     ]
    },
    {
     "name": "stderr",
     "output_type": "stream",
     "text": []
    },
    {
     "name": "stdout",
     "output_type": "stream",
     "text": [
      "Epoch [1/10], Step [200/1137], TrainLoss: nan; ValidLoss: 0.7359, Accuracy: 0.5033, Precision: 0.4892, Recall: 0.0658, curr_epoch_best_accuracy: 0.5410; Time: 0.25s\n"
     ]
    },
    {
     "name": "stderr",
     "output_type": "stream",
     "text": []
    },
    {
     "name": "stdout",
     "output_type": "stream",
     "text": [
      "Epoch [1/10], Step [200/1137], TrainLoss: nan; ValidLoss: 0.7354, Accuracy: 0.5040, Precision: 0.4896, Recall: 0.0658, curr_epoch_best_accuracy: 0.5410; Time: 0.21s\n"
     ]
    },
    {
     "name": "stderr",
     "output_type": "stream",
     "text": []
    },
    {
     "name": "stdout",
     "output_type": "stream",
     "text": [
      "Epoch [1/10], Step [200/1137], TrainLoss: nan; ValidLoss: 0.7360, Accuracy: 0.5029, Precision: 0.4898, Recall: 0.0659, curr_epoch_best_accuracy: 0.5410; Time: 0.21s\n"
     ]
    },
    {
     "name": "stderr",
     "output_type": "stream",
     "text": []
    },
    {
     "name": "stdout",
     "output_type": "stream",
     "text": [
      "Epoch [1/10], Step [200/1137], TrainLoss: nan; ValidLoss: 0.7359, Accuracy: 0.5032, Precision: 0.4907, Recall: 0.0659, curr_epoch_best_accuracy: 0.5410; Time: 0.23s\n"
     ]
    },
    {
     "name": "stderr",
     "output_type": "stream",
     "text": []
    },
    {
     "name": "stdout",
     "output_type": "stream",
     "text": [
      "Epoch [1/10], Step [200/1137], TrainLoss: nan; ValidLoss: 0.7363, Accuracy: 0.5025, Precision: 0.4926, Recall: 0.0662, curr_epoch_best_accuracy: 0.5410; Time: 0.24s\n"
     ]
    },
    {
     "name": "stderr",
     "output_type": "stream",
     "text": []
    },
    {
     "name": "stdout",
     "output_type": "stream",
     "text": [
      "Epoch [1/10], Step [200/1137], TrainLoss: nan; ValidLoss: 0.7363, Accuracy: 0.5023, Precision: 0.4913, Recall: 0.0662, curr_epoch_best_accuracy: 0.5410; Time: 0.25s\n"
     ]
    },
    {
     "name": "stderr",
     "output_type": "stream",
     "text": []
    },
    {
     "name": "stdout",
     "output_type": "stream",
     "text": [
      "Epoch [1/10], Step [200/1137], TrainLoss: nan; ValidLoss: 0.7362, Accuracy: 0.5025, Precision: 0.4917, Recall: 0.0663, curr_epoch_best_accuracy: 0.5410; Time: 0.21s\n"
     ]
    },
    {
     "name": "stderr",
     "output_type": "stream",
     "text": []
    },
    {
     "name": "stdout",
     "output_type": "stream",
     "text": [
      "Epoch [1/10], Step [200/1137], TrainLoss: nan; ValidLoss: 0.7362, Accuracy: 0.5026, Precision: 0.4934, Recall: 0.0663, curr_epoch_best_accuracy: 0.5410; Time: 0.20s\n"
     ]
    },
    {
     "name": "stderr",
     "output_type": "stream",
     "text": []
    },
    {
     "name": "stdout",
     "output_type": "stream",
     "text": [
      "Epoch [1/10], Step [200/1137], TrainLoss: nan; ValidLoss: 0.7362, Accuracy: 0.5026, Precision: 0.4939, Recall: 0.0667, curr_epoch_best_accuracy: 0.5410; Time: 0.24s\n"
     ]
    },
    {
     "name": "stderr",
     "output_type": "stream",
     "text": []
    },
    {
     "name": "stdout",
     "output_type": "stream",
     "text": [
      "Epoch [1/10], Step [200/1137], TrainLoss: nan; ValidLoss: 0.7361, Accuracy: 0.5026, Precision: 0.4916, Recall: 0.0665, curr_epoch_best_accuracy: 0.5410; Time: 0.29s\n"
     ]
    },
    {
     "name": "stderr",
     "output_type": "stream",
     "text": []
    },
    {
     "name": "stdout",
     "output_type": "stream",
     "text": [
      "Epoch [1/10], Step [200/1137], TrainLoss: nan; ValidLoss: 0.7361, Accuracy: 0.5027, Precision: 0.4926, Recall: 0.0665, curr_epoch_best_accuracy: 0.5410; Time: 0.27s\n"
     ]
    },
    {
     "name": "stderr",
     "output_type": "stream",
     "text": []
    },
    {
     "name": "stdout",
     "output_type": "stream",
     "text": [
      "Epoch [1/10], Step [200/1137], TrainLoss: nan; ValidLoss: 0.7361, Accuracy: 0.5026, Precision: 0.4903, Recall: 0.0661, curr_epoch_best_accuracy: 0.5410; Time: 0.27s\n"
     ]
    },
    {
     "name": "stderr",
     "output_type": "stream",
     "text": []
    },
    {
     "name": "stdout",
     "output_type": "stream",
     "text": [
      "Epoch [1/10], Step [200/1137], TrainLoss: nan; ValidLoss: 0.7362, Accuracy: 0.5024, Precision: 0.4906, Recall: 0.0658, curr_epoch_best_accuracy: 0.5410; Time: 0.31s\n"
     ]
    },
    {
     "name": "stderr",
     "output_type": "stream",
     "text": []
    },
    {
     "name": "stdout",
     "output_type": "stream",
     "text": [
      "Epoch [1/10], Step [200/1137], TrainLoss: nan; ValidLoss: 0.7360, Accuracy: 0.5027, Precision: 0.4908, Recall: 0.0663, curr_epoch_best_accuracy: 0.5410; Time: 0.26s\n"
     ]
    },
    {
     "name": "stderr",
     "output_type": "stream",
     "text": []
    },
    {
     "name": "stdout",
     "output_type": "stream",
     "text": [
      "Epoch [1/10], Step [200/1137], TrainLoss: nan; ValidLoss: 0.7362, Accuracy: 0.5025, Precision: 0.4911, Recall: 0.0660, curr_epoch_best_accuracy: 0.5410; Time: 0.24s\n"
     ]
    },
    {
     "name": "stderr",
     "output_type": "stream",
     "text": []
    },
    {
     "name": "stdout",
     "output_type": "stream",
     "text": [
      "Epoch [1/10], Step [200/1137], TrainLoss: nan; ValidLoss: 0.7363, Accuracy: 0.5024, Precision: 0.4900, Recall: 0.0658, curr_epoch_best_accuracy: 0.5410; Time: 0.23s\n"
     ]
    },
    {
     "name": "stderr",
     "output_type": "stream",
     "text": []
    },
    {
     "name": "stdout",
     "output_type": "stream",
     "text": [
      "Epoch [1/10], Step [200/1137], TrainLoss: nan; ValidLoss: 0.7363, Accuracy: 0.5022, Precision: 0.4894, Recall: 0.0658, curr_epoch_best_accuracy: 0.5410; Time: 0.23s\n"
     ]
    },
    {
     "name": "stderr",
     "output_type": "stream",
     "text": []
    },
    {
     "name": "stdout",
     "output_type": "stream",
     "text": [
      "Epoch [1/10], Step [200/1137], TrainLoss: nan; ValidLoss: 0.7363, Accuracy: 0.5023, Precision: 0.4899, Recall: 0.0656, curr_epoch_best_accuracy: 0.5410; Time: 0.25s\n"
     ]
    },
    {
     "name": "stderr",
     "output_type": "stream",
     "text": []
    },
    {
     "name": "stdout",
     "output_type": "stream",
     "text": [
      "Epoch [1/10], Step [200/1137], TrainLoss: nan; ValidLoss: 0.7361, Accuracy: 0.5024, Precision: 0.4906, Recall: 0.0654, curr_epoch_best_accuracy: 0.5410; Time: 0.29s\n"
     ]
    },
    {
     "name": "stderr",
     "output_type": "stream",
     "text": []
    },
    {
     "name": "stdout",
     "output_type": "stream",
     "text": [
      "Epoch [1/10], Step [200/1137], TrainLoss: nan; ValidLoss: 0.7360, Accuracy: 0.5027, Precision: 0.4918, Recall: 0.0656, curr_epoch_best_accuracy: 0.5410; Time: 0.25s\n"
     ]
    },
    {
     "name": "stderr",
     "output_type": "stream",
     "text": []
    },
    {
     "name": "stdout",
     "output_type": "stream",
     "text": [
      "Epoch [1/10], Step [200/1137], TrainLoss: nan; ValidLoss: 0.7361, Accuracy: 0.5027, Precision: 0.4906, Recall: 0.0655, curr_epoch_best_accuracy: 0.5410; Time: 0.23s\n"
     ]
    },
    {
     "name": "stderr",
     "output_type": "stream",
     "text": []
    },
    {
     "name": "stdout",
     "output_type": "stream",
     "text": [
      "Epoch [1/10], Step [200/1137], TrainLoss: nan; ValidLoss: 0.7361, Accuracy: 0.5026, Precision: 0.4900, Recall: 0.0653, curr_epoch_best_accuracy: 0.5410; Time: 0.35s\n"
     ]
    },
    {
     "name": "stderr",
     "output_type": "stream",
     "text": []
    },
    {
     "name": "stdout",
     "output_type": "stream",
     "text": [
      "Epoch [1/10], Step [200/1137], TrainLoss: nan; ValidLoss: 0.7363, Accuracy: 0.5023, Precision: 0.4902, Recall: 0.0650, curr_epoch_best_accuracy: 0.5410; Time: 0.24s\n"
     ]
    },
    {
     "name": "stderr",
     "output_type": "stream",
     "text": []
    },
    {
     "name": "stdout",
     "output_type": "stream",
     "text": [
      "Epoch [1/10], Step [200/1137], TrainLoss: nan; ValidLoss: 0.7363, Accuracy: 0.5022, Precision: 0.4904, Recall: 0.0651, curr_epoch_best_accuracy: 0.5410; Time: 0.27s\n"
     ]
    },
    {
     "name": "stderr",
     "output_type": "stream",
     "text": []
    },
    {
     "name": "stdout",
     "output_type": "stream",
     "text": [
      "Epoch [1/10], Step [200/1137], TrainLoss: nan; ValidLoss: 0.7362, Accuracy: 0.5023, Precision: 0.4898, Recall: 0.0651, curr_epoch_best_accuracy: 0.5410; Time: 0.43s\n"
     ]
    },
    {
     "name": "stderr",
     "output_type": "stream",
     "text": []
    },
    {
     "name": "stdout",
     "output_type": "stream",
     "text": [
      "Epoch [1/10], Step [200/1137], TrainLoss: nan; ValidLoss: 0.7360, Accuracy: 0.5025, Precision: 0.4893, Recall: 0.0650, curr_epoch_best_accuracy: 0.5410; Time: 0.28s\n"
     ]
    },
    {
     "name": "stderr",
     "output_type": "stream",
     "text": []
    },
    {
     "name": "stdout",
     "output_type": "stream",
     "text": [
      "Epoch [1/10], Step [200/1137], TrainLoss: nan; ValidLoss: 0.7360, Accuracy: 0.5026, Precision: 0.4894, Recall: 0.0648, curr_epoch_best_accuracy: 0.5410; Time: 0.31s\n"
     ]
    },
    {
     "name": "stderr",
     "output_type": "stream",
     "text": []
    },
    {
     "name": "stdout",
     "output_type": "stream",
     "text": [
      "Epoch [1/10], Step [200/1137], TrainLoss: nan; ValidLoss: 0.7363, Accuracy: 0.5022, Precision: 0.4880, Recall: 0.0646, curr_epoch_best_accuracy: 0.5410; Time: 0.36s\n"
     ]
    },
    {
     "name": "stderr",
     "output_type": "stream",
     "text": []
    },
    {
     "name": "stdout",
     "output_type": "stream",
     "text": [
      "Epoch [1/10], Step [200/1137], TrainLoss: nan; ValidLoss: 0.7364, Accuracy: 0.5018, Precision: 0.4882, Recall: 0.0644, curr_epoch_best_accuracy: 0.5410; Time: 0.30s\n"
     ]
    },
    {
     "name": "stderr",
     "output_type": "stream",
     "text": []
    },
    {
     "name": "stdout",
     "output_type": "stream",
     "text": [
      "Epoch [1/10], Step [200/1137], TrainLoss: nan; ValidLoss: 0.7364, Accuracy: 0.5016, Precision: 0.4872, Recall: 0.0646, curr_epoch_best_accuracy: 0.5410; Time: 0.27s\n"
     ]
    },
    {
     "name": "stderr",
     "output_type": "stream",
     "text": []
    },
    {
     "name": "stdout",
     "output_type": "stream",
     "text": [
      "Epoch [1/10], Step [200/1137], TrainLoss: nan; ValidLoss: 0.7363, Accuracy: 0.5019, Precision: 0.4883, Recall: 0.0648, curr_epoch_best_accuracy: 0.5410; Time: 0.26s\n"
     ]
    },
    {
     "name": "stderr",
     "output_type": "stream",
     "text": []
    },
    {
     "name": "stdout",
     "output_type": "stream",
     "text": [
      "Epoch [1/10], Step [200/1137], TrainLoss: nan; ValidLoss: 0.7359, Accuracy: 0.5024, Precision: 0.4871, Recall: 0.0648, curr_epoch_best_accuracy: 0.5410; Time: 0.26s\n"
     ]
    },
    {
     "name": "stderr",
     "output_type": "stream",
     "text": []
    },
    {
     "name": "stdout",
     "output_type": "stream",
     "text": [
      "Epoch [1/10], Step [200/1137], TrainLoss: nan; ValidLoss: 0.7358, Accuracy: 0.5025, Precision: 0.4882, Recall: 0.0650, curr_epoch_best_accuracy: 0.5410; Time: 0.29s\n"
     ]
    },
    {
     "name": "stderr",
     "output_type": "stream",
     "text": []
    },
    {
     "name": "stdout",
     "output_type": "stream",
     "text": [
      "Epoch [1/10], Step [200/1137], TrainLoss: nan; ValidLoss: 0.7360, Accuracy: 0.5022, Precision: 0.4883, Recall: 0.0649, curr_epoch_best_accuracy: 0.5410; Time: 0.27s\n"
     ]
    },
    {
     "name": "stderr",
     "output_type": "stream",
     "text": []
    },
    {
     "name": "stdout",
     "output_type": "stream",
     "text": [
      "Epoch [1/10], Step [200/1137], TrainLoss: nan; ValidLoss: 0.7360, Accuracy: 0.5022, Precision: 0.4886, Recall: 0.0650, curr_epoch_best_accuracy: 0.5410; Time: 0.28s\n"
     ]
    },
    {
     "name": "stderr",
     "output_type": "stream",
     "text": []
    },
    {
     "name": "stdout",
     "output_type": "stream",
     "text": [
      "Epoch [1/10], Step [200/1137], TrainLoss: nan; ValidLoss: 0.7359, Accuracy: 0.5024, Precision: 0.4890, Recall: 0.0649, curr_epoch_best_accuracy: 0.5410; Time: 0.22s\n"
     ]
    },
    {
     "name": "stderr",
     "output_type": "stream",
     "text": []
    },
    {
     "name": "stdout",
     "output_type": "stream",
     "text": [
      "Epoch [1/10], Step [200/1137], TrainLoss: nan; ValidLoss: 0.7358, Accuracy: 0.5026, Precision: 0.4900, Recall: 0.0651, curr_epoch_best_accuracy: 0.5410; Time: 0.22s\n"
     ]
    },
    {
     "name": "stderr",
     "output_type": "stream",
     "text": []
    },
    {
     "name": "stdout",
     "output_type": "stream",
     "text": [
      "Epoch [1/10], Step [200/1137], TrainLoss: nan; ValidLoss: 0.7358, Accuracy: 0.5026, Precision: 0.4899, Recall: 0.0649, curr_epoch_best_accuracy: 0.5410; Time: 0.22s\n"
     ]
    },
    {
     "name": "stderr",
     "output_type": "stream",
     "text": []
    },
    {
     "name": "stdout",
     "output_type": "stream",
     "text": [
      "Epoch [1/10], Step [200/1137], TrainLoss: nan; ValidLoss: 0.7358, Accuracy: 0.5026, Precision: 0.4897, Recall: 0.0649, curr_epoch_best_accuracy: 0.5410; Time: 0.25s\n"
     ]
    },
    {
     "name": "stderr",
     "output_type": "stream",
     "text": []
    },
    {
     "name": "stdout",
     "output_type": "stream",
     "text": [
      "Epoch [1/10], Step [200/1137], TrainLoss: nan; ValidLoss: 0.7358, Accuracy: 0.5025, Precision: 0.4903, Recall: 0.0649, curr_epoch_best_accuracy: 0.5410; Time: 0.32s\n"
     ]
    },
    {
     "name": "stderr",
     "output_type": "stream",
     "text": []
    },
    {
     "name": "stdout",
     "output_type": "stream",
     "text": [
      "Epoch [1/10], Step [200/1137], TrainLoss: nan; ValidLoss: 0.7356, Accuracy: 0.5026, Precision: 0.4905, Recall: 0.0650, curr_epoch_best_accuracy: 0.5410; Time: 0.23s\n"
     ]
    },
    {
     "name": "stderr",
     "output_type": "stream",
     "text": []
    },
    {
     "name": "stdout",
     "output_type": "stream",
     "text": [
      "Epoch [1/10], Step [200/1137], TrainLoss: nan; ValidLoss: 0.7358, Accuracy: 0.5024, Precision: 0.4912, Recall: 0.0648, curr_epoch_best_accuracy: 0.5410; Time: 0.25s\n"
     ]
    },
    {
     "name": "stderr",
     "output_type": "stream",
     "text": []
    },
    {
     "name": "stdout",
     "output_type": "stream",
     "text": [
      "Epoch [1/10], Step [200/1137], TrainLoss: nan; ValidLoss: 0.7359, Accuracy: 0.5021, Precision: 0.4902, Recall: 0.0647, curr_epoch_best_accuracy: 0.5410; Time: 0.31s\n"
     ]
    },
    {
     "name": "stderr",
     "output_type": "stream",
     "text": []
    },
    {
     "name": "stdout",
     "output_type": "stream",
     "text": [
      "Epoch [1/10], Step [200/1137], TrainLoss: nan; ValidLoss: 0.7358, Accuracy: 0.5021, Precision: 0.4887, Recall: 0.0645, curr_epoch_best_accuracy: 0.5410; Time: 0.28s\n"
     ]
    },
    {
     "name": "stderr",
     "output_type": "stream",
     "text": []
    },
    {
     "name": "stdout",
     "output_type": "stream",
     "text": [
      "Epoch [1/10], Step [200/1137], TrainLoss: nan; ValidLoss: 0.7357, Accuracy: 0.5022, Precision: 0.4894, Recall: 0.0647, curr_epoch_best_accuracy: 0.5410; Time: 0.23s\n"
     ]
    },
    {
     "name": "stderr",
     "output_type": "stream",
     "text": []
    },
    {
     "name": "stdout",
     "output_type": "stream",
     "text": [
      "Epoch [1/10], Step [200/1137], TrainLoss: nan; ValidLoss: 0.7358, Accuracy: 0.5019, Precision: 0.4884, Recall: 0.0644, curr_epoch_best_accuracy: 0.5410; Time: 0.31s\n"
     ]
    },
    {
     "name": "stderr",
     "output_type": "stream",
     "text": []
    },
    {
     "name": "stdout",
     "output_type": "stream",
     "text": [
      "Epoch [1/10], Step [200/1137], TrainLoss: nan; ValidLoss: 0.7357, Accuracy: 0.5020, Precision: 0.4884, Recall: 0.0646, curr_epoch_best_accuracy: 0.5410; Time: 0.30s\n"
     ]
    },
    {
     "name": "stderr",
     "output_type": "stream",
     "text": []
    },
    {
     "name": "stdout",
     "output_type": "stream",
     "text": [
      "Epoch [1/10], Step [200/1137], TrainLoss: nan; ValidLoss: 0.7359, Accuracy: 0.5019, Precision: 0.4885, Recall: 0.0645, curr_epoch_best_accuracy: 0.5410; Time: 0.35s\n"
     ]
    },
    {
     "name": "stderr",
     "output_type": "stream",
     "text": []
    },
    {
     "name": "stdout",
     "output_type": "stream",
     "text": [
      "Epoch [1/10], Step [200/1137], TrainLoss: nan; ValidLoss: 0.7358, Accuracy: 0.5019, Precision: 0.4876, Recall: 0.0643, curr_epoch_best_accuracy: 0.5410; Time: 0.30s\n"
     ]
    },
    {
     "name": "stderr",
     "output_type": "stream",
     "text": []
    },
    {
     "name": "stdout",
     "output_type": "stream",
     "text": [
      "Epoch [1/10], Step [200/1137], TrainLoss: nan; ValidLoss: 0.7359, Accuracy: 0.5018, Precision: 0.4879, Recall: 0.0643, curr_epoch_best_accuracy: 0.5410; Time: 0.26s\n"
     ]
    },
    {
     "name": "stderr",
     "output_type": "stream",
     "text": []
    },
    {
     "name": "stdout",
     "output_type": "stream",
     "text": [
      "Epoch [1/10], Step [200/1137], TrainLoss: nan; ValidLoss: 0.7359, Accuracy: 0.5018, Precision: 0.4873, Recall: 0.0643, curr_epoch_best_accuracy: 0.5410; Time: 0.35s\n"
     ]
    },
    {
     "name": "stderr",
     "output_type": "stream",
     "text": []
    },
    {
     "name": "stdout",
     "output_type": "stream",
     "text": [
      "Epoch [1/10], Step [200/1137], TrainLoss: nan; ValidLoss: 0.7359, Accuracy: 0.5015, Precision: 0.4869, Recall: 0.0641, curr_epoch_best_accuracy: 0.5410; Time: 0.39s\n"
     ]
    },
    {
     "name": "stderr",
     "output_type": "stream",
     "text": []
    },
    {
     "name": "stdout",
     "output_type": "stream",
     "text": [
      "Epoch [1/10], Step [200/1137], TrainLoss: nan; ValidLoss: 0.7357, Accuracy: 0.5019, Precision: 0.4872, Recall: 0.0643, curr_epoch_best_accuracy: 0.5410; Time: 0.34s\n"
     ]
    },
    {
     "name": "stderr",
     "output_type": "stream",
     "text": []
    },
    {
     "name": "stdout",
     "output_type": "stream",
     "text": [
      "Epoch [1/10], Step [200/1137], TrainLoss: nan; ValidLoss: 0.7357, Accuracy: 0.5018, Precision: 0.4870, Recall: 0.0643, curr_epoch_best_accuracy: 0.5410; Time: 0.37s\n"
     ]
    },
    {
     "name": "stderr",
     "output_type": "stream",
     "text": []
    },
    {
     "name": "stdout",
     "output_type": "stream",
     "text": [
      "Epoch [1/10], Step [200/1137], TrainLoss: nan; ValidLoss: 0.7358, Accuracy: 0.5018, Precision: 0.4887, Recall: 0.0645, curr_epoch_best_accuracy: 0.5410; Time: 0.32s\n"
     ]
    },
    {
     "name": "stderr",
     "output_type": "stream",
     "text": []
    },
    {
     "name": "stdout",
     "output_type": "stream",
     "text": [
      "Epoch [1/10], Step [200/1137], TrainLoss: nan; ValidLoss: 0.7357, Accuracy: 0.5019, Precision: 0.4888, Recall: 0.0645, curr_epoch_best_accuracy: 0.5410; Time: 0.38s\n"
     ]
    },
    {
     "name": "stderr",
     "output_type": "stream",
     "text": []
    },
    {
     "name": "stdout",
     "output_type": "stream",
     "text": [
      "Epoch [1/10], Step [200/1137], TrainLoss: nan; ValidLoss: 0.7357, Accuracy: 0.5017, Precision: 0.4887, Recall: 0.0646, curr_epoch_best_accuracy: 0.5410; Time: 0.32s\n"
     ]
    },
    {
     "name": "stderr",
     "output_type": "stream",
     "text": []
    },
    {
     "name": "stdout",
     "output_type": "stream",
     "text": [
      "Epoch [1/10], Step [200/1137], TrainLoss: nan; ValidLoss: 0.7358, Accuracy: 0.5016, Precision: 0.4890, Recall: 0.0646, curr_epoch_best_accuracy: 0.5410; Time: 0.44s\n"
     ]
    },
    {
     "name": "stderr",
     "output_type": "stream",
     "text": []
    },
    {
     "name": "stdout",
     "output_type": "stream",
     "text": [
      "Epoch [1/10], Step [200/1137], TrainLoss: nan; ValidLoss: 0.7357, Accuracy: 0.5017, Precision: 0.4891, Recall: 0.0645, curr_epoch_best_accuracy: 0.5410; Time: 0.32s\n"
     ]
    },
    {
     "name": "stderr",
     "output_type": "stream",
     "text": []
    },
    {
     "name": "stdout",
     "output_type": "stream",
     "text": [
      "Epoch [1/10], Step [200/1137], TrainLoss: nan; ValidLoss: 0.7355, Accuracy: 0.5023, Precision: 0.4898, Recall: 0.0645, curr_epoch_best_accuracy: 0.5410; Time: 0.32s\n"
     ]
    },
    {
     "name": "stderr",
     "output_type": "stream",
     "text": []
    },
    {
     "name": "stdout",
     "output_type": "stream",
     "text": [
      "Epoch [1/10], Step [200/1137], TrainLoss: nan; ValidLoss: 0.7354, Accuracy: 0.5024, Precision: 0.4891, Recall: 0.0644, curr_epoch_best_accuracy: 0.5410; Time: 0.32s\n"
     ]
    },
    {
     "name": "stderr",
     "output_type": "stream",
     "text": []
    },
    {
     "name": "stdout",
     "output_type": "stream",
     "text": [
      "Epoch [1/10], Step [200/1137], TrainLoss: nan; ValidLoss: 0.7353, Accuracy: 0.5024, Precision: 0.4886, Recall: 0.0645, curr_epoch_best_accuracy: 0.5410; Time: 0.34s\n"
     ]
    },
    {
     "name": "stderr",
     "output_type": "stream",
     "text": []
    },
    {
     "name": "stdout",
     "output_type": "stream",
     "text": [
      "Epoch [1/10], Step [200/1137], TrainLoss: nan; ValidLoss: 0.7354, Accuracy: 0.5022, Precision: 0.4893, Recall: 0.0645, curr_epoch_best_accuracy: 0.5410; Time: 0.34s\n"
     ]
    },
    {
     "name": "stderr",
     "output_type": "stream",
     "text": []
    },
    {
     "name": "stdout",
     "output_type": "stream",
     "text": [
      "Epoch [1/10], Step [200/1137], TrainLoss: nan; ValidLoss: 0.7353, Accuracy: 0.5022, Precision: 0.4899, Recall: 0.0646, curr_epoch_best_accuracy: 0.5410; Time: 0.44s\n"
     ]
    },
    {
     "name": "stderr",
     "output_type": "stream",
     "text": []
    },
    {
     "name": "stdout",
     "output_type": "stream",
     "text": [
      "Epoch [1/10], Step [200/1137], TrainLoss: nan; ValidLoss: 0.7356, Accuracy: 0.5019, Precision: 0.4899, Recall: 0.0645, curr_epoch_best_accuracy: 0.5410; Time: 0.37s\n"
     ]
    },
    {
     "name": "stderr",
     "output_type": "stream",
     "text": []
    },
    {
     "name": "stdout",
     "output_type": "stream",
     "text": [
      "Epoch [1/10], Step [200/1137], TrainLoss: nan; ValidLoss: 0.7355, Accuracy: 0.5021, Precision: 0.4912, Recall: 0.0646, curr_epoch_best_accuracy: 0.5410; Time: 0.35s\n"
     ]
    },
    {
     "name": "stderr",
     "output_type": "stream",
     "text": []
    },
    {
     "name": "stdout",
     "output_type": "stream",
     "text": [
      "Epoch [1/10], Step [200/1137], TrainLoss: nan; ValidLoss: 0.7356, Accuracy: 0.5018, Precision: 0.4913, Recall: 0.0646, curr_epoch_best_accuracy: 0.5410; Time: 0.36s\n"
     ]
    },
    {
     "name": "stderr",
     "output_type": "stream",
     "text": []
    },
    {
     "name": "stdout",
     "output_type": "stream",
     "text": [
      "Epoch [1/10], Step [200/1137], TrainLoss: nan; ValidLoss: 0.7357, Accuracy: 0.5018, Precision: 0.4912, Recall: 0.0649, curr_epoch_best_accuracy: 0.5410; Time: 0.37s\n"
     ]
    },
    {
     "name": "stderr",
     "output_type": "stream",
     "text": []
    },
    {
     "name": "stdout",
     "output_type": "stream",
     "text": [
      "Epoch [1/10], Step [200/1137], TrainLoss: nan; ValidLoss: 0.7357, Accuracy: 0.5018, Precision: 0.4916, Recall: 0.0650, curr_epoch_best_accuracy: 0.5410; Time: 0.39s\n"
     ]
    },
    {
     "name": "stderr",
     "output_type": "stream",
     "text": []
    },
    {
     "name": "stdout",
     "output_type": "stream",
     "text": [
      "Epoch [1/10], Step [200/1137], TrainLoss: nan; ValidLoss: 0.7356, Accuracy: 0.5020, Precision: 0.4915, Recall: 0.0650, curr_epoch_best_accuracy: 0.5410; Time: 0.37s\n"
     ]
    },
    {
     "name": "stderr",
     "output_type": "stream",
     "text": []
    },
    {
     "name": "stdout",
     "output_type": "stream",
     "text": [
      "Epoch [1/10], Step [200/1137], TrainLoss: nan; ValidLoss: 0.7354, Accuracy: 0.5024, Precision: 0.4925, Recall: 0.0651, curr_epoch_best_accuracy: 0.5410; Time: 0.34s\n"
     ]
    },
    {
     "name": "stderr",
     "output_type": "stream",
     "text": []
    },
    {
     "name": "stdout",
     "output_type": "stream",
     "text": [
      "Epoch [1/10], Step [200/1137], TrainLoss: nan; ValidLoss: 0.7353, Accuracy: 0.5024, Precision: 0.4914, Recall: 0.0649, curr_epoch_best_accuracy: 0.5410; Time: 0.45s\n"
     ]
    },
    {
     "name": "stderr",
     "output_type": "stream",
     "text": []
    },
    {
     "name": "stdout",
     "output_type": "stream",
     "text": [
      "Epoch [1/10], Step [200/1137], TrainLoss: nan; ValidLoss: 0.7355, Accuracy: 0.5023, Precision: 0.4909, Recall: 0.0648, curr_epoch_best_accuracy: 0.5410; Time: 0.28s\n"
     ]
    },
    {
     "name": "stderr",
     "output_type": "stream",
     "text": []
    },
    {
     "name": "stdout",
     "output_type": "stream",
     "text": [
      "Epoch [1/10], Step [200/1137], TrainLoss: nan; ValidLoss: 0.7356, Accuracy: 0.5021, Precision: 0.4913, Recall: 0.0648, curr_epoch_best_accuracy: 0.5410; Time: 0.32s\n"
     ]
    },
    {
     "name": "stderr",
     "output_type": "stream",
     "text": []
    },
    {
     "name": "stdout",
     "output_type": "stream",
     "text": [
      "Epoch [1/10], Step [200/1137], TrainLoss: nan; ValidLoss: 0.7355, Accuracy: 0.5022, Precision: 0.4917, Recall: 0.0649, curr_epoch_best_accuracy: 0.5410; Time: 0.45s\n"
     ]
    },
    {
     "name": "stderr",
     "output_type": "stream",
     "text": []
    },
    {
     "name": "stdout",
     "output_type": "stream",
     "text": [
      "Epoch [1/10], Step [200/1137], TrainLoss: nan; ValidLoss: 0.7356, Accuracy: 0.5021, Precision: 0.4918, Recall: 0.0649, curr_epoch_best_accuracy: 0.5410; Time: 0.38s\n"
     ]
    },
    {
     "name": "stderr",
     "output_type": "stream",
     "text": []
    },
    {
     "name": "stdout",
     "output_type": "stream",
     "text": [
      "Epoch [1/10], Step [200/1137], TrainLoss: nan; ValidLoss: 0.7356, Accuracy: 0.5020, Precision: 0.4918, Recall: 0.0648, curr_epoch_best_accuracy: 0.5410; Time: 0.32s\n"
     ]
    },
    {
     "name": "stderr",
     "output_type": "stream",
     "text": []
    },
    {
     "name": "stdout",
     "output_type": "stream",
     "text": [
      "Epoch [1/10], Step [200/1137], TrainLoss: nan; ValidLoss: 0.7354, Accuracy: 0.5023, Precision: 0.4912, Recall: 0.0649, curr_epoch_best_accuracy: 0.5410; Time: 0.36s\n"
     ]
    },
    {
     "name": "stderr",
     "output_type": "stream",
     "text": []
    },
    {
     "name": "stdout",
     "output_type": "stream",
     "text": [
      "Epoch [1/10], Step [200/1137], TrainLoss: nan; ValidLoss: 0.7355, Accuracy: 0.5024, Precision: 0.4917, Recall: 0.0650, curr_epoch_best_accuracy: 0.5410; Time: 0.39s\n"
     ]
    },
    {
     "name": "stderr",
     "output_type": "stream",
     "text": []
    },
    {
     "name": "stdout",
     "output_type": "stream",
     "text": [
      "Epoch [1/10], Step [200/1137], TrainLoss: nan; ValidLoss: 0.7354, Accuracy: 0.5024, Precision: 0.4923, Recall: 0.0651, curr_epoch_best_accuracy: 0.5410; Time: 0.41s\n"
     ]
    },
    {
     "name": "stderr",
     "output_type": "stream",
     "text": []
    },
    {
     "name": "stdout",
     "output_type": "stream",
     "text": [
      "Epoch [1/10], Step [200/1137], TrainLoss: nan; ValidLoss: 0.7353, Accuracy: 0.5025, Precision: 0.4937, Recall: 0.0654, curr_epoch_best_accuracy: 0.5410; Time: 0.36s\n"
     ]
    },
    {
     "name": "stderr",
     "output_type": "stream",
     "text": []
    },
    {
     "name": "stdout",
     "output_type": "stream",
     "text": [
      "Epoch [1/10], Step [200/1137], TrainLoss: nan; ValidLoss: 0.7354, Accuracy: 0.5024, Precision: 0.4930, Recall: 0.0653, curr_epoch_best_accuracy: 0.5410; Time: 0.45s\n"
     ]
    },
    {
     "name": "stderr",
     "output_type": "stream",
     "text": []
    },
    {
     "name": "stdout",
     "output_type": "stream",
     "text": [
      "Epoch [1/10], Step [200/1137], TrainLoss: nan; ValidLoss: 0.7354, Accuracy: 0.5025, Precision: 0.4923, Recall: 0.0650, curr_epoch_best_accuracy: 0.5410; Time: 0.52s\n"
     ]
    },
    {
     "name": "stderr",
     "output_type": "stream",
     "text": []
    },
    {
     "name": "stdout",
     "output_type": "stream",
     "text": [
      "Epoch [1/10], Step [200/1137], TrainLoss: nan; ValidLoss: 0.7354, Accuracy: 0.5025, Precision: 0.4927, Recall: 0.0650, curr_epoch_best_accuracy: 0.5410; Time: 0.41s\n"
     ]
    },
    {
     "name": "stderr",
     "output_type": "stream",
     "text": []
    },
    {
     "name": "stdout",
     "output_type": "stream",
     "text": [
      "Epoch [1/10], Step [200/1137], TrainLoss: nan; ValidLoss: 0.7353, Accuracy: 0.5026, Precision: 0.4926, Recall: 0.0650, curr_epoch_best_accuracy: 0.5410; Time: 0.36s\n"
     ]
    },
    {
     "name": "stderr",
     "output_type": "stream",
     "text": []
    },
    {
     "name": "stdout",
     "output_type": "stream",
     "text": [
      "Epoch [1/10], Step [200/1137], TrainLoss: nan; ValidLoss: 0.7354, Accuracy: 0.5026, Precision: 0.4930, Recall: 0.0651, curr_epoch_best_accuracy: 0.5410; Time: 0.40s\n"
     ]
    },
    {
     "name": "stderr",
     "output_type": "stream",
     "text": []
    },
    {
     "name": "stdout",
     "output_type": "stream",
     "text": [
      "Epoch [1/10], Step [200/1137], TrainLoss: nan; ValidLoss: 0.7356, Accuracy: 0.5025, Precision: 0.4939, Recall: 0.0653, curr_epoch_best_accuracy: 0.5410; Time: 0.41s\n"
     ]
    },
    {
     "name": "stderr",
     "output_type": "stream",
     "text": []
    },
    {
     "name": "stdout",
     "output_type": "stream",
     "text": [
      "Epoch [1/10], Step [200/1137], TrainLoss: nan; ValidLoss: 0.7355, Accuracy: 0.5026, Precision: 0.4940, Recall: 0.0651, curr_epoch_best_accuracy: 0.5410; Time: 0.42s\n"
     ]
    },
    {
     "name": "stderr",
     "output_type": "stream",
     "text": []
    },
    {
     "name": "stdout",
     "output_type": "stream",
     "text": [
      "Epoch [1/10], Step [200/1137], TrainLoss: nan; ValidLoss: 0.7355, Accuracy: 0.5025, Precision: 0.4940, Recall: 0.0651, curr_epoch_best_accuracy: 0.5410; Time: 0.41s\n"
     ]
    },
    {
     "name": "stderr",
     "output_type": "stream",
     "text": []
    },
    {
     "name": "stdout",
     "output_type": "stream",
     "text": [
      "Epoch [1/10], Step [200/1137], TrainLoss: nan; ValidLoss: 0.7356, Accuracy: 0.5024, Precision: 0.4942, Recall: 0.0651, curr_epoch_best_accuracy: 0.5410; Time: 0.44s\n"
     ]
    },
    {
     "name": "stderr",
     "output_type": "stream",
     "text": []
    },
    {
     "name": "stdout",
     "output_type": "stream",
     "text": [
      "Epoch [1/10], Step [200/1137], TrainLoss: nan; ValidLoss: 0.7357, Accuracy: 0.5022, Precision: 0.4941, Recall: 0.0651, curr_epoch_best_accuracy: 0.5410; Time: 0.48s\n"
     ]
    },
    {
     "name": "stderr",
     "output_type": "stream",
     "text": []
    },
    {
     "name": "stdout",
     "output_type": "stream",
     "text": [
      "Epoch [1/10], Step [200/1137], TrainLoss: nan; ValidLoss: 0.7359, Accuracy: 0.5019, Precision: 0.4938, Recall: 0.0650, curr_epoch_best_accuracy: 0.5410; Time: 0.41s\n"
     ]
    },
    {
     "name": "stderr",
     "output_type": "stream",
     "text": []
    },
    {
     "name": "stdout",
     "output_type": "stream",
     "text": [
      "Epoch [1/10], Step [200/1137], TrainLoss: nan; ValidLoss: 0.7358, Accuracy: 0.5022, Precision: 0.4935, Recall: 0.0649, curr_epoch_best_accuracy: 0.5410; Time: 0.41s\n"
     ]
    },
    {
     "name": "stderr",
     "output_type": "stream",
     "text": []
    },
    {
     "name": "stdout",
     "output_type": "stream",
     "text": [
      "Epoch [1/10], Step [200/1137], TrainLoss: nan; ValidLoss: 0.7357, Accuracy: 0.5024, Precision: 0.4942, Recall: 0.0650, curr_epoch_best_accuracy: 0.5410; Time: 0.49s\n"
     ]
    },
    {
     "name": "stderr",
     "output_type": "stream",
     "text": []
    },
    {
     "name": "stdout",
     "output_type": "stream",
     "text": [
      "Epoch [1/10], Step [200/1137], TrainLoss: nan; ValidLoss: 0.7356, Accuracy: 0.5026, Precision: 0.4947, Recall: 0.0651, curr_epoch_best_accuracy: 0.5410; Time: 0.44s\n"
     ]
    },
    {
     "name": "stderr",
     "output_type": "stream",
     "text": []
    },
    {
     "name": "stdout",
     "output_type": "stream",
     "text": [
      "Epoch [1/10], Step [200/1137], TrainLoss: nan; ValidLoss: 0.7356, Accuracy: 0.5027, Precision: 0.4946, Recall: 0.0651, curr_epoch_best_accuracy: 0.5410; Time: 0.45s\n"
     ]
    },
    {
     "name": "stderr",
     "output_type": "stream",
     "text": []
    },
    {
     "name": "stdout",
     "output_type": "stream",
     "text": [
      "Epoch [1/10], Step [200/1137], TrainLoss: nan; ValidLoss: 0.7354, Accuracy: 0.5030, Precision: 0.4949, Recall: 0.0652, curr_epoch_best_accuracy: 0.5410; Time: 0.39s\n"
     ]
    },
    {
     "name": "stderr",
     "output_type": "stream",
     "text": []
    },
    {
     "name": "stdout",
     "output_type": "stream",
     "text": [
      "Epoch [1/10], Step [200/1137], TrainLoss: nan; ValidLoss: 0.7354, Accuracy: 0.5030, Precision: 0.4953, Recall: 0.0653, curr_epoch_best_accuracy: 0.5410; Time: 0.42s\n"
     ]
    },
    {
     "name": "stderr",
     "output_type": "stream",
     "text": []
    },
    {
     "name": "stdout",
     "output_type": "stream",
     "text": [
      "Epoch [1/10], Step [200/1137], TrainLoss: nan; ValidLoss: 0.7354, Accuracy: 0.5030, Precision: 0.4950, Recall: 0.0653, curr_epoch_best_accuracy: 0.5410; Time: 0.44s\n"
     ]
    },
    {
     "name": "stderr",
     "output_type": "stream",
     "text": []
    },
    {
     "name": "stdout",
     "output_type": "stream",
     "text": [
      "Epoch [1/10], Step [200/1137], TrainLoss: nan; ValidLoss: 0.7354, Accuracy: 0.5030, Precision: 0.4957, Recall: 0.0655, curr_epoch_best_accuracy: 0.5410; Time: 0.38s\n"
     ]
    },
    {
     "name": "stderr",
     "output_type": "stream",
     "text": []
    },
    {
     "name": "stdout",
     "output_type": "stream",
     "text": [
      "Epoch [1/10], Step [200/1137], TrainLoss: nan; ValidLoss: 0.7353, Accuracy: 0.5031, Precision: 0.4959, Recall: 0.0654, curr_epoch_best_accuracy: 0.5410; Time: 0.39s\n"
     ]
    },
    {
     "name": "stderr",
     "output_type": "stream",
     "text": []
    },
    {
     "name": "stdout",
     "output_type": "stream",
     "text": [
      "Epoch [1/10], Step [200/1137], TrainLoss: nan; ValidLoss: 0.7354, Accuracy: 0.5030, Precision: 0.4963, Recall: 0.0655, curr_epoch_best_accuracy: 0.5410; Time: 0.39s\n"
     ]
    },
    {
     "name": "stderr",
     "output_type": "stream",
     "text": []
    },
    {
     "name": "stdout",
     "output_type": "stream",
     "text": [
      "Epoch [1/10], Step [200/1137], TrainLoss: nan; ValidLoss: 0.7354, Accuracy: 0.5030, Precision: 0.4967, Recall: 0.0655, curr_epoch_best_accuracy: 0.5410; Time: 0.32s\n"
     ]
    },
    {
     "name": "stderr",
     "output_type": "stream",
     "text": []
    },
    {
     "name": "stdout",
     "output_type": "stream",
     "text": [
      "Epoch [1/10], Step [200/1137], TrainLoss: nan; ValidLoss: 0.7355, Accuracy: 0.5027, Precision: 0.4966, Recall: 0.0655, curr_epoch_best_accuracy: 0.5410; Time: 0.39s\n"
     ]
    },
    {
     "name": "stderr",
     "output_type": "stream",
     "text": []
    },
    {
     "name": "stdout",
     "output_type": "stream",
     "text": [
      "Epoch [1/10], Step [200/1137], TrainLoss: nan; ValidLoss: 0.7355, Accuracy: 0.5028, Precision: 0.4971, Recall: 0.0656, curr_epoch_best_accuracy: 0.5410; Time: 0.35s\n"
     ]
    },
    {
     "name": "stderr",
     "output_type": "stream",
     "text": []
    },
    {
     "name": "stdout",
     "output_type": "stream",
     "text": [
      "Epoch [1/10], Step [200/1137], TrainLoss: nan; ValidLoss: 0.7355, Accuracy: 0.5028, Precision: 0.4975, Recall: 0.0657, curr_epoch_best_accuracy: 0.5410; Time: 0.46s\n"
     ]
    },
    {
     "name": "stderr",
     "output_type": "stream",
     "text": []
    },
    {
     "name": "stdout",
     "output_type": "stream",
     "text": [
      "Epoch [1/10], Step [200/1137], TrainLoss: nan; ValidLoss: 0.7358, Accuracy: 0.5026, Precision: 0.4982, Recall: 0.0656, curr_epoch_best_accuracy: 0.5410; Time: 0.40s\n"
     ]
    },
    {
     "name": "stderr",
     "output_type": "stream",
     "text": []
    },
    {
     "name": "stdout",
     "output_type": "stream",
     "text": [
      "Epoch [1/10], Step [200/1137], TrainLoss: nan; ValidLoss: 0.7358, Accuracy: 0.5025, Precision: 0.4975, Recall: 0.0656, curr_epoch_best_accuracy: 0.5410; Time: 0.34s\n"
     ]
    },
    {
     "name": "stderr",
     "output_type": "stream",
     "text": []
    },
    {
     "name": "stdout",
     "output_type": "stream",
     "text": [
      "Epoch [1/10], Step [200/1137], TrainLoss: nan; ValidLoss: 0.7357, Accuracy: 0.5027, Precision: 0.4976, Recall: 0.0657, curr_epoch_best_accuracy: 0.5410; Time: 0.42s\n"
     ]
    },
    {
     "name": "stderr",
     "output_type": "stream",
     "text": []
    },
    {
     "name": "stdout",
     "output_type": "stream",
     "text": [
      "Epoch [1/10], Step [200/1137], TrainLoss: nan; ValidLoss: 0.7357, Accuracy: 0.5027, Precision: 0.4978, Recall: 0.0657, curr_epoch_best_accuracy: 0.5410; Time: 0.39s\n"
     ]
    },
    {
     "name": "stderr",
     "output_type": "stream",
     "text": []
    },
    {
     "name": "stdout",
     "output_type": "stream",
     "text": [
      "Epoch [1/10], Step [200/1137], TrainLoss: nan; ValidLoss: 0.7357, Accuracy: 0.5027, Precision: 0.4963, Recall: 0.0656, curr_epoch_best_accuracy: 0.5410; Time: 0.43s\n"
     ]
    },
    {
     "name": "stderr",
     "output_type": "stream",
     "text": []
    },
    {
     "name": "stdout",
     "output_type": "stream",
     "text": [
      "Epoch [1/10], Step [200/1137], TrainLoss: nan; ValidLoss: 0.7356, Accuracy: 0.5028, Precision: 0.4969, Recall: 0.0657, curr_epoch_best_accuracy: 0.5410; Time: 0.39s\n"
     ]
    },
    {
     "name": "stderr",
     "output_type": "stream",
     "text": []
    },
    {
     "name": "stdout",
     "output_type": "stream",
     "text": [
      "Epoch [1/10], Step [200/1137], TrainLoss: nan; ValidLoss: 0.7356, Accuracy: 0.5028, Precision: 0.4977, Recall: 0.0658, curr_epoch_best_accuracy: 0.5410; Time: 0.41s\n"
     ]
    },
    {
     "name": "stderr",
     "output_type": "stream",
     "text": []
    },
    {
     "name": "stdout",
     "output_type": "stream",
     "text": [
      "Epoch [1/10], Step [200/1137], TrainLoss: nan; ValidLoss: 0.7356, Accuracy: 0.5028, Precision: 0.4969, Recall: 0.0659, curr_epoch_best_accuracy: 0.5410; Time: 0.40s\n"
     ]
    },
    {
     "name": "stderr",
     "output_type": "stream",
     "text": []
    },
    {
     "name": "stdout",
     "output_type": "stream",
     "text": [
      "Epoch [1/10], Step [200/1137], TrainLoss: nan; ValidLoss: 0.7357, Accuracy: 0.5028, Precision: 0.4977, Recall: 0.0661, curr_epoch_best_accuracy: 0.5410; Time: 0.42s\n"
     ]
    },
    {
     "name": "stderr",
     "output_type": "stream",
     "text": []
    },
    {
     "name": "stdout",
     "output_type": "stream",
     "text": [
      "Epoch [1/10], Step [200/1137], TrainLoss: nan; ValidLoss: 0.7358, Accuracy: 0.5026, Precision: 0.4981, Recall: 0.0660, curr_epoch_best_accuracy: 0.5410; Time: 0.42s\n"
     ]
    },
    {
     "name": "stderr",
     "output_type": "stream",
     "text": []
    },
    {
     "name": "stdout",
     "output_type": "stream",
     "text": [
      "Epoch [1/10], Step [200/1137], TrainLoss: nan; ValidLoss: 0.7358, Accuracy: 0.5026, Precision: 0.4987, Recall: 0.0662, curr_epoch_best_accuracy: 0.5410; Time: 0.49s\n"
     ]
    },
    {
     "name": "stderr",
     "output_type": "stream",
     "text": []
    },
    {
     "name": "stdout",
     "output_type": "stream",
     "text": [
      "Epoch [1/10], Step [200/1137], TrainLoss: nan; ValidLoss: 0.7358, Accuracy: 0.5025, Precision: 0.4984, Recall: 0.0663, curr_epoch_best_accuracy: 0.5410; Time: 0.48s\n"
     ]
    },
    {
     "name": "stderr",
     "output_type": "stream",
     "text": []
    },
    {
     "name": "stdout",
     "output_type": "stream",
     "text": [
      "Epoch [1/10], Step [200/1137], TrainLoss: nan; ValidLoss: 0.7357, Accuracy: 0.5026, Precision: 0.4981, Recall: 0.0663, curr_epoch_best_accuracy: 0.5410; Time: 0.47s\n"
     ]
    },
    {
     "name": "stderr",
     "output_type": "stream",
     "text": []
    },
    {
     "name": "stdout",
     "output_type": "stream",
     "text": [
      "Epoch [1/10], Step [200/1137], TrainLoss: nan; ValidLoss: 0.7357, Accuracy: 0.5027, Precision: 0.4987, Recall: 0.0664, curr_epoch_best_accuracy: 0.5410; Time: 0.41s\n"
     ]
    },
    {
     "name": "stderr",
     "output_type": "stream",
     "text": []
    },
    {
     "name": "stdout",
     "output_type": "stream",
     "text": [
      "Epoch [1/10], Step [200/1137], TrainLoss: nan; ValidLoss: 0.7356, Accuracy: 0.5028, Precision: 0.4983, Recall: 0.0665, curr_epoch_best_accuracy: 0.5410; Time: 0.52s\n"
     ]
    },
    {
     "name": "stderr",
     "output_type": "stream",
     "text": []
    },
    {
     "name": "stdout",
     "output_type": "stream",
     "text": [
      "Epoch [1/10], Step [200/1137], TrainLoss: nan; ValidLoss: 0.7357, Accuracy: 0.5026, Precision: 0.4980, Recall: 0.0664, curr_epoch_best_accuracy: 0.5410; Time: 0.41s\n"
     ]
    },
    {
     "name": "stderr",
     "output_type": "stream",
     "text": []
    },
    {
     "name": "stdout",
     "output_type": "stream",
     "text": [
      "Epoch [1/10], Step [200/1137], TrainLoss: nan; ValidLoss: 0.7357, Accuracy: 0.5026, Precision: 0.4990, Recall: 0.0665, curr_epoch_best_accuracy: 0.5410; Time: 0.50s\n"
     ]
    },
    {
     "name": "stderr",
     "output_type": "stream",
     "text": []
    },
    {
     "name": "stdout",
     "output_type": "stream",
     "text": [
      "Epoch [1/10], Step [200/1137], TrainLoss: nan; ValidLoss: 0.7358, Accuracy: 0.5026, Precision: 0.4990, Recall: 0.0665, curr_epoch_best_accuracy: 0.5410; Time: 0.54s\n"
     ]
    },
    {
     "name": "stderr",
     "output_type": "stream",
     "text": []
    },
    {
     "name": "stdout",
     "output_type": "stream",
     "text": [
      "Epoch [1/10], Step [200/1137], TrainLoss: nan; ValidLoss: 0.7357, Accuracy: 0.5026, Precision: 0.4993, Recall: 0.0665, curr_epoch_best_accuracy: 0.5410; Time: 0.46s\n"
     ]
    },
    {
     "name": "stderr",
     "output_type": "stream",
     "text": []
    },
    {
     "name": "stdout",
     "output_type": "stream",
     "text": [
      "Epoch [1/10], Step [200/1137], TrainLoss: nan; ValidLoss: 0.7356, Accuracy: 0.5027, Precision: 0.4998, Recall: 0.0666, curr_epoch_best_accuracy: 0.5410; Time: 0.43s\n"
     ]
    },
    {
     "name": "stderr",
     "output_type": "stream",
     "text": []
    },
    {
     "name": "stdout",
     "output_type": "stream",
     "text": [
      "Epoch [1/10], Step [200/1137], TrainLoss: nan; ValidLoss: 0.7356, Accuracy: 0.5028, Precision: 0.4995, Recall: 0.0666, curr_epoch_best_accuracy: 0.5410; Time: 0.44s\n"
     ]
    },
    {
     "name": "stderr",
     "output_type": "stream",
     "text": []
    },
    {
     "name": "stdout",
     "output_type": "stream",
     "text": [
      "Epoch [1/10], Step [200/1137], TrainLoss: nan; ValidLoss: 0.7356, Accuracy: 0.5028, Precision: 0.4990, Recall: 0.0665, curr_epoch_best_accuracy: 0.5410; Time: 0.45s\n"
     ]
    },
    {
     "name": "stderr",
     "output_type": "stream",
     "text": []
    },
    {
     "name": "stdout",
     "output_type": "stream",
     "text": [
      "Epoch [1/10], Step [200/1137], TrainLoss: nan; ValidLoss: 0.7356, Accuracy: 0.5027, Precision: 0.4982, Recall: 0.0663, curr_epoch_best_accuracy: 0.5410; Time: 0.45s\n"
     ]
    },
    {
     "name": "stderr",
     "output_type": "stream",
     "text": []
    },
    {
     "name": "stdout",
     "output_type": "stream",
     "text": [
      "Epoch [1/10], Step [200/1137], TrainLoss: nan; ValidLoss: 0.7356, Accuracy: 0.5027, Precision: 0.4973, Recall: 0.0664, curr_epoch_best_accuracy: 0.5410; Time: 0.46s\n"
     ]
    },
    {
     "name": "stderr",
     "output_type": "stream",
     "text": []
    },
    {
     "name": "stdout",
     "output_type": "stream",
     "text": [
      "Epoch [1/10], Step [200/1137], TrainLoss: nan; ValidLoss: 0.7356, Accuracy: 0.5027, Precision: 0.4975, Recall: 0.0664, curr_epoch_best_accuracy: 0.5410; Time: 0.36s\n"
     ]
    },
    {
     "name": "stderr",
     "output_type": "stream",
     "text": []
    },
    {
     "name": "stdout",
     "output_type": "stream",
     "text": [
      "Epoch [1/10], Step [200/1137], TrainLoss: nan; ValidLoss: 0.7357, Accuracy: 0.5026, Precision: 0.4976, Recall: 0.0663, curr_epoch_best_accuracy: 0.5410; Time: 0.39s\n"
     ]
    },
    {
     "name": "stderr",
     "output_type": "stream",
     "text": []
    },
    {
     "name": "stdout",
     "output_type": "stream",
     "text": [
      "Epoch [1/10], Step [200/1137], TrainLoss: nan; ValidLoss: 0.7357, Accuracy: 0.5025, Precision: 0.4968, Recall: 0.0663, curr_epoch_best_accuracy: 0.5410; Time: 0.51s\n"
     ]
    },
    {
     "name": "stderr",
     "output_type": "stream",
     "text": []
    },
    {
     "name": "stdout",
     "output_type": "stream",
     "text": [
      "Epoch [1/10], Step [200/1137], TrainLoss: nan; ValidLoss: 0.7358, Accuracy: 0.5025, Precision: 0.4973, Recall: 0.0664, curr_epoch_best_accuracy: 0.5410; Time: 0.41s\n"
     ]
    },
    {
     "name": "stderr",
     "output_type": "stream",
     "text": []
    },
    {
     "name": "stdout",
     "output_type": "stream",
     "text": [
      "Epoch [1/10], Step [200/1137], TrainLoss: nan; ValidLoss: 0.7358, Accuracy: 0.5024, Precision: 0.4974, Recall: 0.0664, curr_epoch_best_accuracy: 0.5410; Time: 0.55s\n"
     ]
    },
    {
     "name": "stderr",
     "output_type": "stream",
     "text": []
    },
    {
     "name": "stdout",
     "output_type": "stream",
     "text": [
      "Epoch [1/10], Step [200/1137], TrainLoss: nan; ValidLoss: 0.7358, Accuracy: 0.5023, Precision: 0.4971, Recall: 0.0664, curr_epoch_best_accuracy: 0.5410; Time: 0.51s\n"
     ]
    },
    {
     "name": "stderr",
     "output_type": "stream",
     "text": []
    },
    {
     "name": "stdout",
     "output_type": "stream",
     "text": [
      "Epoch [1/10], Step [200/1137], TrainLoss: nan; ValidLoss: 0.7359, Accuracy: 0.5023, Precision: 0.4975, Recall: 0.0664, curr_epoch_best_accuracy: 0.5410; Time: 0.67s\n"
     ]
    },
    {
     "name": "stderr",
     "output_type": "stream",
     "text": []
    },
    {
     "name": "stdout",
     "output_type": "stream",
     "text": [
      "Epoch [1/10], Step [200/1137], TrainLoss: nan; ValidLoss: 0.7359, Accuracy: 0.5023, Precision: 0.4977, Recall: 0.0664, curr_epoch_best_accuracy: 0.5410; Time: 0.61s\n"
     ]
    },
    {
     "name": "stderr",
     "output_type": "stream",
     "text": []
    },
    {
     "name": "stdout",
     "output_type": "stream",
     "text": [
      "Epoch [1/10], Step [200/1137], TrainLoss: nan; ValidLoss: 0.7358, Accuracy: 0.5023, Precision: 0.4972, Recall: 0.0663, curr_epoch_best_accuracy: 0.5410; Time: 0.55s\n"
     ]
    },
    {
     "name": "stderr",
     "output_type": "stream",
     "text": []
    },
    {
     "name": "stdout",
     "output_type": "stream",
     "text": [
      "Epoch [1/10], Step [200/1137], TrainLoss: nan; ValidLoss: 0.7357, Accuracy: 0.5025, Precision: 0.4970, Recall: 0.0663, curr_epoch_best_accuracy: 0.5410; Time: 0.44s\n"
     ]
    },
    {
     "name": "stderr",
     "output_type": "stream",
     "text": []
    },
    {
     "name": "stdout",
     "output_type": "stream",
     "text": [
      "Epoch [1/10], Step [200/1137], TrainLoss: nan; ValidLoss: 0.7358, Accuracy: 0.5024, Precision: 0.4974, Recall: 0.0662, curr_epoch_best_accuracy: 0.5410; Time: 0.56s\n"
     ]
    },
    {
     "name": "stderr",
     "output_type": "stream",
     "text": []
    },
    {
     "name": "stdout",
     "output_type": "stream",
     "text": [
      "Epoch [1/10], Step [200/1137], TrainLoss: nan; ValidLoss: 0.7359, Accuracy: 0.5022, Precision: 0.4980, Recall: 0.0662, curr_epoch_best_accuracy: 0.5410; Time: 0.56s\n"
     ]
    },
    {
     "name": "stderr",
     "output_type": "stream",
     "text": []
    },
    {
     "name": "stdout",
     "output_type": "stream",
     "text": [
      "Epoch [1/10], Step [200/1137], TrainLoss: nan; ValidLoss: 0.7358, Accuracy: 0.5024, Precision: 0.4979, Recall: 0.0662, curr_epoch_best_accuracy: 0.5410; Time: 0.60s\n"
     ]
    },
    {
     "name": "stderr",
     "output_type": "stream",
     "text": []
    },
    {
     "name": "stdout",
     "output_type": "stream",
     "text": [
      "Epoch [1/10], Step [200/1137], TrainLoss: nan; ValidLoss: 0.7358, Accuracy: 0.5023, Precision: 0.4976, Recall: 0.0661, curr_epoch_best_accuracy: 0.5410; Time: 0.50s\n"
     ]
    },
    {
     "name": "stderr",
     "output_type": "stream",
     "text": []
    },
    {
     "name": "stdout",
     "output_type": "stream",
     "text": [
      "Epoch [1/10], Step [200/1137], TrainLoss: nan; ValidLoss: 0.7357, Accuracy: 0.5025, Precision: 0.4976, Recall: 0.0661, curr_epoch_best_accuracy: 0.5410; Time: 0.53s\n"
     ]
    },
    {
     "name": "stderr",
     "output_type": "stream",
     "text": []
    },
    {
     "name": "stdout",
     "output_type": "stream",
     "text": [
      "Epoch [1/10], Step [200/1137], TrainLoss: nan; ValidLoss: 0.7358, Accuracy: 0.5024, Precision: 0.4975, Recall: 0.0662, curr_epoch_best_accuracy: 0.5410; Time: 0.50s\n"
     ]
    },
    {
     "name": "stderr",
     "output_type": "stream",
     "text": []
    },
    {
     "name": "stdout",
     "output_type": "stream",
     "text": [
      "Epoch [1/10], Step [200/1137], TrainLoss: nan; ValidLoss: 0.7357, Accuracy: 0.5026, Precision: 0.4972, Recall: 0.0661, curr_epoch_best_accuracy: 0.5410; Time: 0.53s\n"
     ]
    },
    {
     "name": "stderr",
     "output_type": "stream",
     "text": []
    },
    {
     "name": "stdout",
     "output_type": "stream",
     "text": [
      "Epoch [1/10], Step [200/1137], TrainLoss: nan; ValidLoss: 0.7356, Accuracy: 0.5026, Precision: 0.4973, Recall: 0.0662, curr_epoch_best_accuracy: 0.5410; Time: 0.45s\n"
     ]
    },
    {
     "name": "stderr",
     "output_type": "stream",
     "text": []
    },
    {
     "name": "stdout",
     "output_type": "stream",
     "text": [
      "Epoch [1/10], Step [200/1137], TrainLoss: nan; ValidLoss: 0.7355, Accuracy: 0.5028, Precision: 0.4974, Recall: 0.0661, curr_epoch_best_accuracy: 0.5410; Time: 0.47s\n"
     ]
    },
    {
     "name": "stderr",
     "output_type": "stream",
     "text": []
    },
    {
     "name": "stdout",
     "output_type": "stream",
     "text": [
      "Epoch [1/10], Step [200/1137], TrainLoss: nan; ValidLoss: 0.7355, Accuracy: 0.5028, Precision: 0.4977, Recall: 0.0662, curr_epoch_best_accuracy: 0.5410; Time: 0.46s\n"
     ]
    },
    {
     "name": "stderr",
     "output_type": "stream",
     "text": []
    },
    {
     "name": "stdout",
     "output_type": "stream",
     "text": [
      "Epoch [1/10], Step [200/1137], TrainLoss: nan; ValidLoss: 0.7354, Accuracy: 0.5029, Precision: 0.4969, Recall: 0.0661, curr_epoch_best_accuracy: 0.5410; Time: 0.47s\n"
     ]
    },
    {
     "name": "stderr",
     "output_type": "stream",
     "text": []
    },
    {
     "name": "stdout",
     "output_type": "stream",
     "text": [
      "Epoch [1/10], Step [200/1137], TrainLoss: nan; ValidLoss: 0.7355, Accuracy: 0.5027, Precision: 0.4967, Recall: 0.0661, curr_epoch_best_accuracy: 0.5410; Time: 0.51s\n"
     ]
    },
    {
     "name": "stderr",
     "output_type": "stream",
     "text": []
    },
    {
     "name": "stdout",
     "output_type": "stream",
     "text": [
      "Epoch [1/10], Step [200/1137], TrainLoss: nan; ValidLoss: 0.7355, Accuracy: 0.5027, Precision: 0.4963, Recall: 0.0660, curr_epoch_best_accuracy: 0.5410; Time: 0.59s\n"
     ]
    },
    {
     "name": "stderr",
     "output_type": "stream",
     "text": []
    },
    {
     "name": "stdout",
     "output_type": "stream",
     "text": [
      "Epoch [1/10], Step [200/1137], TrainLoss: nan; ValidLoss: 0.7357, Accuracy: 0.5025, Precision: 0.4969, Recall: 0.0660, curr_epoch_best_accuracy: 0.5410; Time: 0.51s\n"
     ]
    },
    {
     "name": "stderr",
     "output_type": "stream",
     "text": []
    },
    {
     "name": "stdout",
     "output_type": "stream",
     "text": [
      "Epoch [1/10], Step [200/1137], TrainLoss: nan; ValidLoss: 0.7357, Accuracy: 0.5024, Precision: 0.4966, Recall: 0.0660, curr_epoch_best_accuracy: 0.5410; Time: 0.50s\n"
     ]
    },
    {
     "name": "stderr",
     "output_type": "stream",
     "text": []
    },
    {
     "name": "stdout",
     "output_type": "stream",
     "text": [
      "Epoch [1/10], Step [200/1137], TrainLoss: nan; ValidLoss: 0.7357, Accuracy: 0.5023, Precision: 0.4962, Recall: 0.0658, curr_epoch_best_accuracy: 0.5410; Time: 0.38s\n"
     ]
    },
    {
     "name": "stderr",
     "output_type": "stream",
     "text": []
    },
    {
     "name": "stdout",
     "output_type": "stream",
     "text": [
      "Epoch [1/10], Step [200/1137], TrainLoss: nan; ValidLoss: 0.7357, Accuracy: 0.5024, Precision: 0.4960, Recall: 0.0658, curr_epoch_best_accuracy: 0.5410; Time: 0.46s\n"
     ]
    },
    {
     "name": "stderr",
     "output_type": "stream",
     "text": []
    },
    {
     "name": "stdout",
     "output_type": "stream",
     "text": [
      "Epoch [1/10], Step [200/1137], TrainLoss: nan; ValidLoss: 0.7356, Accuracy: 0.5024, Precision: 0.4965, Recall: 0.0659, curr_epoch_best_accuracy: 0.5410; Time: 0.44s\n"
     ]
    },
    {
     "name": "stderr",
     "output_type": "stream",
     "text": []
    },
    {
     "name": "stdout",
     "output_type": "stream",
     "text": [
      "Epoch [1/10], Step [200/1137], TrainLoss: nan; ValidLoss: 0.7356, Accuracy: 0.5025, Precision: 0.4970, Recall: 0.0661, curr_epoch_best_accuracy: 0.5410; Time: 0.45s\n"
     ]
    },
    {
     "name": "stderr",
     "output_type": "stream",
     "text": []
    },
    {
     "name": "stdout",
     "output_type": "stream",
     "text": [
      "Epoch [1/10], Step [200/1137], TrainLoss: nan; ValidLoss: 0.7356, Accuracy: 0.5025, Precision: 0.4970, Recall: 0.0660, curr_epoch_best_accuracy: 0.5410; Time: 0.50s\n"
     ]
    },
    {
     "name": "stderr",
     "output_type": "stream",
     "text": []
    },
    {
     "name": "stdout",
     "output_type": "stream",
     "text": [
      "Epoch [1/10], Step [200/1137], TrainLoss: nan; ValidLoss: 0.7356, Accuracy: 0.5025, Precision: 0.4969, Recall: 0.0660, curr_epoch_best_accuracy: 0.5410; Time: 0.56s\n"
     ]
    },
    {
     "name": "stderr",
     "output_type": "stream",
     "text": []
    },
    {
     "name": "stdout",
     "output_type": "stream",
     "text": [
      "Epoch [1/10], Step [200/1137], TrainLoss: nan; ValidLoss: 0.7357, Accuracy: 0.5025, Precision: 0.4973, Recall: 0.0660, curr_epoch_best_accuracy: 0.5410; Time: 0.52s\n"
     ]
    },
    {
     "name": "stderr",
     "output_type": "stream",
     "text": []
    },
    {
     "name": "stdout",
     "output_type": "stream",
     "text": [
      "Epoch [1/10], Step [200/1137], TrainLoss: nan; ValidLoss: 0.7356, Accuracy: 0.5025, Precision: 0.4974, Recall: 0.0660, curr_epoch_best_accuracy: 0.5410; Time: 0.53s\n"
     ]
    },
    {
     "name": "stderr",
     "output_type": "stream",
     "text": []
    },
    {
     "name": "stdout",
     "output_type": "stream",
     "text": [
      "Epoch [1/10], Step [200/1137], TrainLoss: nan; ValidLoss: 0.7356, Accuracy: 0.5025, Precision: 0.4979, Recall: 0.0662, curr_epoch_best_accuracy: 0.5410; Time: 0.55s\n"
     ]
    },
    {
     "name": "stderr",
     "output_type": "stream",
     "text": []
    },
    {
     "name": "stdout",
     "output_type": "stream",
     "text": [
      "Epoch [1/10], Step [200/1137], TrainLoss: nan; ValidLoss: 0.7357, Accuracy: 0.5024, Precision: 0.4978, Recall: 0.0661, curr_epoch_best_accuracy: 0.5410; Time: 0.53s\n"
     ]
    },
    {
     "name": "stderr",
     "output_type": "stream",
     "text": []
    },
    {
     "name": "stdout",
     "output_type": "stream",
     "text": [
      "Epoch [1/10], Step [200/1137], TrainLoss: nan; ValidLoss: 0.7357, Accuracy: 0.5024, Precision: 0.4973, Recall: 0.0661, curr_epoch_best_accuracy: 0.5410; Time: 0.57s\n"
     ]
    },
    {
     "name": "stderr",
     "output_type": "stream",
     "text": []
    },
    {
     "name": "stdout",
     "output_type": "stream",
     "text": [
      "Epoch [1/10], Step [200/1137], TrainLoss: nan; ValidLoss: 0.7357, Accuracy: 0.5023, Precision: 0.4972, Recall: 0.0661, curr_epoch_best_accuracy: 0.5410; Time: 0.61s\n"
     ]
    },
    {
     "name": "stderr",
     "output_type": "stream",
     "text": []
    },
    {
     "name": "stdout",
     "output_type": "stream",
     "text": [
      "Epoch [1/10], Step [200/1137], TrainLoss: nan; ValidLoss: 0.7357, Accuracy: 0.5023, Precision: 0.4967, Recall: 0.0661, curr_epoch_best_accuracy: 0.5410; Time: 0.53s\n"
     ]
    },
    {
     "name": "stderr",
     "output_type": "stream",
     "text": []
    },
    {
     "name": "stdout",
     "output_type": "stream",
     "text": [
      "Epoch [1/10], Step [200/1137], TrainLoss: nan; ValidLoss: 0.7358, Accuracy: 0.5022, Precision: 0.4968, Recall: 0.0661, curr_epoch_best_accuracy: 0.5410; Time: 0.50s\n"
     ]
    },
    {
     "name": "stderr",
     "output_type": "stream",
     "text": []
    },
    {
     "name": "stdout",
     "output_type": "stream",
     "text": [
      "Epoch [1/10], Step [200/1137], TrainLoss: nan; ValidLoss: 0.7357, Accuracy: 0.5023, Precision: 0.4967, Recall: 0.0661, curr_epoch_best_accuracy: 0.5410; Time: 0.52s\n"
     ]
    },
    {
     "name": "stderr",
     "output_type": "stream",
     "text": []
    },
    {
     "name": "stdout",
     "output_type": "stream",
     "text": [
      "Epoch [1/10], Step [200/1137], TrainLoss: nan; ValidLoss: 0.7356, Accuracy: 0.5025, Precision: 0.4965, Recall: 0.0661, curr_epoch_best_accuracy: 0.5410; Time: 0.63s\n"
     ]
    },
    {
     "name": "stderr",
     "output_type": "stream",
     "text": []
    },
    {
     "name": "stdout",
     "output_type": "stream",
     "text": [
      "Epoch [1/10], Step [200/1137], TrainLoss: nan; ValidLoss: 0.7356, Accuracy: 0.5025, Precision: 0.4962, Recall: 0.0661, curr_epoch_best_accuracy: 0.5410; Time: 0.57s\n"
     ]
    },
    {
     "name": "stderr",
     "output_type": "stream",
     "text": []
    },
    {
     "name": "stdout",
     "output_type": "stream",
     "text": [
      "Epoch [1/10], Step [200/1137], TrainLoss: nan; ValidLoss: 0.7357, Accuracy: 0.5023, Precision: 0.4963, Recall: 0.0661, curr_epoch_best_accuracy: 0.5410; Time: 0.54s\n"
     ]
    },
    {
     "name": "stderr",
     "output_type": "stream",
     "text": []
    },
    {
     "name": "stdout",
     "output_type": "stream",
     "text": [
      "Epoch [1/10], Step [200/1137], TrainLoss: nan; ValidLoss: 0.7357, Accuracy: 0.5024, Precision: 0.4963, Recall: 0.0661, curr_epoch_best_accuracy: 0.5410; Time: 0.58s\n"
     ]
    },
    {
     "name": "stderr",
     "output_type": "stream",
     "text": []
    },
    {
     "name": "stdout",
     "output_type": "stream",
     "text": [
      "Epoch [1/10], Step [200/1137], TrainLoss: nan; ValidLoss: 0.7356, Accuracy: 0.5025, Precision: 0.4972, Recall: 0.0663, curr_epoch_best_accuracy: 0.5410; Time: 0.51s\n"
     ]
    },
    {
     "name": "stderr",
     "output_type": "stream",
     "text": []
    },
    {
     "name": "stdout",
     "output_type": "stream",
     "text": [
      "Epoch [1/10], Step [200/1137], TrainLoss: nan; ValidLoss: 0.7356, Accuracy: 0.5025, Precision: 0.4971, Recall: 0.0663, curr_epoch_best_accuracy: 0.5410; Time: 0.56s\n"
     ]
    },
    {
     "name": "stderr",
     "output_type": "stream",
     "text": []
    },
    {
     "name": "stdout",
     "output_type": "stream",
     "text": [
      "Epoch [1/10], Step [200/1137], TrainLoss: nan; ValidLoss: 0.7356, Accuracy: 0.5025, Precision: 0.4976, Recall: 0.0664, curr_epoch_best_accuracy: 0.5410; Time: 0.51s\n"
     ]
    },
    {
     "name": "stderr",
     "output_type": "stream",
     "text": []
    },
    {
     "name": "stdout",
     "output_type": "stream",
     "text": [
      "Epoch [1/10], Step [200/1137], TrainLoss: nan; ValidLoss: 0.7356, Accuracy: 0.5026, Precision: 0.4977, Recall: 0.0664, curr_epoch_best_accuracy: 0.5410; Time: 0.57s\n"
     ]
    },
    {
     "name": "stderr",
     "output_type": "stream",
     "text": []
    },
    {
     "name": "stdout",
     "output_type": "stream",
     "text": [
      "Epoch [1/10], Step [200/1137], TrainLoss: nan; ValidLoss: 0.7357, Accuracy: 0.5024, Precision: 0.4974, Recall: 0.0664, curr_epoch_best_accuracy: 0.5410; Time: 0.47s\n"
     ]
    },
    {
     "name": "stderr",
     "output_type": "stream",
     "text": []
    },
    {
     "name": "stdout",
     "output_type": "stream",
     "text": [
      "Epoch [1/10], Step [200/1137], TrainLoss: nan; ValidLoss: 0.7357, Accuracy: 0.5024, Precision: 0.4973, Recall: 0.0664, curr_epoch_best_accuracy: 0.5410; Time: 0.61s\n"
     ]
    },
    {
     "name": "stderr",
     "output_type": "stream",
     "text": []
    },
    {
     "name": "stdout",
     "output_type": "stream",
     "text": [
      "Epoch [1/10], Step [200/1137], TrainLoss: nan; ValidLoss: 0.7356, Accuracy: 0.5026, Precision: 0.4975, Recall: 0.0664, curr_epoch_best_accuracy: 0.5410; Time: 0.61s\n"
     ]
    },
    {
     "name": "stderr",
     "output_type": "stream",
     "text": []
    },
    {
     "name": "stdout",
     "output_type": "stream",
     "text": [
      "Epoch [1/10], Step [200/1137], TrainLoss: nan; ValidLoss: 0.7356, Accuracy: 0.5026, Precision: 0.4978, Recall: 0.0664, curr_epoch_best_accuracy: 0.5410; Time: 0.69s\n"
     ]
    },
    {
     "name": "stderr",
     "output_type": "stream",
     "text": []
    },
    {
     "name": "stdout",
     "output_type": "stream",
     "text": [
      "Epoch [1/10], Step [200/1137], TrainLoss: nan; ValidLoss: 0.7356, Accuracy: 0.5025, Precision: 0.4975, Recall: 0.0664, curr_epoch_best_accuracy: 0.5410; Time: 0.54s\n"
     ]
    },
    {
     "name": "stderr",
     "output_type": "stream",
     "text": []
    },
    {
     "name": "stdout",
     "output_type": "stream",
     "text": [
      "Epoch [1/10], Step [200/1137], TrainLoss: nan; ValidLoss: 0.7357, Accuracy: 0.5026, Precision: 0.4974, Recall: 0.0664, curr_epoch_best_accuracy: 0.5410; Time: 0.56s\n"
     ]
    },
    {
     "name": "stderr",
     "output_type": "stream",
     "text": []
    },
    {
     "name": "stdout",
     "output_type": "stream",
     "text": [
      "Epoch [1/10], Step [200/1137], TrainLoss: nan; ValidLoss: 0.7357, Accuracy: 0.5025, Precision: 0.4979, Recall: 0.0665, curr_epoch_best_accuracy: 0.5410; Time: 0.57s\n"
     ]
    },
    {
     "name": "stderr",
     "output_type": "stream",
     "text": []
    },
    {
     "name": "stdout",
     "output_type": "stream",
     "text": [
      "Epoch [1/10], Step [200/1137], TrainLoss: nan; ValidLoss: 0.7357, Accuracy: 0.5025, Precision: 0.4980, Recall: 0.0665, curr_epoch_best_accuracy: 0.5410; Time: 0.58s\n"
     ]
    },
    {
     "name": "stderr",
     "output_type": "stream",
     "text": []
    },
    {
     "name": "stdout",
     "output_type": "stream",
     "text": [
      "Epoch [1/10], Step [200/1137], TrainLoss: nan; ValidLoss: 0.7357, Accuracy: 0.5025, Precision: 0.4977, Recall: 0.0665, curr_epoch_best_accuracy: 0.5410; Time: 0.56s\n"
     ]
    },
    {
     "name": "stderr",
     "output_type": "stream",
     "text": []
    },
    {
     "name": "stdout",
     "output_type": "stream",
     "text": [
      "Epoch [1/10], Step [200/1137], TrainLoss: nan; ValidLoss: 0.7357, Accuracy: 0.5025, Precision: 0.4976, Recall: 0.0665, curr_epoch_best_accuracy: 0.5410; Time: 0.58s\n"
     ]
    },
    {
     "name": "stderr",
     "output_type": "stream",
     "text": []
    },
    {
     "name": "stdout",
     "output_type": "stream",
     "text": [
      "Epoch [1/10], Step [200/1137], TrainLoss: nan; ValidLoss: 0.7358, Accuracy: 0.5024, Precision: 0.4975, Recall: 0.0664, curr_epoch_best_accuracy: 0.5410; Time: 0.63s\n"
     ]
    },
    {
     "name": "stderr",
     "output_type": "stream",
     "text": []
    },
    {
     "name": "stdout",
     "output_type": "stream",
     "text": [
      "Epoch [1/10], Step [200/1137], TrainLoss: nan; ValidLoss: 0.7359, Accuracy: 0.5023, Precision: 0.4971, Recall: 0.0664, curr_epoch_best_accuracy: 0.5410; Time: 0.95s\n"
     ]
    },
    {
     "name": "stderr",
     "output_type": "stream",
     "text": []
    },
    {
     "name": "stdout",
     "output_type": "stream",
     "text": [
      "Epoch [1/10], Step [200/1137], TrainLoss: nan; ValidLoss: 0.7359, Accuracy: 0.5023, Precision: 0.4970, Recall: 0.0664, curr_epoch_best_accuracy: 0.5410; Time: 0.59s\n"
     ]
    },
    {
     "name": "stderr",
     "output_type": "stream",
     "text": []
    },
    {
     "name": "stdout",
     "output_type": "stream",
     "text": [
      "Epoch [1/10], Step [200/1137], TrainLoss: nan; ValidLoss: 0.7360, Accuracy: 0.5021, Precision: 0.4975, Recall: 0.0664, curr_epoch_best_accuracy: 0.5410; Time: 0.53s\n"
     ]
    },
    {
     "name": "stderr",
     "output_type": "stream",
     "text": []
    },
    {
     "name": "stdout",
     "output_type": "stream",
     "text": [
      "Epoch [1/10], Step [200/1137], TrainLoss: nan; ValidLoss: 0.7360, Accuracy: 0.5020, Precision: 0.4975, Recall: 0.0664, curr_epoch_best_accuracy: 0.5410; Time: 0.74s\n"
     ]
    },
    {
     "name": "stderr",
     "output_type": "stream",
     "text": []
    },
    {
     "name": "stdout",
     "output_type": "stream",
     "text": [
      "Epoch [1/10], Step [200/1137], TrainLoss: nan; ValidLoss: 0.7360, Accuracy: 0.5021, Precision: 0.4982, Recall: 0.0666, curr_epoch_best_accuracy: 0.5410; Time: 0.55s\n"
     ]
    },
    {
     "name": "stderr",
     "output_type": "stream",
     "text": []
    },
    {
     "name": "stdout",
     "output_type": "stream",
     "text": [
      "Epoch [1/10], Step [200/1137], TrainLoss: nan; ValidLoss: 0.7360, Accuracy: 0.5020, Precision: 0.4984, Recall: 0.0665, curr_epoch_best_accuracy: 0.5410; Time: 0.54s\n"
     ]
    },
    {
     "name": "stderr",
     "output_type": "stream",
     "text": []
    },
    {
     "name": "stdout",
     "output_type": "stream",
     "text": [
      "Epoch [1/10], Step [200/1137], TrainLoss: nan; ValidLoss: 0.7361, Accuracy: 0.5020, Precision: 0.4986, Recall: 0.0665, curr_epoch_best_accuracy: 0.5410; Time: 0.57s\n"
     ]
    },
    {
     "name": "stderr",
     "output_type": "stream",
     "text": []
    },
    {
     "name": "stdout",
     "output_type": "stream",
     "text": [
      "Epoch [1/10], Step [200/1137], TrainLoss: nan; ValidLoss: 0.7361, Accuracy: 0.5020, Precision: 0.4985, Recall: 0.0665, curr_epoch_best_accuracy: 0.5410; Time: 0.57s\n"
     ]
    },
    {
     "name": "stderr",
     "output_type": "stream",
     "text": []
    },
    {
     "name": "stdout",
     "output_type": "stream",
     "text": [
      "Epoch [1/10], Step [200/1137], TrainLoss: nan; ValidLoss: 0.7361, Accuracy: 0.5020, Precision: 0.4987, Recall: 0.0665, curr_epoch_best_accuracy: 0.5410; Time: 0.63s\n"
     ]
    },
    {
     "name": "stderr",
     "output_type": "stream",
     "text": []
    },
    {
     "name": "stdout",
     "output_type": "stream",
     "text": [
      "Epoch [1/10], Step [200/1137], TrainLoss: nan; ValidLoss: 0.7361, Accuracy: 0.5020, Precision: 0.4991, Recall: 0.0665, curr_epoch_best_accuracy: 0.5410; Time: 0.64s\n"
     ]
    },
    {
     "name": "stderr",
     "output_type": "stream",
     "text": []
    },
    {
     "name": "stdout",
     "output_type": "stream",
     "text": [
      "Epoch [1/10], Step [200/1137], TrainLoss: nan; ValidLoss: 0.7361, Accuracy: 0.5021, Precision: 0.4987, Recall: 0.0666, curr_epoch_best_accuracy: 0.5410; Time: 0.64s\n"
     ]
    },
    {
     "name": "stderr",
     "output_type": "stream",
     "text": []
    },
    {
     "name": "stdout",
     "output_type": "stream",
     "text": [
      "Epoch [1/10], Step [200/1137], TrainLoss: nan; ValidLoss: 0.7361, Accuracy: 0.5020, Precision: 0.4984, Recall: 0.0665, curr_epoch_best_accuracy: 0.5410; Time: 0.53s\n"
     ]
    },
    {
     "name": "stderr",
     "output_type": "stream",
     "text": []
    },
    {
     "name": "stdout",
     "output_type": "stream",
     "text": [
      "Epoch [1/10], Step [200/1137], TrainLoss: nan; ValidLoss: 0.7360, Accuracy: 0.5021, Precision: 0.4986, Recall: 0.0666, curr_epoch_best_accuracy: 0.5410; Time: 0.62s\n"
     ]
    },
    {
     "name": "stderr",
     "output_type": "stream",
     "text": []
    },
    {
     "name": "stdout",
     "output_type": "stream",
     "text": [
      "Epoch [1/10], Step [200/1137], TrainLoss: nan; ValidLoss: 0.7360, Accuracy: 0.5023, Precision: 0.4991, Recall: 0.0667, curr_epoch_best_accuracy: 0.5410; Time: 0.88s\n"
     ]
    },
    {
     "name": "stderr",
     "output_type": "stream",
     "text": []
    },
    {
     "name": "stdout",
     "output_type": "stream",
     "text": [
      "Epoch [1/10], Step [200/1137], TrainLoss: nan; ValidLoss: 0.7360, Accuracy: 0.5022, Precision: 0.4991, Recall: 0.0668, curr_epoch_best_accuracy: 0.5410; Time: 0.68s\n"
     ]
    },
    {
     "name": "stderr",
     "output_type": "stream",
     "text": []
    },
    {
     "name": "stdout",
     "output_type": "stream",
     "text": [
      "Epoch [1/10], Step [200/1137], TrainLoss: nan; ValidLoss: 0.7360, Accuracy: 0.5021, Precision: 0.4991, Recall: 0.0668, curr_epoch_best_accuracy: 0.5410; Time: 0.61s\n"
     ]
    },
    {
     "name": "stderr",
     "output_type": "stream",
     "text": []
    },
    {
     "name": "stdout",
     "output_type": "stream",
     "text": [
      "Epoch [1/10], Step [200/1137], TrainLoss: nan; ValidLoss: 0.7361, Accuracy: 0.5021, Precision: 0.4991, Recall: 0.0668, curr_epoch_best_accuracy: 0.5410; Time: 0.54s\n"
     ]
    },
    {
     "name": "stderr",
     "output_type": "stream",
     "text": []
    },
    {
     "name": "stdout",
     "output_type": "stream",
     "text": [
      "Epoch [1/10], Step [200/1137], TrainLoss: nan; ValidLoss: 0.7361, Accuracy: 0.5020, Precision: 0.4990, Recall: 0.0668, curr_epoch_best_accuracy: 0.5410; Time: 0.66s\n"
     ]
    },
    {
     "name": "stderr",
     "output_type": "stream",
     "text": []
    },
    {
     "name": "stdout",
     "output_type": "stream",
     "text": [
      "Epoch [1/10], Step [200/1137], TrainLoss: nan; ValidLoss: 0.7361, Accuracy: 0.5020, Precision: 0.4992, Recall: 0.0669, curr_epoch_best_accuracy: 0.5410; Time: 0.63s\n"
     ]
    },
    {
     "name": "stderr",
     "output_type": "stream",
     "text": [
      "264it [01:40,  2.64it/s]\n",
      "199it [04:10,  1.26s/it]\n"
     ]
    },
    {
     "ename": "KeyboardInterrupt",
     "evalue": "",
     "output_type": "error",
     "traceback": [
      "\u001b[0;31m---------------------------------------------------------------------------\u001b[0m",
      "\u001b[0;31mKeyboardInterrupt\u001b[0m                         Traceback (most recent call last)",
      "Cell \u001b[0;32mIn[31], line 93\u001b[0m\n\u001b[1;32m     87\u001b[0m v_accuracy \u001b[39m=\u001b[39m metrics\u001b[39m.\u001b[39maccuracy_score(\n\u001b[1;32m     88\u001b[0m     vlabels_total, vpredicted_total\n\u001b[1;32m     89\u001b[0m )\n\u001b[1;32m     90\u001b[0m v_precision \u001b[39m=\u001b[39m metrics\u001b[39m.\u001b[39mprecision_score(\n\u001b[1;32m     91\u001b[0m     vlabels_total, vpredicted_total\n\u001b[1;32m     92\u001b[0m )\n\u001b[0;32m---> 93\u001b[0m v_recall \u001b[39m=\u001b[39m metrics\u001b[39m.\u001b[39;49mrecall_score(vlabels_total, vpredicted_total)\n\u001b[1;32m     94\u001b[0m \u001b[39mif\u001b[39;00m v_accuracy \u001b[39m>\u001b[39m curr_best_accuracy_epoch:\n\u001b[1;32m     95\u001b[0m     curr_best_accuracy_epoch \u001b[39m=\u001b[39m v_accuracy\n",
      "File \u001b[0;32m~/anaconda3/envs/deepsignal/lib/python3.8/site-packages/sklearn/utils/_param_validation.py:211\u001b[0m, in \u001b[0;36mvalidate_params.<locals>.decorator.<locals>.wrapper\u001b[0;34m(*args, **kwargs)\u001b[0m\n\u001b[1;32m    205\u001b[0m \u001b[39mtry\u001b[39;00m:\n\u001b[1;32m    206\u001b[0m     \u001b[39mwith\u001b[39;00m config_context(\n\u001b[1;32m    207\u001b[0m         skip_parameter_validation\u001b[39m=\u001b[39m(\n\u001b[1;32m    208\u001b[0m             prefer_skip_nested_validation \u001b[39mor\u001b[39;00m global_skip_validation\n\u001b[1;32m    209\u001b[0m         )\n\u001b[1;32m    210\u001b[0m     ):\n\u001b[0;32m--> 211\u001b[0m         \u001b[39mreturn\u001b[39;00m func(\u001b[39m*\u001b[39;49margs, \u001b[39m*\u001b[39;49m\u001b[39m*\u001b[39;49mkwargs)\n\u001b[1;32m    212\u001b[0m \u001b[39mexcept\u001b[39;00m InvalidParameterError \u001b[39mas\u001b[39;00m e:\n\u001b[1;32m    213\u001b[0m     \u001b[39m# When the function is just a wrapper around an estimator, we allow\u001b[39;00m\n\u001b[1;32m    214\u001b[0m     \u001b[39m# the function to delegate validation to the estimator, but we replace\u001b[39;00m\n\u001b[1;32m    215\u001b[0m     \u001b[39m# the name of the estimator by the name of the function in the error\u001b[39;00m\n\u001b[1;32m    216\u001b[0m     \u001b[39m# message to avoid confusion.\u001b[39;00m\n\u001b[1;32m    217\u001b[0m     msg \u001b[39m=\u001b[39m re\u001b[39m.\u001b[39msub(\n\u001b[1;32m    218\u001b[0m         \u001b[39mr\u001b[39m\u001b[39m\"\u001b[39m\u001b[39mparameter of \u001b[39m\u001b[39m\\\u001b[39m\u001b[39mw+ must be\u001b[39m\u001b[39m\"\u001b[39m,\n\u001b[1;32m    219\u001b[0m         \u001b[39mf\u001b[39m\u001b[39m\"\u001b[39m\u001b[39mparameter of \u001b[39m\u001b[39m{\u001b[39;00mfunc\u001b[39m.\u001b[39m\u001b[39m__qualname__\u001b[39m\u001b[39m}\u001b[39;00m\u001b[39m must be\u001b[39m\u001b[39m\"\u001b[39m,\n\u001b[1;32m    220\u001b[0m         \u001b[39mstr\u001b[39m(e),\n\u001b[1;32m    221\u001b[0m     )\n",
      "File \u001b[0;32m~/anaconda3/envs/deepsignal/lib/python3.8/site-packages/sklearn/metrics/_classification.py:2299\u001b[0m, in \u001b[0;36mrecall_score\u001b[0;34m(y_true, y_pred, labels, pos_label, average, sample_weight, zero_division)\u001b[0m\n\u001b[1;32m   2140\u001b[0m \u001b[39m@validate_params\u001b[39m(\n\u001b[1;32m   2141\u001b[0m     {\n\u001b[1;32m   2142\u001b[0m         \u001b[39m\"\u001b[39m\u001b[39my_true\u001b[39m\u001b[39m\"\u001b[39m: [\u001b[39m\"\u001b[39m\u001b[39marray-like\u001b[39m\u001b[39m\"\u001b[39m, \u001b[39m\"\u001b[39m\u001b[39msparse matrix\u001b[39m\u001b[39m\"\u001b[39m],\n\u001b[0;32m   (...)\u001b[0m\n\u001b[1;32m   2166\u001b[0m     zero_division\u001b[39m=\u001b[39m\u001b[39m\"\u001b[39m\u001b[39mwarn\u001b[39m\u001b[39m\"\u001b[39m,\n\u001b[1;32m   2167\u001b[0m ):\n\u001b[1;32m   2168\u001b[0m \u001b[39m    \u001b[39m\u001b[39m\"\"\"Compute the recall.\u001b[39;00m\n\u001b[1;32m   2169\u001b[0m \n\u001b[1;32m   2170\u001b[0m \u001b[39m    The recall is the ratio ``tp / (tp + fn)`` where ``tp`` is the number of\u001b[39;00m\n\u001b[0;32m   (...)\u001b[0m\n\u001b[1;32m   2297\u001b[0m \u001b[39m    array([1. , 1. , 0.5])\u001b[39;00m\n\u001b[1;32m   2298\u001b[0m \u001b[39m    \"\"\"\u001b[39;00m\n\u001b[0;32m-> 2299\u001b[0m     _, r, _, _ \u001b[39m=\u001b[39m precision_recall_fscore_support(\n\u001b[1;32m   2300\u001b[0m         y_true,\n\u001b[1;32m   2301\u001b[0m         y_pred,\n\u001b[1;32m   2302\u001b[0m         labels\u001b[39m=\u001b[39;49mlabels,\n\u001b[1;32m   2303\u001b[0m         pos_label\u001b[39m=\u001b[39;49mpos_label,\n\u001b[1;32m   2304\u001b[0m         average\u001b[39m=\u001b[39;49maverage,\n\u001b[1;32m   2305\u001b[0m         warn_for\u001b[39m=\u001b[39;49m(\u001b[39m\"\u001b[39;49m\u001b[39mrecall\u001b[39;49m\u001b[39m\"\u001b[39;49m,),\n\u001b[1;32m   2306\u001b[0m         sample_weight\u001b[39m=\u001b[39;49msample_weight,\n\u001b[1;32m   2307\u001b[0m         zero_division\u001b[39m=\u001b[39;49mzero_division,\n\u001b[1;32m   2308\u001b[0m     )\n\u001b[1;32m   2309\u001b[0m     \u001b[39mreturn\u001b[39;00m r\n",
      "File \u001b[0;32m~/anaconda3/envs/deepsignal/lib/python3.8/site-packages/sklearn/utils/_param_validation.py:184\u001b[0m, in \u001b[0;36mvalidate_params.<locals>.decorator.<locals>.wrapper\u001b[0;34m(*args, **kwargs)\u001b[0m\n\u001b[1;32m    182\u001b[0m global_skip_validation \u001b[39m=\u001b[39m get_config()[\u001b[39m\"\u001b[39m\u001b[39mskip_parameter_validation\u001b[39m\u001b[39m\"\u001b[39m]\n\u001b[1;32m    183\u001b[0m \u001b[39mif\u001b[39;00m global_skip_validation:\n\u001b[0;32m--> 184\u001b[0m     \u001b[39mreturn\u001b[39;00m func(\u001b[39m*\u001b[39;49margs, \u001b[39m*\u001b[39;49m\u001b[39m*\u001b[39;49mkwargs)\n\u001b[1;32m    186\u001b[0m func_sig \u001b[39m=\u001b[39m signature(func)\n\u001b[1;32m    188\u001b[0m \u001b[39m# Map *args/**kwargs to the function signature\u001b[39;00m\n",
      "File \u001b[0;32m~/anaconda3/envs/deepsignal/lib/python3.8/site-packages/sklearn/metrics/_classification.py:1721\u001b[0m, in \u001b[0;36mprecision_recall_fscore_support\u001b[0;34m(y_true, y_pred, beta, labels, pos_label, average, warn_for, sample_weight, zero_division)\u001b[0m\n\u001b[1;32m   1563\u001b[0m \u001b[39m\u001b[39m\u001b[39m\"\"\"Compute precision, recall, F-measure and support for each class.\u001b[39;00m\n\u001b[1;32m   1564\u001b[0m \n\u001b[1;32m   1565\u001b[0m \u001b[39mThe precision is the ratio ``tp / (tp + fp)`` where ``tp`` is the number of\u001b[39;00m\n\u001b[0;32m   (...)\u001b[0m\n\u001b[1;32m   1718\u001b[0m \u001b[39m array([2, 2, 2]))\u001b[39;00m\n\u001b[1;32m   1719\u001b[0m \u001b[39m\"\"\"\u001b[39;00m\n\u001b[1;32m   1720\u001b[0m zero_division_value \u001b[39m=\u001b[39m _check_zero_division(zero_division)\n\u001b[0;32m-> 1721\u001b[0m labels \u001b[39m=\u001b[39m _check_set_wise_labels(y_true, y_pred, average, labels, pos_label)\n\u001b[1;32m   1723\u001b[0m \u001b[39m# Calculate tp_sum, pred_sum, true_sum ###\u001b[39;00m\n\u001b[1;32m   1724\u001b[0m samplewise \u001b[39m=\u001b[39m average \u001b[39m==\u001b[39m \u001b[39m\"\u001b[39m\u001b[39msamples\u001b[39m\u001b[39m\"\u001b[39m\n",
      "File \u001b[0;32m~/anaconda3/envs/deepsignal/lib/python3.8/site-packages/sklearn/metrics/_classification.py:1499\u001b[0m, in \u001b[0;36m_check_set_wise_labels\u001b[0;34m(y_true, y_pred, average, labels, pos_label)\u001b[0m\n\u001b[1;32m   1496\u001b[0m \u001b[39mif\u001b[39;00m average \u001b[39mnot\u001b[39;00m \u001b[39min\u001b[39;00m average_options \u001b[39mand\u001b[39;00m average \u001b[39m!=\u001b[39m \u001b[39m\"\u001b[39m\u001b[39mbinary\u001b[39m\u001b[39m\"\u001b[39m:\n\u001b[1;32m   1497\u001b[0m     \u001b[39mraise\u001b[39;00m \u001b[39mValueError\u001b[39;00m(\u001b[39m\"\u001b[39m\u001b[39maverage has to be one of \u001b[39m\u001b[39m\"\u001b[39m \u001b[39m+\u001b[39m \u001b[39mstr\u001b[39m(average_options))\n\u001b[0;32m-> 1499\u001b[0m y_type, y_true, y_pred \u001b[39m=\u001b[39m _check_targets(y_true, y_pred)\n\u001b[1;32m   1500\u001b[0m \u001b[39m# Convert to Python primitive type to avoid NumPy type / Python str\u001b[39;00m\n\u001b[1;32m   1501\u001b[0m \u001b[39m# comparison. See https://github.com/numpy/numpy/issues/6784\u001b[39;00m\n\u001b[1;32m   1502\u001b[0m present_labels \u001b[39m=\u001b[39m unique_labels(y_true, y_pred)\u001b[39m.\u001b[39mtolist()\n",
      "File \u001b[0;32m~/anaconda3/envs/deepsignal/lib/python3.8/site-packages/sklearn/metrics/_classification.py:111\u001b[0m, in \u001b[0;36m_check_targets\u001b[0;34m(y_true, y_pred)\u001b[0m\n\u001b[1;32m    109\u001b[0m \u001b[39mif\u001b[39;00m y_type \u001b[39m==\u001b[39m \u001b[39m\"\u001b[39m\u001b[39mbinary\u001b[39m\u001b[39m\"\u001b[39m:\n\u001b[1;32m    110\u001b[0m     \u001b[39mtry\u001b[39;00m:\n\u001b[0;32m--> 111\u001b[0m         unique_values \u001b[39m=\u001b[39m np\u001b[39m.\u001b[39;49munion1d(y_true, y_pred)\n\u001b[1;32m    112\u001b[0m     \u001b[39mexcept\u001b[39;00m \u001b[39mTypeError\u001b[39;00m \u001b[39mas\u001b[39;00m e:\n\u001b[1;32m    113\u001b[0m         \u001b[39m# We expect y_true and y_pred to be of the same data type.\u001b[39;00m\n\u001b[1;32m    114\u001b[0m         \u001b[39m# If `y_true` was provided to the classifier as strings,\u001b[39;00m\n\u001b[1;32m    115\u001b[0m         \u001b[39m# `y_pred` given by the classifier will also be encoded with\u001b[39;00m\n\u001b[1;32m    116\u001b[0m         \u001b[39m# strings. So we raise a meaningful error\u001b[39;00m\n\u001b[1;32m    117\u001b[0m         \u001b[39mraise\u001b[39;00m \u001b[39mTypeError\u001b[39;00m(\n\u001b[1;32m    118\u001b[0m             \u001b[39m\"\u001b[39m\u001b[39mLabels in y_true and y_pred should be of the same type. \u001b[39m\u001b[39m\"\u001b[39m\n\u001b[1;32m    119\u001b[0m             \u001b[39mf\u001b[39m\u001b[39m\"\u001b[39m\u001b[39mGot y_true=\u001b[39m\u001b[39m{\u001b[39;00mnp\u001b[39m.\u001b[39munique(y_true)\u001b[39m}\u001b[39;00m\u001b[39m and \u001b[39m\u001b[39m\"\u001b[39m\n\u001b[0;32m   (...)\u001b[0m\n\u001b[1;32m    122\u001b[0m             \u001b[39m\"\u001b[39m\u001b[39mthe true labels.\u001b[39m\u001b[39m\"\u001b[39m\n\u001b[1;32m    123\u001b[0m         ) \u001b[39mfrom\u001b[39;00m \u001b[39me\u001b[39;00m\n",
      "File \u001b[0;32m<__array_function__ internals>:180\u001b[0m, in \u001b[0;36munion1d\u001b[0;34m(*args, **kwargs)\u001b[0m\n",
      "File \u001b[0;32m~/anaconda3/envs/deepsignal/lib/python3.8/site-packages/numpy/lib/arraysetops.py:777\u001b[0m, in \u001b[0;36munion1d\u001b[0;34m(ar1, ar2)\u001b[0m\n\u001b[1;32m    743\u001b[0m \u001b[39m@array_function_dispatch\u001b[39m(_union1d_dispatcher)\n\u001b[1;32m    744\u001b[0m \u001b[39mdef\u001b[39;00m \u001b[39munion1d\u001b[39m(ar1, ar2):\n\u001b[1;32m    745\u001b[0m \u001b[39m    \u001b[39m\u001b[39m\"\"\"\u001b[39;00m\n\u001b[1;32m    746\u001b[0m \u001b[39m    Find the union of two arrays.\u001b[39;00m\n\u001b[1;32m    747\u001b[0m \n\u001b[0;32m   (...)\u001b[0m\n\u001b[1;32m    775\u001b[0m \u001b[39m    array([1, 2, 3, 4, 6])\u001b[39;00m\n\u001b[1;32m    776\u001b[0m \u001b[39m    \"\"\"\u001b[39;00m\n\u001b[0;32m--> 777\u001b[0m     \u001b[39mreturn\u001b[39;00m unique(np\u001b[39m.\u001b[39;49mconcatenate((ar1, ar2), axis\u001b[39m=\u001b[39;49m\u001b[39mNone\u001b[39;49;00m))\n",
      "File \u001b[0;32m<__array_function__ internals>:180\u001b[0m, in \u001b[0;36munique\u001b[0;34m(*args, **kwargs)\u001b[0m\n",
      "File \u001b[0;32m~/anaconda3/envs/deepsignal/lib/python3.8/site-packages/numpy/lib/arraysetops.py:272\u001b[0m, in \u001b[0;36munique\u001b[0;34m(ar, return_index, return_inverse, return_counts, axis)\u001b[0m\n\u001b[1;32m    270\u001b[0m ar \u001b[39m=\u001b[39m np\u001b[39m.\u001b[39masanyarray(ar)\n\u001b[1;32m    271\u001b[0m \u001b[39mif\u001b[39;00m axis \u001b[39mis\u001b[39;00m \u001b[39mNone\u001b[39;00m:\n\u001b[0;32m--> 272\u001b[0m     ret \u001b[39m=\u001b[39m _unique1d(ar, return_index, return_inverse, return_counts)\n\u001b[1;32m    273\u001b[0m     \u001b[39mreturn\u001b[39;00m _unpack_tuple(ret)\n\u001b[1;32m    275\u001b[0m \u001b[39m# axis was specified and not None\u001b[39;00m\n",
      "File \u001b[0;32m~/anaconda3/envs/deepsignal/lib/python3.8/site-packages/numpy/lib/arraysetops.py:333\u001b[0m, in \u001b[0;36m_unique1d\u001b[0;34m(ar, return_index, return_inverse, return_counts)\u001b[0m\n\u001b[1;32m    331\u001b[0m     aux \u001b[39m=\u001b[39m ar[perm]\n\u001b[1;32m    332\u001b[0m \u001b[39melse\u001b[39;00m:\n\u001b[0;32m--> 333\u001b[0m     ar\u001b[39m.\u001b[39;49msort()\n\u001b[1;32m    334\u001b[0m     aux \u001b[39m=\u001b[39m ar\n\u001b[1;32m    335\u001b[0m mask \u001b[39m=\u001b[39m np\u001b[39m.\u001b[39mempty(aux\u001b[39m.\u001b[39mshape, dtype\u001b[39m=\u001b[39mnp\u001b[39m.\u001b[39mbool_)\n",
      "\u001b[0;31mKeyboardInterrupt\u001b[0m: "
     ]
    }
   ],
   "source": [
    "import sys\n",
    "from torch.optim.lr_scheduler import StepLR\n",
    "import time\n",
    "from sklearn import metrics\n",
    "import re\n",
    "from tqdm import tqdm\n",
    "\n",
    "\n",
    "from torch.utils.data import sampler\n",
    "import warnings\n",
    "warnings.simplefilter('ignore')\n",
    "\n",
    "if __name__ == \"__main__\":\n",
    "    total_start = time.time()\n",
    "    args = parse_args()\n",
    "    train_dataset = SignalDataset(args.train_file)\n",
    "\n",
    "    split_num = int(len(train_dataset) * 0.8)\n",
    "    index_list = list(range(len(train_dataset)))\n",
    "    train_idx, val_idx = index_list[:split_num], index_list[split_num:]\n",
    " \n",
    "    train_sampler = sampler.SubsetRandomSampler(train_idx)\n",
    "    val_sampler = sampler.SubsetRandomSampler(val_idx)\n",
    "\n",
    "    train_loader = torch.utils.data.DataLoader(\n",
    "        dataset=train_dataset, batch_size=args.batch_size, sampler=train_sampler\n",
    "    )\n",
    "    total_step = len(train_loader)\n",
    "    valid_loader = torch.utils.data.DataLoader(\n",
    "        dataset=train_dataset, batch_size=args.batch_size, sampler=val_sampler\n",
    "    )\n",
    "    model = CapsNet()\n",
    "    criterion = CapsuleLoss()\n",
    "    optimizer = torch.optim.Adam(model.parameters(), lr=args.lr)\n",
    "    scheduler = StepLR(optimizer, step_size=2, gamma=0.1)\n",
    "    curr_best_accuracy = 0\n",
    "    model_dir = args.model_dir\n",
    "    if model_dir != \"/\":\n",
    "        model_dir = os.path.abspath(model_dir).rstrip(\"/\")\n",
    "        if not os.path.exists(model_dir):\n",
    "            os.makedirs(model_dir)\n",
    "        else:\n",
    "            model_regex = re.compile(\n",
    "                r\"\" + \"\\.b\\d+_s\\d+_epoch\\d+\\.ckpt*\"\n",
    "            )\n",
    "            for mfile in os.listdir(model_dir):\n",
    "                if model_regex.match(mfile):\n",
    "                    os.remove(model_dir + \"/\" + mfile)\n",
    "        model_dir += \"/\"\n",
    "    model.train()\n",
    "    for epoch in range(args.max_epoch_num):\n",
    "        curr_best_accuracy_epoch = 0\n",
    "        no_best_model = True\n",
    "        tlosses = []\n",
    "        start = time.time()\n",
    "        for i, sfeatures in tqdm(enumerate(train_loader)):\n",
    "            (seq, signal, labels) = sfeatures\n",
    "            outputs = model(seq, signal)\n",
    "            loss = criterion(outputs, labels)\n",
    "            #print(loss)\n",
    "            print(loss.detach().item())\n",
    "            tlosses.append(loss.detach().item())\n",
    "\n",
    "            # Backward and optimize\n",
    "            optimizer.zero_grad()\n",
    "            loss.backward()\n",
    "            torch.nn.utils.clip_grad_norm_(model.parameters(), 0.5)\n",
    "            optimizer.step()\n",
    "            if (i + 1) % args.step_interval == 0 or i == total_step - 1:\n",
    "                model.eval()\n",
    "                with torch.no_grad():\n",
    "                    vlosses, vlabels_total, vpredicted_total = [], [], []\n",
    "                    for vi, vsfeatures in tqdm(enumerate(valid_loader)):\n",
    "                        (\n",
    "                            vseq,\n",
    "                            vsignal,\n",
    "                            vlabels,\n",
    "                        ) = vsfeatures\n",
    "                        voutputs = model(vseq, vsignal)\n",
    "                        vloss = criterion(voutputs, vlabels)\n",
    "\n",
    "                        _, vpredicted = torch.max(voutputs.data, 1)\n",
    "                        #print(vpredicted)\n",
    "                        vlosses.append(vloss.item())\n",
    "                        vlabels_total += vlabels.tolist()\n",
    "                        vpredicted_total += vpredicted.tolist()\n",
    "                        v_accuracy = metrics.accuracy_score(\n",
    "                            vlabels_total, vpredicted_total\n",
    "                        )\n",
    "                        v_precision = metrics.precision_score(\n",
    "                            vlabels_total, vpredicted_total\n",
    "                        )\n",
    "                        v_recall = metrics.recall_score(vlabels_total, vpredicted_total)\n",
    "                        if v_accuracy > curr_best_accuracy_epoch:\n",
    "                            curr_best_accuracy_epoch = v_accuracy\n",
    "                            if curr_best_accuracy_epoch > curr_best_accuracy - 0.0002:\n",
    "                                torch.save(\n",
    "                                    model.state_dict(),\n",
    "                                    model_dir\n",
    "                                    + \".epoch{}.ckpt\".format(\n",
    "                                        epoch\n",
    "                                    ),\n",
    "                                )\n",
    "                                if curr_best_accuracy_epoch > curr_best_accuracy:\n",
    "                                    curr_best_accuracy = curr_best_accuracy_epoch\n",
    "                                    no_best_model = False\n",
    "                        time_cost = time.time() - start\n",
    "                        print(\n",
    "                            \"Epoch [{}/{}], Step [{}/{}], TrainLoss: {:.4f}; \"\n",
    "                            \"ValidLoss: {:.4f}, \"\n",
    "                            \"Accuracy: {:.4f}, Precision: {:.4f}, Recall: {:.4f}, \"\n",
    "                            \"curr_epoch_best_accuracy: {:.4f}; Time: {:.2f}s\".format(\n",
    "                                epoch + 1,\n",
    "                                args.max_epoch_num,\n",
    "                                i + 1,\n",
    "                                total_step,\n",
    "                                np.mean(tlosses),\n",
    "                                np.mean(vlosses),\n",
    "                                v_accuracy,\n",
    "                                v_precision,\n",
    "                                v_recall,\n",
    "                                curr_best_accuracy_epoch,\n",
    "                                time_cost,\n",
    "                            )\n",
    "                        )\n",
    "                        tlosses = []\n",
    "                        start = time.time()\n",
    "                        sys.stdout.flush()\n",
    "                    model.train()\n",
    "            scheduler.step()\n",
    "            if no_best_model and epoch >= args.min_epoch_num - 1:\n",
    "                print(\"early stop!\")\n",
    "                break\n",
    "        endtime = time.time()\n",
    "        clear_linecache()\n",
    "        print(\n",
    "            \"[main] train costs {} seconds, \"\n",
    "            \"best accuracy: {}\".format(endtime - total_start, curr_best_accuracy)\n",
    "        )"
   ]
  }
 ],
 "metadata": {
  "kernelspec": {
   "display_name": "deepsignal",
   "language": "python",
   "name": "python3"
  },
  "language_info": {
   "codemirror_mode": {
    "name": "ipython",
    "version": 3
   },
   "file_extension": ".py",
   "mimetype": "text/x-python",
   "name": "python",
   "nbconvert_exporter": "python",
   "pygments_lexer": "ipython3",
   "version": "3.8.0"
  },
  "orig_nbformat": 4
 },
 "nbformat": 4,
 "nbformat_minor": 2
}
